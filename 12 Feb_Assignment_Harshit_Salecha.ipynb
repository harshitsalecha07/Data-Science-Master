{
 "cells": [
  {
   "cell_type": "code",
   "execution_count": 1,
   "id": "f838ee93",
   "metadata": {},
   "outputs": [],
   "source": [
    "### What is an Exception in Python? Write the difference between Exception and Syntax error?"
   ]
  },
  {
   "cell_type": "markdown",
   "id": "ffc86171",
   "metadata": {},
   "source": [
    "###### Exception are raised when an error occured during the execution of any Python program. For dealing and handling of the error in Python program we used try-except block. With the help of try-except block we execute a Exception handling process for dealing with the occurend and upcoming errors.\n",
    "###### Exception is different than Syntax error. A Syntax error is an error it will occurr when the console gets anything wrong with the Syntax of any Python function. But on the other hand Exception is raised against an error during the execution of any python program."
   ]
  },
  {
   "cell_type": "code",
   "execution_count": 2,
   "id": "b0a7b6af",
   "metadata": {},
   "outputs": [],
   "source": [
    "### Q2. What happens when an exception is not handled? Explain with an example."
   ]
  },
  {
   "cell_type": "markdown",
   "id": "827951c9",
   "metadata": {},
   "source": [
    "###### When an exception is not handled, it results in a runtime error, and the program terminates abruptly, without completing its execution. This behavior is known as an unhandled exception."
   ]
  },
  {
   "cell_type": "code",
   "execution_count": 11,
   "id": "87b72c9c",
   "metadata": {},
   "outputs": [
    {
     "ename": "SyntaxError",
     "evalue": "invalid syntax (917596973.py, line 3)",
     "output_type": "error",
     "traceback": [
      "\u001b[1;36m  Cell \u001b[1;32mIn[11], line 3\u001b[1;36m\u001b[0m\n\u001b[1;33m    a=open(\"Example_file_1\",\"w\") as f:\u001b[0m\n\u001b[1;37m                                 ^\u001b[0m\n\u001b[1;31mSyntaxError\u001b[0m\u001b[1;31m:\u001b[0m invalid syntax\n"
     ]
    }
   ],
   "source": [
    "### Example of unhandled exception\n",
    "try:\n",
    "    a=open(\"Example_file_1\",\"w\") as f:\n",
    "    a.write(\"This is the example of the above question\")\n",
    "except Exception as e:\n",
    "    print(\"Error Occured\")\n",
    "else: \n",
    "    a.close()\n",
    "finally:\n",
    "    print(\"Your program is completed\")"
   ]
  },
  {
   "cell_type": "code",
   "execution_count": 7,
   "id": "13f70924",
   "metadata": {},
   "outputs": [],
   "source": [
    "### Q3. Which Python statements are used to catch and handle exceptions? Explain with an example."
   ]
  },
  {
   "cell_type": "markdown",
   "id": "6d70a296",
   "metadata": {},
   "source": [
    "###### For catching and handling the exceptions we always use try-except block. With the help of try-except block we can easily deal with the occurred error and show a particular output in place of an error."
   ]
  },
  {
   "cell_type": "code",
   "execution_count": 10,
   "id": "b2a1af5c",
   "metadata": {},
   "outputs": [
    {
     "name": "stdout",
     "output_type": "stream",
     "text": [
      "Your program is completed\n"
     ]
    }
   ],
   "source": [
    "### Example of try-except block:\n",
    "try:\n",
    "    a=open(\"Example_file_1\",\"w\")\n",
    "    a.write(\"This is the example of the above question\")\n",
    "except Exception as e:\n",
    "    print(\"Error Occured\")\n",
    "else: \n",
    "    a.close()\n",
    "finally:\n",
    "    print(\"Your program is completed\")"
   ]
  },
  {
   "cell_type": "code",
   "execution_count": 12,
   "id": "125a579d",
   "metadata": {},
   "outputs": [
    {
     "data": {
      "text/plain": [
       "'Q4. Explain with an example:\\na. try and else\\nb. finally\\nc. raise'"
      ]
     },
     "execution_count": 12,
     "metadata": {},
     "output_type": "execute_result"
    }
   ],
   "source": [
    "'''Q4. Explain with an example:\n",
    "a. try and else\n",
    "b. finally\n",
    "c. raise'''"
   ]
  },
  {
   "cell_type": "code",
   "execution_count": 13,
   "id": "20b598de",
   "metadata": {},
   "outputs": [],
   "source": [
    "class laptopprice(Exception):\n",
    "    def __init__(self,price):\n",
    "        self.price=price"
   ]
  },
  {
   "cell_type": "code",
   "execution_count": 15,
   "id": "8ca8f13e",
   "metadata": {},
   "outputs": [],
   "source": [
    "def laptop_price(price):\n",
    "    if price<30000:\n",
    "        raise laptopprice(\"Price of a laptop is between Rs. 30k to Rs.50k\") # raise is a calling property of class inside any python function."
   ]
  },
  {
   "cell_type": "code",
   "execution_count": 16,
   "id": "6fc2574f",
   "metadata": {},
   "outputs": [
    {
     "name": "stdout",
     "output_type": "stream",
     "text": [
      "Entre the price of the laptop : 5\n",
      "Price of a laptop is between Rs. 30k to Rs.50k\n",
      "Your program is completed\n"
     ]
    }
   ],
   "source": [
    "try: # Try and else is the python in-built function. With the help of try the function takes the code that may raise an error and if try function false then it will execute the except function.\n",
    "    price=int(input(\"Entre the price of the laptop : \"))\n",
    "    laptop_price(price)\n",
    "except laptopprice as e:\n",
    "    print(e)\n",
    "else:\n",
    "    print(\"Your laptop price is valid and it is : {}\".format(price)) #If it is true then it will execute the else function and console will take each and every command which are available in else\n",
    "finally: # Finally is also Python in-built function which always executes either try and else worked or not. \n",
    "    print(\"Your program is completed\")"
   ]
  },
  {
   "cell_type": "code",
   "execution_count": 17,
   "id": "ae0809d5",
   "metadata": {},
   "outputs": [],
   "source": [
    "### Q5. What are Custom Exceptions in python? Why do we need Custom Exceptions? Explain with an example."
   ]
  },
  {
   "cell_type": "markdown",
   "id": "ef0f67e5",
   "metadata": {},
   "source": [
    "###### Custom exceptions is a way to handle the exceptions by customisablely. Custom exception handling can be providing more specific error message and making the code more readable and maintainable.  They can also help you handle errors in a more granular way and allowing you to provide different handling strategies for different types of errors. "
   ]
  },
  {
   "cell_type": "code",
   "execution_count": 20,
   "id": "b3d4ee5f",
   "metadata": {},
   "outputs": [],
   "source": [
    "### Example of Custom exception Handling: \n",
    "class dance(Exception):\n",
    "    def __init__(self,age):\n",
    "        self.age=age"
   ]
  },
  {
   "cell_type": "code",
   "execution_count": 23,
   "id": "3b499891",
   "metadata": {},
   "outputs": [],
   "source": [
    "def dance_age(age):\n",
    "    if age<0:\n",
    "        raise dance(\"Age of a person can never be negative\")\n",
    "    elif age>=0 and age<=4:\n",
    "        raise dance(\"Dancer age should be more than 4\")"
   ]
  },
  {
   "cell_type": "code",
   "execution_count": 25,
   "id": "9ae7e964",
   "metadata": {},
   "outputs": [
    {
     "name": "stdout",
     "output_type": "stream",
     "text": [
      "Entre your age : -1\n",
      "Age of a person can never be negative\n",
      "Your program is completed\n"
     ]
    }
   ],
   "source": [
    "try:\n",
    "    age=int(input(\"Entre your age : \"))\n",
    "    dance_age(age)\n",
    "except dance as e:\n",
    "    print(e)\n",
    "else: \n",
    "    print(\"You are eligible for dance because your age is : {} years\".format(age))\n",
    "finally:\n",
    "    print(\"Your program is completed\")"
   ]
  },
  {
   "cell_type": "code",
   "execution_count": 27,
   "id": "b242b6ec",
   "metadata": {},
   "outputs": [
    {
     "name": "stdout",
     "output_type": "stream",
     "text": [
      "Entre your number for creating a table : -5\n",
      "Your number is lesser than zero. Please entre any positive number\n",
      "Your program is completed\n"
     ]
    }
   ],
   "source": [
    "### Q6. Create a custom exception class. Use this class to handle an exception.\n",
    "class table_number(Exception):\n",
    "    def __init__(self,message):\n",
    "        self.message=message\n",
    "def number_for_table(num):\n",
    "    if num<0:\n",
    "        raise table_number(\"Your number is lesser than zero. Please entre any positive number\")\n",
    "    elif num==0:\n",
    "        raise table_number(\"Your number is zero so all the numbers in your zeroth table is zero\")\n",
    "try:\n",
    "    num=int(input(\"Entre your number for creating a table : \"))\n",
    "    number_for_table(num)\n",
    "except table_number as e:\n",
    "    print(e)\n",
    "else:\n",
    "    for i in range (1,11,1):\n",
    "        print(\"{num}*{i}={table}\".format(num=num,i=i,table=(num*i)))\n",
    "finally:\n",
    "    print(\"Your program is completed\")"
   ]
  },
  {
   "cell_type": "code",
   "execution_count": null,
   "id": "95d7b35b",
   "metadata": {},
   "outputs": [],
   "source": []
  }
 ],
 "metadata": {
  "kernelspec": {
   "display_name": "Python 3 (ipykernel)",
   "language": "python",
   "name": "python3"
  },
  "language_info": {
   "codemirror_mode": {
    "name": "ipython",
    "version": 3
   },
   "file_extension": ".py",
   "mimetype": "text/x-python",
   "name": "python",
   "nbconvert_exporter": "python",
   "pygments_lexer": "ipython3",
   "version": "3.10.9"
  }
 },
 "nbformat": 4,
 "nbformat_minor": 5
}
