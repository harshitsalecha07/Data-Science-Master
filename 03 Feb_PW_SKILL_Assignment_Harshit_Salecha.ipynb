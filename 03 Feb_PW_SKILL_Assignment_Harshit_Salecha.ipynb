{
 "cells": [
  {
   "cell_type": "markdown",
   "id": "2e0d65f4",
   "metadata": {},
   "source": [
    "### Q1. Which keyword is used to create a function? Create a function to return a list of odd numbers in the range of 1 to 25."
   ]
  },
  {
   "cell_type": "markdown",
   "id": "6f8dbfbf",
   "metadata": {},
   "source": [
    "###### def is the keyword by which we can create a function. In other words the combination of def and return is a function in Python"
   ]
  },
  {
   "cell_type": "code",
   "execution_count": 8,
   "id": "79ebe5ae",
   "metadata": {},
   "outputs": [],
   "source": [
    "# Function to return a list of odd numbers in range of 1 to 25:\n",
    "def odd_num():\n",
    "    n=[]\n",
    "    for i in range(26):\n",
    "        if i%2!=0:\n",
    "            n.append(i)\n",
    "    return(n)"
   ]
  },
  {
   "cell_type": "code",
   "execution_count": 9,
   "id": "5759c6d1",
   "metadata": {},
   "outputs": [
    {
     "name": "stdout",
     "output_type": "stream",
     "text": [
      "[1, 3, 5, 7, 9, 11, 13, 15, 17, 19, 21, 23, 25]\n"
     ]
    }
   ],
   "source": [
    "print(odd_num())"
   ]
  },
  {
   "cell_type": "markdown",
   "id": "9e9b5e04",
   "metadata": {},
   "source": [
    "### Q2. Why *args and **kwargs is used in some functions? Create a function each for *args and **kwargs to demonstrate their use."
   ]
  },
  {
   "cell_type": "markdown",
   "id": "dab81e5e",
   "metadata": {},
   "source": [
    "###### With the help of *args we can create a function which carries the any 'n' numbers of arguments and with the help of **kwargs we can create a function which carries the combination of key and values pairs it means we can create a function of dictionary with the help of **kwargs"
   ]
  },
  {
   "cell_type": "code",
   "execution_count": 12,
   "id": "17f17180",
   "metadata": {},
   "outputs": [],
   "source": [
    "# Function for *args\n",
    "def v1(*args):\n",
    "    return(args)"
   ]
  },
  {
   "cell_type": "markdown",
   "id": "23c2a53c",
   "metadata": {},
   "source": [
    "###### With the help of the above function, whenever we call v1 it starts the function and takes n number of arguments. for example"
   ]
  },
  {
   "cell_type": "code",
   "execution_count": 19,
   "id": "3aa3cbf9",
   "metadata": {},
   "outputs": [
    {
     "name": "stdout",
     "output_type": "stream",
     "text": [
      "(1, 2, 3, 4, 6, 8, 5, 9, 54, 8, 4, 7, 3, 7, 4, 8, 3, 8, 3, 68, 9, 4, 8, 9, 5, 9)\n",
      " The length of x is :  26\n"
     ]
    }
   ],
   "source": [
    "### F1\n",
    "x=v1(1,2,3,4,6,8,5,9,54,8,4,7,3,7,4,8,3,8,3,68,9,4,8,9,5,9)\n",
    "print(x,end=\"\")\n",
    "print(\"\\n The length of x is : \",len(x))"
   ]
  },
  {
   "cell_type": "markdown",
   "id": "72f73537",
   "metadata": {},
   "source": [
    "###### If we want to change the number of elements in x then we do not have to change in the function because we use *args by which we can change, add, and remove any elements at any time. for example "
   ]
  },
  {
   "cell_type": "code",
   "execution_count": 21,
   "id": "9424538f",
   "metadata": {},
   "outputs": [
    {
     "name": "stdout",
     "output_type": "stream",
     "text": [
      "(1, 2, 3, 4, 6, 8, 5, 9, 54, 8, 4)\n",
      " The length of x is :  11\n"
     ]
    }
   ],
   "source": [
    "### F2\n",
    "x=v1(1,2,3,4,6,8,5,9,54,8,4)\n",
    "print(x,end=\"\")\n",
    "print(\"\\n The length of x is : \",len(x))"
   ]
  },
  {
   "cell_type": "markdown",
   "id": "944ac81b",
   "metadata": {},
   "source": [
    "###### On the above example we can see that the length of x is f1 is 26 and length of x in f2 is 11. So, we can say that by *args we can change, add, and remove any elements at any time. "
   ]
  },
  {
   "cell_type": "code",
   "execution_count": 24,
   "id": "c097e82a",
   "metadata": {},
   "outputs": [],
   "source": [
    "# Function for **kwargs\n",
    "def kw1(**kwargs):\n",
    "    return(kwargs)"
   ]
  },
  {
   "cell_type": "markdown",
   "id": "4190b1b1",
   "metadata": {},
   "source": [
    "###### With the help of the above function, whenever we call kw1 it starts the function and takes the combination of key and values pairs. for example"
   ]
  },
  {
   "cell_type": "code",
   "execution_count": 27,
   "id": "2ae1262f",
   "metadata": {},
   "outputs": [
    {
     "name": "stdout",
     "output_type": "stream",
     "text": [
      "{'a': 2, 'b': 3, 'c': 'Pwskills', 'd': 'Datascience Master'}"
     ]
    }
   ],
   "source": [
    "x=kw1(a=2, b=3, c=\"Pwskills\",d=\"Datascience Master\")\n",
    "print(x,end=\"\")"
   ]
  },
  {
   "cell_type": "markdown",
   "id": "597d3d53",
   "metadata": {},
   "source": [
    "###### On the above example we can see that with the help of **kwargs we get the combination of key and values"
   ]
  },
  {
   "cell_type": "markdown",
   "id": "a45b63da",
   "metadata": {},
   "source": [
    "### Q3. What is an iterator in python? Name the method used to initialise the iterator object and the method used for iteration. Use these methods to print the first five elements of the given list [2, 4, 6, 8, 10, 12, 14, 16, 18, 20]."
   ]
  },
  {
   "cell_type": "markdown",
   "id": "226d6fbc",
   "metadata": {},
   "source": [
    "###### In Python, an iterator is an object that implements the iterator protocol, which consists of two methods: __iter__() and __next__(). An iterator is used to traverse a sequence of values one at a time, and it can be used with the for loop. \n",
    "###### The __iter__() method is used to initialize the iterator object and returns the iterator object itself. The __next__() method is used for iteration and returns the next value in the sequence. When there are no more values to iterate over, the __next__() method raises the StopIteration exception."
   ]
  },
  {
   "cell_type": "code",
   "execution_count": 30,
   "id": "f3d2fbfd",
   "metadata": {},
   "outputs": [
    {
     "name": "stdout",
     "output_type": "stream",
     "text": [
      "2\n",
      "4\n",
      "6\n",
      "8\n",
      "10\n"
     ]
    }
   ],
   "source": [
    "### Method to print the first five elements of the given list [2,4,6,8,10,12,14,16,18,20].\n",
    "n=[2,4,6,8,10,12,14,16,18,20]\n",
    "for i in n[0:5]:\n",
    "    print(i)"
   ]
  },
  {
   "cell_type": "markdown",
   "id": "77826d7d",
   "metadata": {},
   "source": [
    "### Q4.) What is a generator function in python? Why yield keyword is used? Give an example of a generator function."
   ]
  },
  {
   "cell_type": "markdown",
   "id": "17672bd2",
   "metadata": {},
   "source": [
    "###### In Python, a generator function is a type of function that uses the yield keyword to return an iterator object. Unlike a regular function, which returns a value and then terminates, a generator function can yield multiple values and then resume from where it left off.\n",
    "\n",
    "###### When a generator function is called, it returns a generator object, which can be used to iterate over the values that the generator function yields. The generator function is not executed immediately, but rather when the next() method is called on the generator object. Each time the yield keyword is encountered in the generator function, the function's state is saved, and the yielded value is returned to the caller. The next time the next() method is called on the generator object, the function resumes from where it left off, picking up its state and continuing its execution until it encounters another yield statement or reaches the end of the function."
   ]
  },
  {
   "cell_type": "code",
   "execution_count": 31,
   "id": "def6f496",
   "metadata": {},
   "outputs": [],
   "source": [
    "### Example of a generator function\n",
    "def gen(n):\n",
    "    for i in range(n):\n",
    "        if i>0 and i%2==0:\n",
    "            yield(i)"
   ]
  },
  {
   "cell_type": "code",
   "execution_count": 32,
   "id": "82f31069",
   "metadata": {},
   "outputs": [
    {
     "name": "stdout",
     "output_type": "stream",
     "text": [
      "2 4 6 8 10 12 14 16 18 20 22 24 26 28 30 32 34 36 38 40 42 44 46 48 50 52 54 56 58 60 62 64 66 68 70 72 74 76 78 80 82 84 86 88 90 92 94 96 98 100 "
     ]
    }
   ],
   "source": [
    "for i in gen(101):\n",
    "    print(i,end=\" \")"
   ]
  },
  {
   "cell_type": "markdown",
   "id": "11e33875",
   "metadata": {},
   "source": [
    "### Create a generator function for prime numbers less than 1000. Use the next() method to print the first 20 prime numbers."
   ]
  },
  {
   "cell_type": "code",
   "execution_count": 114,
   "id": "4311ea67",
   "metadata": {},
   "outputs": [],
   "source": [
    "def gen_prime(n):\n",
    "    m=1\n",
    "    for i in range(n):\n",
    "        if i>=2:\n",
    "            if m>=0:\n",
    "                import math\n",
    "                a=int(math.sqrt(m))\n",
    "                b=a+1\n",
    "                x=1\n",
    "                if i==2:\n",
    "                    yield (i)\n",
    "                elif m>2:\n",
    "                    for j in range(b):\n",
    "                        if j>=2:\n",
    "                            if m%j==0:\n",
    "                                x=0\n",
    "                                break\n",
    "            if x==0:\n",
    "                pass\n",
    "            else:\n",
    "                yield(m)\n",
    "        m+=1"
   ]
  },
  {
   "cell_type": "code",
   "execution_count": 115,
   "id": "94d83908",
   "metadata": {},
   "outputs": [
    {
     "name": "stdout",
     "output_type": "stream",
     "text": [
      "2\n",
      "3\n",
      "5\n",
      "7\n",
      "11\n",
      "13\n",
      "17\n",
      "19\n",
      "23\n",
      "29\n",
      "31\n",
      "37\n",
      "41\n",
      "43\n",
      "47\n",
      "53\n",
      "59\n",
      "61\n",
      "67\n",
      "71\n",
      "73\n",
      "79\n",
      "83\n",
      "89\n",
      "97\n",
      "101\n",
      "103\n",
      "107\n",
      "109\n",
      "113\n",
      "127\n",
      "131\n",
      "137\n",
      "139\n",
      "149\n",
      "151\n",
      "157\n",
      "163\n",
      "167\n",
      "173\n",
      "179\n",
      "181\n",
      "191\n",
      "193\n",
      "197\n",
      "199\n",
      "211\n",
      "223\n",
      "227\n",
      "229\n",
      "233\n",
      "239\n",
      "241\n",
      "251\n",
      "257\n",
      "263\n",
      "269\n",
      "271\n",
      "277\n",
      "281\n",
      "283\n",
      "293\n",
      "307\n",
      "311\n",
      "313\n",
      "317\n",
      "331\n",
      "337\n",
      "347\n",
      "349\n",
      "353\n",
      "359\n",
      "367\n",
      "373\n",
      "379\n",
      "383\n",
      "389\n",
      "397\n",
      "401\n",
      "409\n",
      "419\n",
      "421\n",
      "431\n",
      "433\n",
      "439\n",
      "443\n",
      "449\n",
      "457\n",
      "461\n",
      "463\n",
      "467\n",
      "479\n",
      "487\n",
      "491\n",
      "499\n",
      "503\n",
      "509\n",
      "521\n",
      "523\n",
      "541\n",
      "547\n",
      "557\n",
      "563\n",
      "569\n",
      "571\n",
      "577\n",
      "587\n",
      "593\n",
      "599\n",
      "601\n",
      "607\n",
      "613\n",
      "617\n",
      "619\n",
      "631\n",
      "641\n",
      "643\n",
      "647\n",
      "653\n",
      "659\n",
      "661\n",
      "673\n",
      "677\n",
      "683\n",
      "691\n",
      "701\n",
      "709\n",
      "719\n",
      "727\n",
      "733\n",
      "739\n",
      "743\n",
      "751\n",
      "757\n",
      "761\n",
      "769\n",
      "773\n",
      "787\n",
      "797\n",
      "809\n",
      "811\n",
      "821\n",
      "823\n",
      "827\n",
      "829\n",
      "839\n",
      "853\n",
      "857\n",
      "859\n",
      "863\n",
      "877\n",
      "881\n",
      "883\n",
      "887\n",
      "907\n",
      "911\n",
      "919\n",
      "929\n",
      "937\n",
      "941\n",
      "947\n",
      "953\n",
      "967\n",
      "971\n",
      "977\n",
      "983\n",
      "991\n",
      "997\n"
     ]
    }
   ],
   "source": [
    "for i in gen_prime(1000):\n",
    "    print(i)"
   ]
  },
  {
   "cell_type": "code",
   "execution_count": null,
   "id": "fc928da1",
   "metadata": {},
   "outputs": [],
   "source": []
  },
  {
   "cell_type": "code",
   "execution_count": null,
   "id": "119ba11e",
   "metadata": {},
   "outputs": [],
   "source": []
  }
 ],
 "metadata": {
  "kernelspec": {
   "display_name": "Python 3 (ipykernel)",
   "language": "python",
   "name": "python3"
  },
  "language_info": {
   "codemirror_mode": {
    "name": "ipython",
    "version": 3
   },
   "file_extension": ".py",
   "mimetype": "text/x-python",
   "name": "python",
   "nbconvert_exporter": "python",
   "pygments_lexer": "ipython3",
   "version": "3.10.9"
  }
 },
 "nbformat": 4,
 "nbformat_minor": 5
}
