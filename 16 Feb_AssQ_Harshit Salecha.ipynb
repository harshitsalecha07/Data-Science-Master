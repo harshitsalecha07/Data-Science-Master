{
 "cells": [
  {
   "cell_type": "markdown",
   "id": "ab2cdffb",
   "metadata": {},
   "source": [
    "### What is a database? Differentiate between SQL and NoSQL databases."
   ]
  },
  {
   "cell_type": "markdown",
   "id": "ad3c11d3",
   "metadata": {},
   "source": [
    "A database is an organized collection of structured data that is stored and managed electronically. It provides a way to store, retrieve, update, and manipulate data efficiently. Databases are commonly used in various applications and systems, ranging from small-scale applications to large enterprise systems.\n",
    "\n",
    "SQL and NoSQL are two different types of database management systems (DBMS) that handle data storage and retrieval in different ways:\n",
    "\n",
    "SQL Databases:\n",
    "SQL (Structured Query Language) databases are based on a relational model, which organizes data into tables with predefined schemas. They use SQL as the standard language for querying and manipulating data. SQL databases have the following characteristics:\n",
    "Structured: Data is stored in predefined tables with a fixed schema. Each table consists of rows (records) and columns (fields).\n",
    "Schema: SQL databases enforce a predefined schema, which defines the structure and relationships between tables.\n",
    "ACID properties: ACID stands for Atomicity, Consistency, Isolation, and Durability. SQL databases ensure these properties to maintain data integrity and reliability.\n",
    "Strong data consistency: SQL databases typically provide strong data consistency, meaning that data is always in a valid state according to the defined constraints.\n",
    "Suitable for complex transactions: SQL databases excel in handling complex transactions involving multiple related tables.\n",
    "Examples: MySQL, PostgreSQL, Oracle Database, Microsoft SQL Server.\n",
    "NoSQL Databases:\n",
    "NoSQL (Not only SQL) databases are designed to handle unstructured, semi-structured, or rapidly changing data. They provide a flexible schema that allows data to be stored in various formats, such as key-value pairs, documents, columnar, or graphs. NoSQL databases have the following characteristics:\n",
    "Flexible schema: NoSQL databases allow dynamic schemas, enabling the storage of heterogeneous data without predefined structure.\n",
    "Scalability and performance: NoSQL databases are designed to scale horizontally, making them suitable for handling large volumes of data and high traffic loads.\n",
    "Eventual consistency: NoSQL databases often prioritize availability and scalability over strong data consistency, which means that data consistency might be achieved over time.\n",
    "Support for distributed architectures: NoSQL databases are well-suited for distributed environments and can handle data across multiple servers or clusters.\n",
    "Examples: MongoDB, Cassandra, Redis, Couchbase.\n",
    "It's important to note that both SQL and NoSQL databases have their strengths and weaknesses, and the choice between them depends on the specific requirements of the application or system at hand."
   ]
  },
  {
   "cell_type": "markdown",
   "id": "7856084f",
   "metadata": {},
   "source": [
    "### What is DDL? Explain why CREATE, DROP, ALTER, and TRUNCATE are used with an example."
   ]
  },
  {
   "cell_type": "markdown",
   "id": "560f258f",
   "metadata": {},
   "source": [
    "DDL stands for Data Definition Language. It is a subset of SQL (Structured Query Language) used to define and manage the structure of a database, including creating, modifying, and deleting database objects. DDL statements are used to define the schema, tables, indexes, constraints, and other structural components of a database.\n",
    "\n",
    "Here are some commonly used DDL statements and their purposes:\n",
    "\n",
    "CREATE:\n",
    "The CREATE statement is used to create database objects such as tables, views, indexes, or stored procedures. It specifies the name of the object, its structure, and any constraints. Here's an example of creating a table in SQL:\n",
    "CREATE TABLE employees (\n",
    "  id INT PRIMARY KEY,\n",
    "  name VARCHAR(100),\n",
    "  age INT,\n",
    "  department VARCHAR(50)\n",
    ");\n",
    "This statement creates a table named \"employees\" with columns for id, name, age, and department.\n",
    "\n",
    "DROP:\n",
    "The DROP statement is used to remove database objects, such as tables, views, or indexes. It permanently deletes the object and all associated data. Here's an example of dropping a table:\n",
    "DROP TABLE employees;\n",
    "This statement removes the \"employees\" table from the database.\n",
    "\n",
    "ALTER:\n",
    "The ALTER statement is used to modify the structure of an existing database object. It allows you to add, modify, or delete columns, constraints, or other properties. Here's an example of altering a table:\n",
    "ALTER TABLE employees\n",
    "ADD COLUMN salary DECIMAL(10, 2);\n",
    "This statement adds a new column named \"salary\" with a decimal data type to the \"employees\" table.\n",
    "\n",
    "TRUNCATE:\n",
    "The TRUNCATE statement is used to remove all rows from a table, but keeps the table structure intact. It is faster than deleting rows one by one using the DELETE statement. Here's an example of truncating a table:\n",
    "TRUNCATE TABLE employees;\n",
    "This statement removes all rows from the \"employees\" table, but the table structure remains.\n",
    "\n",
    "These DDL statements are essential for defining and managing the structure of a database, allowing developers and administrators to create, modify, and remove database objects as needed to support the application or system requirements."
   ]
  },
  {
   "cell_type": "markdown",
   "id": "a27df3bc",
   "metadata": {},
   "source": [
    "### What is DML? Explain INSERT, UPDATE, and DELETE with an example."
   ]
  },
  {
   "cell_type": "markdown",
   "id": "90197f46",
   "metadata": {},
   "source": [
    "DML stands for Data Manipulation Language. It is a subset of SQL (Structured Query Language) used to manipulate data within a database. DML statements are used to insert, update, retrieve, and delete data from database tables.\n",
    "\n",
    "Here are some commonly used DML statements and their purposes:\n",
    "\n",
    "INSERT:\n",
    "The INSERT statement is used to insert new rows of data into a table. It specifies the table name and the values to be inserted into the respective columns. Here's an example of inserting a new row into a table:\n",
    "INSERT INTO employees (id, name, age, department)\n",
    "VALUES (1, 'John Doe', 30, 'Sales');\n",
    "This statement inserts a new row into the \"employees\" table with the values 1, 'John Doe', 30, and 'Sales' for the id, name, age, and department columns, respectively.\n",
    "\n",
    "UPDATE:\n",
    "The UPDATE statement is used to modify existing data in a table. It allows you to change the values of one or more columns based on specified conditions. Here's an example of updating data in a table:\n",
    "UPDATE employees\n",
    "SET age = 31\n",
    "WHERE id = 1;\n",
    "\n",
    "This statement updates the age column of the \"employees\" table to 31 for the row where the id is 1.\n",
    "\n",
    "DELETE:\n",
    "The DELETE statement is used to remove one or more rows from a table based on specified conditions. It permanently removes the specified data from the table. Here's an example of deleting data from a table:\n",
    "DELETE FROM employees\n",
    "WHERE id = 1;\n",
    "\n",
    "This statement deletes the row from the \"employees\" table where the id is 1.\n",
    "\n",
    "These DML statements allow you to manipulate data within a database, including inserting new data, updating existing data, and deleting unwanted data. They are essential for performing various data operations and maintaining the integrity and consistency of the database."
   ]
  },
  {
   "cell_type": "markdown",
   "id": "fdad4dcf",
   "metadata": {},
   "source": [
    "### Q4. What is DQL? Explain SELECT with an example."
   ]
  },
  {
   "cell_type": "markdown",
   "id": "7eb479c2",
   "metadata": {},
   "source": [
    "DQL stands for Data Query Language. It is a subset of SQL (Structured Query Language) used to retrieve and query data from a database. DQL is primarily focused on retrieving information rather than modifying it.\n",
    "\n",
    "The most commonly used DQL statement is SELECT. It allows you to specify the columns and conditions to retrieve specific data from one or more tables in a database.\n",
    "\n",
    "Here's an example of using SELECT statement:\n",
    "SELECT column1, column2, ...\n",
    "FROM table_name\n",
    "WHERE condition;"
   ]
  },
  {
   "cell_type": "markdown",
   "id": "cd653dee",
   "metadata": {},
   "source": [
    "### Q5. Explain Primary Key and Foreign Key."
   ]
  },
  {
   "cell_type": "markdown",
   "id": "e8d5fd2c",
   "metadata": {},
   "source": [
    "Primary Key:\n",
    "A primary key is a column or a combination of columns that uniquely identifies each row in a database table. It serves as a unique identifier for a record and ensures data integrity. Here are some key points about primary keys:\n",
    "\n",
    "Uniqueness: Each value in a primary key column must be unique. No two rows in the table can have the same primary key value.\n",
    "Non-nullability: A primary key column cannot contain null values. Every row must have a valid value in the primary key column.\n",
    "Indexing: Primary keys are typically automatically indexed by the database system, which helps in efficient data retrieval and ensures faster query execution.\n",
    "Relationship enforcement: Primary keys are often used to establish relationships between tables. They can be referenced by foreign keys in other tables to create relationships and maintain data integrity.\n",
    "Foreign Key:\n",
    "A foreign key is a column or a combination of columns that establishes a link or relationship between two tables in a database. It refers to the primary key of another table and establishes referential integrity. Here are some key points about foreign keys:\n",
    "\n",
    "Relationship establishment: A foreign key in one table refers to the primary key of another table, creating a relationship between the two tables.\n",
    "Referential integrity: Foreign keys enforce referential integrity by ensuring that the values in the foreign key column(s) match the values in the corresponding primary key column(s) of the referenced table. This prevents orphaned or inconsistent data.\n",
    "Constraints and actions: Foreign keys can have constraints and actions associated with them. For example, you can specify that when a referenced row is deleted or updated, the corresponding rows in the dependent table should be deleted, updated, or restricted.\n",
    "Multiple foreign keys: A table can have multiple foreign keys, each referencing a different table or even the same table."
   ]
  },
  {
   "cell_type": "markdown",
   "id": "74d0943d",
   "metadata": {},
   "source": [
    "### Q6. Write a python code to connect MySQL to python. Explain the cursor() and execute() method."
   ]
  },
  {
   "cell_type": "code",
   "execution_count": 4,
   "id": "b39f884b",
   "metadata": {},
   "outputs": [
    {
     "data": {
      "text/plain": [
       "'execute() method is used to execute the query of mySQL with the help of Python'"
      ]
     },
     "execution_count": 4,
     "metadata": {},
     "output_type": "execute_result"
    }
   ],
   "source": [
    "### Python code to connect MySQL to python\n",
    "'''import mysql.connector\n",
    "mydb=mysql.connector.connect(host='localhost',user='abc',password='password')\n",
    "mycursor=mydb.cursor\n",
    "mycursor.execute(\"operation\")'''\n",
    "\n",
    "'''cursor() method is used to establish relation between Python code to database'''\n",
    "'''execute() method is used to execute the query of mySQL with the help of Python'''"
   ]
  },
  {
   "cell_type": "markdown",
   "id": "8f543ab2",
   "metadata": {},
   "source": [
    "### Q7. Give the order of execution of SQL clauses in an SQL query."
   ]
  },
  {
   "cell_type": "markdown",
   "id": "c0d8e9d3",
   "metadata": {},
   "source": [
    "The order of execution of SQL clauses in an SQL query is as follows:\n",
    "\n",
    "FROM: The FROM clause specifies the table(s) from which the data will be retrieved. It identifies the source table(s) or views involved in the query.\n",
    "\n",
    "WHERE: The WHERE clause filters the rows based on specified conditions. It allows you to apply logical and comparison operators to restrict the result set to the desired criteria.\n",
    "\n",
    "GROUP BY: The GROUP BY clause is used to group rows based on one or more columns. It is often used in conjunction with aggregate functions like COUNT, SUM, AVG, etc.\n",
    "\n",
    "HAVING: The HAVING clause is similar to the WHERE clause but is used specifically for filtering aggregated results. It allows you to filter the groups created by the GROUP BY clause based on specific conditions.\n",
    "\n",
    "SELECT: The SELECT clause determines the columns to be retrieved from the table(s) specified in the FROM clause. It allows you to specify the desired columns, aliases, and perform calculations or concatenations.\n",
    "\n",
    "DISTINCT: The DISTINCT keyword eliminates duplicate rows from the result set based on the specified columns. It returns only unique values.\n",
    "\n",
    "ORDER BY: The ORDER BY clause is used to sort the result set based on one or more columns. It allows you to specify the sorting order as ascending (ASC) or descending (DESC).\n",
    "\n",
    "LIMIT/OFFSET: The LIMIT and OFFSET clauses are used for result set pagination. LIMIT restricts the number of rows returned, while OFFSET specifies the starting point from which to retrieve rows.\n",
    "\n",
    "It's important to note that not all clauses are required in every SQL query. The clauses that are included and their specific order depend on the requirements of the query and the desired outcome."
   ]
  }
 ],
 "metadata": {
  "kernelspec": {
   "display_name": "Python 3 (ipykernel)",
   "language": "python",
   "name": "python3"
  },
  "language_info": {
   "codemirror_mode": {
    "name": "ipython",
    "version": 3
   },
   "file_extension": ".py",
   "mimetype": "text/x-python",
   "name": "python",
   "nbconvert_exporter": "python",
   "pygments_lexer": "ipython3",
   "version": "3.10.9"
  }
 },
 "nbformat": 4,
 "nbformat_minor": 5
}
