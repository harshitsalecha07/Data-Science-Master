{
 "cells": [
  {
   "cell_type": "code",
   "execution_count": 1,
   "id": "7bd68e63-c19f-4f6f-8c38-ed5612e59521",
   "metadata": {},
   "outputs": [],
   "source": [
    "import numpy as np\n",
    "list_ = [1,2,3,4,5]\n",
    "array_list = np.array(object = list_)"
   ]
  },
  {
   "cell_type": "code",
   "execution_count": 2,
   "id": "3331a0da-34cd-4bdf-920d-21eda58dbd80",
   "metadata": {},
   "outputs": [
    {
     "data": {
      "text/plain": [
       "array([1, 2, 3, 4, 5])"
      ]
     },
     "execution_count": 2,
     "metadata": {},
     "output_type": "execute_result"
    }
   ],
   "source": [
    "array_list"
   ]
  },
  {
   "cell_type": "markdown",
   "id": "41c78299-0b0e-4204-a5c2-ef5b20406c3b",
   "metadata": {},
   "source": [
    "Q1. Is there any difference in the data type of variables list_ and array_list? If there is then write a code to print the data types of both the variables."
   ]
  },
  {
   "cell_type": "markdown",
   "id": "f680ee73-42e4-47d0-9782-40b59360c14a",
   "metadata": {},
   "source": [
    "Yes, both the data type of variables list_ and array_list is different. data type of list_ and array_list is list and numpy.ndarray respectively"
   ]
  },
  {
   "cell_type": "code",
   "execution_count": 11,
   "id": "5cafab42-9121-48a3-a642-42c2e21cad5f",
   "metadata": {},
   "outputs": [
    {
     "data": {
      "text/plain": [
       "list"
      ]
     },
     "execution_count": 11,
     "metadata": {},
     "output_type": "execute_result"
    }
   ],
   "source": [
    "type(list_)"
   ]
  },
  {
   "cell_type": "code",
   "execution_count": 10,
   "id": "78d50078-6b68-4237-9ecc-78ba52bcfc04",
   "metadata": {},
   "outputs": [
    {
     "data": {
      "text/plain": [
       "numpy.ndarray"
      ]
     },
     "execution_count": 10,
     "metadata": {},
     "output_type": "execute_result"
    }
   ],
   "source": [
    "type(array_list)"
   ]
  },
  {
   "cell_type": "markdown",
   "id": "c6361e20-74a8-4e47-af72-774f03ba77a9",
   "metadata": {},
   "source": [
    "Q2. Write a code to print the data type of each and every element of both the variables list_ and\n",
    "arra_list."
   ]
  },
  {
   "cell_type": "code",
   "execution_count": 13,
   "id": "9fc898bc-cb43-4d92-9e88-9b10d90ebfb1",
   "metadata": {},
   "outputs": [
    {
     "name": "stdout",
     "output_type": "stream",
     "text": [
      "<class 'int'>\n",
      "<class 'int'>\n",
      "<class 'int'>\n",
      "<class 'int'>\n",
      "<class 'int'>\n"
     ]
    }
   ],
   "source": [
    "for i in list_:\n",
    "    print(type(i))"
   ]
  },
  {
   "cell_type": "code",
   "execution_count": 16,
   "id": "826322bf-726c-4883-a8da-c82e303fb5d8",
   "metadata": {},
   "outputs": [
    {
     "data": {
      "text/plain": [
       "dtype('int64')"
      ]
     },
     "execution_count": 16,
     "metadata": {},
     "output_type": "execute_result"
    }
   ],
   "source": [
    "array_list.dtype"
   ]
  },
  {
   "cell_type": "markdown",
   "id": "0aa33dac-0ca4-4a24-93de-a5473c181176",
   "metadata": {},
   "source": [
    "Q3. Considering the following changes in the variable, array_list:\n",
    "array_list = np.array(object = list_, dtype = int)\n",
    "Will there be any difference in the data type of the elements present in both the variables, list_ and\n",
    "arra_list? If so then print the data types of each and every element present in both the variables, list_\n",
    "and arra_list."
   ]
  },
  {
   "cell_type": "code",
   "execution_count": 18,
   "id": "3d990fbd-794f-4315-92f1-c0c0702f2e00",
   "metadata": {},
   "outputs": [],
   "source": [
    "array_list=np.array(object=list_,dtype=int)"
   ]
  },
  {
   "cell_type": "code",
   "execution_count": 19,
   "id": "a317ad75-1abf-4fff-a5ed-bbf1894bfd7b",
   "metadata": {},
   "outputs": [
    {
     "data": {
      "text/plain": [
       "int"
      ]
     },
     "execution_count": 19,
     "metadata": {},
     "output_type": "execute_result"
    }
   ],
   "source": [
    "type(list_[0])"
   ]
  },
  {
   "cell_type": "code",
   "execution_count": 20,
   "id": "64e5a958-e1eb-472d-a78a-e609396dca55",
   "metadata": {},
   "outputs": [
    {
     "data": {
      "text/plain": [
       "dtype('int64')"
      ]
     },
     "execution_count": 20,
     "metadata": {},
     "output_type": "execute_result"
    }
   ],
   "source": [
    "array_list.dtype"
   ]
  },
  {
   "cell_type": "markdown",
   "id": "7e769c65-e1ce-41dc-9be0-53634efa1a92",
   "metadata": {},
   "source": [
    "Datatype of both is same"
   ]
  },
  {
   "cell_type": "markdown",
   "id": "c4592590-eb8d-44b9-9348-195eefab007a",
   "metadata": {},
   "source": [
    "Consider the below code to answer further questions:\n",
    "import numpy as np\n",
    "num_list = [ [ 1 , 2 , 3 ] , [ 4 , 5 , 6 ] ]\n",
    "num_array = np.array(object = num_list)"
   ]
  },
  {
   "cell_type": "code",
   "execution_count": 21,
   "id": "f78f6a2e-a916-4d52-b9c5-6611f4ced120",
   "metadata": {},
   "outputs": [],
   "source": [
    "num_list=[[1,2,3],[4,5,6]]"
   ]
  },
  {
   "cell_type": "code",
   "execution_count": 22,
   "id": "886157ec-8e96-4400-be2a-e7214578d065",
   "metadata": {},
   "outputs": [],
   "source": [
    "num_array=np.array(object=num_list)"
   ]
  },
  {
   "cell_type": "code",
   "execution_count": 23,
   "id": "b8a71d18-3e98-4ddf-bb4a-e58bfceba01e",
   "metadata": {},
   "outputs": [
    {
     "data": {
      "text/plain": [
       "array([[1, 2, 3],\n",
       "       [4, 5, 6]])"
      ]
     },
     "execution_count": 23,
     "metadata": {},
     "output_type": "execute_result"
    }
   ],
   "source": [
    "num_array"
   ]
  },
  {
   "cell_type": "markdown",
   "id": "9786746e-a9f3-4d98-be6e-89d784bcf6c2",
   "metadata": {},
   "source": [
    "Q4. Write a code to find the following characteristics of variable, num_array:\n",
    "(i) shape\n",
    "(ii) size"
   ]
  },
  {
   "cell_type": "code",
   "execution_count": 24,
   "id": "b3c330c9-bd0a-4f52-9e1a-67badb2b0e31",
   "metadata": {},
   "outputs": [
    {
     "data": {
      "text/plain": [
       "(2, 3)"
      ]
     },
     "execution_count": 24,
     "metadata": {},
     "output_type": "execute_result"
    }
   ],
   "source": [
    "#shape\n",
    "num_array.shape"
   ]
  },
  {
   "cell_type": "code",
   "execution_count": 25,
   "id": "cc386025-9872-4f15-868b-c792fa08655a",
   "metadata": {},
   "outputs": [
    {
     "data": {
      "text/plain": [
       "6"
      ]
     },
     "execution_count": 25,
     "metadata": {},
     "output_type": "execute_result"
    }
   ],
   "source": [
    "#size\n",
    "num_array.size"
   ]
  },
  {
   "cell_type": "markdown",
   "id": "2b18cfc5-7928-4737-b861-372b3f7510d3",
   "metadata": {},
   "source": [
    "Q5. Write a code to create numpy array of 3*3 matrix containing zeros only, using a numpy array\n",
    "creation function.\n",
    "[Hint: The size of the array will be 9 and the shape will be (3,3).]"
   ]
  },
  {
   "cell_type": "code",
   "execution_count": 36,
   "id": "50c07205-2a85-42b6-ab9a-a7fefb363856",
   "metadata": {},
   "outputs": [
    {
     "data": {
      "text/plain": [
       "array([[0., 0., 0.],\n",
       "       [0., 0., 0.],\n",
       "       [0., 0., 0.]])"
      ]
     },
     "execution_count": 36,
     "metadata": {},
     "output_type": "execute_result"
    }
   ],
   "source": [
    "np.zeros(shape=(3,3))"
   ]
  },
  {
   "cell_type": "markdown",
   "id": "c4a21b90-0d14-4a36-ae27-6592b1465e19",
   "metadata": {},
   "source": [
    "Q6. Create an identity matrix of shape (5,5) using numpy functions?\n",
    "[Hint: An identity matrix is a matrix containing 1 diagonally and other elements will be 0.]\n"
   ]
  },
  {
   "cell_type": "code",
   "execution_count": null,
   "id": "90bb50c7-02c5-4b2d-9e11-3dbcf20bc8d3",
   "metadata": {},
   "outputs": [],
   "source": []
  }
 ],
 "metadata": {
  "kernelspec": {
   "display_name": "Python 3 (ipykernel)",
   "language": "python",
   "name": "python3"
  },
  "language_info": {
   "codemirror_mode": {
    "name": "ipython",
    "version": 3
   },
   "file_extension": ".py",
   "mimetype": "text/x-python",
   "name": "python",
   "nbconvert_exporter": "python",
   "pygments_lexer": "ipython3",
   "version": "3.10.8"
  }
 },
 "nbformat": 4,
 "nbformat_minor": 5
}
