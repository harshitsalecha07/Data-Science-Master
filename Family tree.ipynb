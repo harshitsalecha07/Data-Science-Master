{
 "cells": [
  {
   "cell_type": "code",
   "execution_count": 1,
   "id": "f8a1f46b-4154-4bcb-a3c5-cea99084b9d4",
   "metadata": {},
   "outputs": [
    {
     "name": "stdin",
     "output_type": "stream",
     "text": [
      "Please entre your members in family: 3\n",
      "Please entre your first name: Arpit Salecha\n",
      "Please entre your last name: Salecha\n",
      "Entre the gender of the person: Male\n",
      "Entre the age of the person: 33\n"
     ]
    },
    {
     "name": "stdout",
     "output_type": "stream",
     "text": [
      "Your name of 1 person is ['Arpit Salecha', 'Salecha'] and gender is Male\n",
      "\n"
     ]
    },
    {
     "name": "stdin",
     "output_type": "stream",
     "text": [
      "Please entre your first name: Abhilash\n",
      "Please entre your last name: Salecha\n",
      "Entre the gender of the person: Female\n",
      "Entre the age of the person: 29\n"
     ]
    },
    {
     "name": "stdout",
     "output_type": "stream",
     "text": [
      "Your name of 2 person is ['Abhilash', 'Salecha'] and gender is Female\n",
      "\n"
     ]
    },
    {
     "name": "stdin",
     "output_type": "stream",
     "text": [
      "Please entre your first name: Hiyashi\n",
      "Please entre your last name: Salecha\n",
      "Entre the gender of the person: Female\n",
      "Entre the age of the person: 4\n"
     ]
    },
    {
     "name": "stdout",
     "output_type": "stream",
     "text": [
      "Your name of 3 person is ['Hiyashi', 'Salecha'] and gender is Female\n",
      "\n",
      "The male in family is 1 and female in family is 2\n",
      "Adult members in family are 2 and children in family are 1\n"
     ]
    }
   ],
   "source": [
    "family_members=int(input(\"Please entre your members in family:\"))\n",
    "count=1\n",
    "male_gender=0\n",
    "female_gender=0\n",
    "A_age=0\n",
    "C_age=0\n",
    "for i in range(family_members):\n",
    "    f_name=input(\"Please entre your first name:\")\n",
    "    l_name=input(\"Please entre your last name:\")\n",
    "    gender=input(\"Entre the gender of the person:\")\n",
    "    age=int(input(\"Entre the age of the person:\"))\n",
    "    if age>=18:\n",
    "        if gender==\"Male\":\n",
    "            full_name=[f_name,l_name]\n",
    "            print(\"Your name of {} person is {} and gender is {}\\n\".format(count,full_name,gender))\n",
    "            male_gender+=1\n",
    "        else:\n",
    "            full_name=[f_name,l_name]\n",
    "            print(\"Your name of {} person is {} and gender is {}\\n\".format(count,full_name,gender))\n",
    "            female_gender+=1\n",
    "        A_age+=1\n",
    "    else:\n",
    "        if gender==\"Male\":\n",
    "            full_name=[f_name,l_name]\n",
    "            print(\"Your name of {} person is {} and gender is {}\\n\".format(count,full_name,gender))\n",
    "            male_gender+=1\n",
    "        else:\n",
    "            full_name=[f_name,l_name]\n",
    "            print(\"Your name of {} person is {} and gender is {}\\n\".format(count,full_name,gender))\n",
    "            female_gender+=1\n",
    "        C_age+=1\n",
    "    count+=1\n",
    "print(\"The male in family is {} and female in family is {}\".format(male_gender,female_gender))\n",
    "print(\"Adult members in family are {} and children in family are {}\".format(A_age,C_age))"
   ]
  },
  {
   "cell_type": "code",
   "execution_count": null,
   "id": "493aa552-9c3a-4b44-9dae-4f9b02898c86",
   "metadata": {},
   "outputs": [],
   "source": []
  }
 ],
 "metadata": {
  "kernelspec": {
   "display_name": "Python 3 (ipykernel)",
   "language": "python",
   "name": "python3"
  },
  "language_info": {
   "codemirror_mode": {
    "name": "ipython",
    "version": 3
   },
   "file_extension": ".py",
   "mimetype": "text/x-python",
   "name": "python",
   "nbconvert_exporter": "python",
   "pygments_lexer": "ipython3",
   "version": "3.10.8"
  }
 },
 "nbformat": 4,
 "nbformat_minor": 5
}
