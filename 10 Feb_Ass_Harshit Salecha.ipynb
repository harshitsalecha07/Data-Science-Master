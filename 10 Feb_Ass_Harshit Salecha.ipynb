{
 "cells": [
  {
   "cell_type": "code",
   "execution_count": null,
   "id": "35be34e6",
   "metadata": {},
   "outputs": [],
   "source": [
    "'''Q1. Which function is used to open a file? What are the different modes of opening a file? Explain each mode\n",
    "of file opening.'''"
   ]
  },
  {
   "cell_type": "markdown",
   "id": "c17fc405",
   "metadata": {},
   "source": [
    "###### In Python, the built-in open() function is used to open a file. The open() function takes two arguments: the filename (including the path) and the mode in which the file should be opened.\n",
    "###### Alternatively, you can use a with statement to automatically close the file when you're done with it:"
   ]
  },
  {
   "cell_type": "code",
   "execution_count": 6,
   "id": "ac2ae0c6",
   "metadata": {},
   "outputs": [],
   "source": [
    "###Example of opening a file by open method \n",
    "a=open(\"test1.txt\",\"w\")"
   ]
  },
  {
   "cell_type": "code",
   "execution_count": 7,
   "id": "50538cd9",
   "metadata": {},
   "outputs": [
    {
     "data": {
      "text/plain": [
       "31"
      ]
     },
     "execution_count": 7,
     "metadata": {},
     "output_type": "execute_result"
    }
   ],
   "source": [
    "a.write(\"This is a python file example-1\")"
   ]
  },
  {
   "cell_type": "code",
   "execution_count": 8,
   "id": "80a53bfd",
   "metadata": {},
   "outputs": [
    {
     "data": {
      "text/plain": [
       "True"
      ]
     },
     "execution_count": 8,
     "metadata": {},
     "output_type": "execute_result"
    }
   ],
   "source": [
    "a.writable()"
   ]
  },
  {
   "cell_type": "code",
   "execution_count": 9,
   "id": "531da351",
   "metadata": {},
   "outputs": [],
   "source": [
    "a.close()"
   ]
  },
  {
   "cell_type": "code",
   "execution_count": 11,
   "id": "a42995ee",
   "metadata": {},
   "outputs": [],
   "source": [
    "a=open(\"test1.txt\",\"r\")"
   ]
  },
  {
   "cell_type": "code",
   "execution_count": 12,
   "id": "9b11297e",
   "metadata": {},
   "outputs": [
    {
     "data": {
      "text/plain": [
       "'This is a python file example-1'"
      ]
     },
     "execution_count": 12,
     "metadata": {},
     "output_type": "execute_result"
    }
   ],
   "source": [
    "a.read()"
   ]
  },
  {
   "cell_type": "code",
   "execution_count": 13,
   "id": "55100979",
   "metadata": {},
   "outputs": [
    {
     "data": {
      "text/plain": [
       "0"
      ]
     },
     "execution_count": 13,
     "metadata": {},
     "output_type": "execute_result"
    }
   ],
   "source": [
    "a.seek(0)"
   ]
  },
  {
   "cell_type": "code",
   "execution_count": 14,
   "id": "7951fc79",
   "metadata": {},
   "outputs": [
    {
     "data": {
      "text/plain": [
       "'This is a python file example-1'"
      ]
     },
     "execution_count": 14,
     "metadata": {},
     "output_type": "execute_result"
    }
   ],
   "source": [
    "a.read()"
   ]
  },
  {
   "cell_type": "code",
   "execution_count": 17,
   "id": "92b14296",
   "metadata": {},
   "outputs": [],
   "source": [
    "###Example of opening a file by with method\n",
    "with open(\"test2.txt\",\"w\") as f:\n",
    "    f.write(\"This is a python file example-2\")"
   ]
  },
  {
   "cell_type": "code",
   "execution_count": 18,
   "id": "0f76a529",
   "metadata": {},
   "outputs": [
    {
     "name": "stdout",
     "output_type": "stream",
     "text": [
      "This is a python file example-2\n"
     ]
    }
   ],
   "source": [
    "with open(\"test2.txt\",\"r\") as f:\n",
    "    a=f.read()\n",
    "    print(a)"
   ]
  },
  {
   "cell_type": "code",
   "execution_count": 19,
   "id": "7abeca10",
   "metadata": {},
   "outputs": [],
   "source": [
    "### Q2. Why close() function is used? Why is it important to close a file?"
   ]
  },
  {
   "cell_type": "markdown",
   "id": "acc3d4f5",
   "metadata": {},
   "source": [
    "###### close() function is very useful for create a file because without execution of close() function data will not go to the file from program by the final console. Once we executes the close() function after the write something in file-program then it will go to the file from final console thats why close() function is used.\n",
    "\n",
    "###### It's important to close a file after opening it in a Python program because it ensures that any changes made to the file are saved and that system resources are freed up.\n",
    "\n",
    "###### When a file is opened in a program, it is locked by the program and cannot be accessed or modified by any other programs until it is closed. If a file is left open, it may cause issues when attempting to access the file again or by other programs trying to access the file.\n",
    "\n",
    "###### Closing a file ensures that any changes made to the file are saved to disk. When a file is opened in write mode, any changes made to the file are not immediately written to disk. Instead, they are cached in memory until the file is closed or until the buffer is flushed. If the program crashes or is terminated before the file is closed, any changes made to the file may be lost.\n",
    "\n",
    "###### In addition to ensuring that changes are saved, closing a file also frees up system resources that were used to keep the file open. If a large number of files are left open at the same time, it can cause memory issues or slow down the program.\n",
    "\n",
    "###### Finally, closing a file is also a good programming practice. It helps make the code more readable, and it ensures that the file is not inadvertently left open, which can lead to bugs or security vulnerabilities.\n",
    "\n",
    "\n",
    "\n",
    "\n"
   ]
  },
  {
   "cell_type": "code",
   "execution_count": 23,
   "id": "747db392",
   "metadata": {},
   "outputs": [],
   "source": [
    "'''Q3. Write a python program to create a text file. Write ‘I want to become a Data Scientist’ in that file. Then\n",
    "close the file. Open this file and read the content of the file.'''\n",
    "a=open(\"test3.txt\",\"w\")\n",
    "a.write(\"I want to become a Data Scientist\")\n",
    "a.close()"
   ]
  },
  {
   "cell_type": "code",
   "execution_count": 25,
   "id": "fad45b9e",
   "metadata": {},
   "outputs": [
    {
     "data": {
      "text/plain": [
       "'I want to become a Data Scientist'"
      ]
     },
     "execution_count": 25,
     "metadata": {},
     "output_type": "execute_result"
    }
   ],
   "source": [
    "a=open(\"test3.txt\",\"r\")\n",
    "a.read()"
   ]
  },
  {
   "cell_type": "code",
   "execution_count": 45,
   "id": "cf229575",
   "metadata": {},
   "outputs": [],
   "source": [
    "'''Q4. Explain the following with python code: read(), readline() and readlines().'''\n",
    "a=open(\"test4.txt\",\"w\")\n",
    "a.write(\"I like to play videogames \\n\")\n",
    "a.write(\" I love tracking and exploring the newplaces\")\n",
    "a.close()"
   ]
  },
  {
   "cell_type": "code",
   "execution_count": 46,
   "id": "ea025a03",
   "metadata": {},
   "outputs": [
    {
     "data": {
      "text/plain": [
       "'I like to play videogames \\n I love tracking and exploring the newplaces'"
      ]
     },
     "execution_count": 46,
     "metadata": {},
     "output_type": "execute_result"
    }
   ],
   "source": [
    "### Importance of read():\n",
    "'''Read() is a built-in python function. It helps to read any close file of python. When we use this function by appending with \n",
    "the variable it always gives us the data of the files as an output.'''\n",
    "### for example:\n",
    "a=open(\"test4.txt\",\"r\")\n",
    "a.read()"
   ]
  },
  {
   "cell_type": "code",
   "execution_count": 47,
   "id": "cca29a3c",
   "metadata": {},
   "outputs": [
    {
     "data": {
      "text/plain": [
       "'I like to play videogames \\n'"
      ]
     },
     "execution_count": 47,
     "metadata": {},
     "output_type": "execute_result"
    }
   ],
   "source": [
    "### Importance of readline():\n",
    "### Readline() is a built-in python function. It helps to read a line of python file until new line.\n",
    "a=open(\"test4.txt\",\"r\")\n",
    "a.readline()"
   ]
  },
  {
   "cell_type": "code",
   "execution_count": 49,
   "id": "360e30b1",
   "metadata": {},
   "outputs": [
    {
     "data": {
      "text/plain": [
       "['I like to play videogames \\n',\n",
       " ' I love tracking and exploring the newplaces']"
      ]
     },
     "execution_count": 49,
     "metadata": {},
     "output_type": "execute_result"
    }
   ],
   "source": [
    "### Importance of readlines():\n",
    "### Readlines() is a built-in python function. It helps to read all the lines of python file and also Return a list of lines from the stream\n",
    "a=open(\"test4.txt\",\"r\")\n",
    "a.readlines()"
   ]
  },
  {
   "cell_type": "code",
   "execution_count": 7,
   "id": "dbfa1b02",
   "metadata": {},
   "outputs": [
    {
     "name": "stdout",
     "output_type": "stream",
     "text": [
      "\n"
     ]
    }
   ],
   "source": [
    "'''Q5. Explain why with statement is used with open(). What is the advantage of using with statement and\n",
    "open() together?'''"
   ]
  },
  {
   "cell_type": "markdown",
   "id": "e0335382",
   "metadata": {},
   "source": [
    "###### The with statement in Python is used to ensure that a block of code is executed safely and efficiently. The most common use of with is in combination with open() function, which is used to open files. The with statement ensures that the file is closed automatically after the block inside the with statement is executed, regardless of whether an exception is raised or not.\n",
    "\n",
    "###### The advantage of using with statement and open() together is that it simplifies the code and makes it more readable. Additionally, it ensures that the file is properly closed, which can prevent errors and other issues in your program. When you use with and open(), you don't need to worry about explicitly closing the file or handling any errors that may occur during file operations."
   ]
  },
  {
   "cell_type": "code",
   "execution_count": 15,
   "id": "cfa7e872",
   "metadata": {},
   "outputs": [],
   "source": [
    "### Example of opening a file by using with\n",
    "with open(\"With_Open1.txt\",\"w\") as f:\n",
    "    f.write(\"This is an example of with and file\")"
   ]
  },
  {
   "cell_type": "code",
   "execution_count": 16,
   "id": "de0004a8",
   "metadata": {},
   "outputs": [
    {
     "name": "stdout",
     "output_type": "stream",
     "text": [
      "This is an example of with and file\n"
     ]
    }
   ],
   "source": [
    "with open(\"With_Open1.txt\",\"r\") as f:\n",
    "    a=f.read()\n",
    "    print(a)"
   ]
  },
  {
   "cell_type": "code",
   "execution_count": 21,
   "id": "a4197e77",
   "metadata": {},
   "outputs": [
    {
     "data": {
      "text/plain": [
       "'This is an example of write function'"
      ]
     },
     "execution_count": 21,
     "metadata": {},
     "output_type": "execute_result"
    }
   ],
   "source": [
    "'''Q6. Explain the write() and writelines() functions. Give a suitable example.'''\n",
    "### Write and its uses: Write is a in-built function of python. It is basically used for write something in open python file.\n",
    "### In python file whenever we used \"w\" as a mode it it means we provides writable mode to the file.\n",
    "### For example:\n",
    "a=open(\"test5.txt\",\"w\")\n",
    "a.write(\"This is an example of write function\")\n",
    "a=open(\"test5.txt\",\"r\")\n",
    "a.read()"
   ]
  },
  {
   "cell_type": "markdown",
   "id": "4d9ec59f",
   "metadata": {},
   "source": [
    "###### The writelines() method in Python is used to write a sequence of strings to a file. It takes an iterable object as an argument, such as a list or a tuple, and writes each string in the sequence to the file.\n",
    "\n",
    "###### The writelines() method can be useful in situations where you need to write multiple lines of text to a file at once, instead of writing each line individually using the write() method.\n"
   ]
  },
  {
   "cell_type": "code",
   "execution_count": 27,
   "id": "59f96d0d",
   "metadata": {},
   "outputs": [],
   "source": [
    "lst1=['My name is Harshit','Currently,I am doing Data Science Marsters Course from PWSKILLS','This course is very useful for all level of Data Science aspirants']"
   ]
  },
  {
   "cell_type": "code",
   "execution_count": 28,
   "id": "48d8e33d",
   "metadata": {},
   "outputs": [],
   "source": [
    "with open(\"Writelines1.txt\",\"w\") as f:\n",
    "    f.writelines(lst1)"
   ]
  },
  {
   "cell_type": "code",
   "execution_count": 30,
   "id": "5302805b",
   "metadata": {},
   "outputs": [],
   "source": [
    "f.close()"
   ]
  },
  {
   "cell_type": "code",
   "execution_count": 31,
   "id": "75bdccb8",
   "metadata": {},
   "outputs": [
    {
     "name": "stdout",
     "output_type": "stream",
     "text": [
      "My name is HarshitCurrently,I am doing Data Science Marsters Course from PWSKILLSThis course is very useful for all level of Data Science aspirants\n"
     ]
    }
   ],
   "source": [
    "with open(\"Writelines1.txt\",\"r\") as f:\n",
    "    a=f.read()\n",
    "    print(a)"
   ]
  },
  {
   "cell_type": "code",
   "execution_count": null,
   "id": "4dd5caaa",
   "metadata": {},
   "outputs": [],
   "source": []
  }
 ],
 "metadata": {
  "kernelspec": {
   "display_name": "Python 3 (ipykernel)",
   "language": "python",
   "name": "python3"
  },
  "language_info": {
   "codemirror_mode": {
    "name": "ipython",
    "version": 3
   },
   "file_extension": ".py",
   "mimetype": "text/x-python",
   "name": "python",
   "nbconvert_exporter": "python",
   "pygments_lexer": "ipython3",
   "version": "3.10.9"
  }
 },
 "nbformat": 4,
 "nbformat_minor": 5
}
