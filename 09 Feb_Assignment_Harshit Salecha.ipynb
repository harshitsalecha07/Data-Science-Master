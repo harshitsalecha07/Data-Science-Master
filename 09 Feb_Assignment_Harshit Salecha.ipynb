{
 "cells": [
  {
   "cell_type": "code",
   "execution_count": 55,
   "id": "f5d19a81",
   "metadata": {},
   "outputs": [],
   "source": [
    "'''Q1, Create a vehicle class with an init method having instance variables as name_of_vehicle, max_speed\n",
    "and average_of_vehicle.'''\n",
    "class vehicle:\n",
    "    def __init__(self, name_of_vehicle, max_speed, average_of_vehicle):\n",
    "        self.name_of_vehicle=name_of_vehicle\n",
    "        self.max_speed=max_speed\n",
    "        self.average_of_vehicle=average_of_vehicle\n",
    "    def vehicle_details(self):\n",
    "        return(self.name_of_vehicle, self.max_speed,self.average_of_vehicle)"
   ]
  },
  {
   "cell_type": "code",
   "execution_count": 56,
   "id": "f8e08f22",
   "metadata": {},
   "outputs": [],
   "source": [
    "a=vehicle(\"Audi\",300,200)"
   ]
  },
  {
   "cell_type": "code",
   "execution_count": 57,
   "id": "5ff86058",
   "metadata": {},
   "outputs": [
    {
     "data": {
      "text/plain": [
       "200"
      ]
     },
     "execution_count": 57,
     "metadata": {},
     "output_type": "execute_result"
    }
   ],
   "source": [
    "a.average_of_vehicle"
   ]
  },
  {
   "cell_type": "code",
   "execution_count": 58,
   "id": "848deb33",
   "metadata": {},
   "outputs": [
    {
     "data": {
      "text/plain": [
       "300"
      ]
     },
     "execution_count": 58,
     "metadata": {},
     "output_type": "execute_result"
    }
   ],
   "source": [
    "a.max_speed"
   ]
  },
  {
   "cell_type": "code",
   "execution_count": 59,
   "id": "c168fb45",
   "metadata": {},
   "outputs": [
    {
     "data": {
      "text/plain": [
       "'Audi'"
      ]
     },
     "execution_count": 59,
     "metadata": {},
     "output_type": "execute_result"
    }
   ],
   "source": [
    "a.name_of_vehicle"
   ]
  },
  {
   "cell_type": "code",
   "execution_count": 60,
   "id": "85befa48",
   "metadata": {},
   "outputs": [
    {
     "data": {
      "text/plain": [
       "('Audi', 300, 200)"
      ]
     },
     "execution_count": 60,
     "metadata": {},
     "output_type": "execute_result"
    }
   ],
   "source": [
    "a.vehicle_details()"
   ]
  },
  {
   "cell_type": "code",
   "execution_count": 163,
   "id": "4e15d93b",
   "metadata": {},
   "outputs": [],
   "source": [
    "'''Q2. Create a child class car from the vehicle class created in Que 1, which will inherit the vehicle class.\n",
    "Create a method named seating_capacity which takes capacity as an argument and returns the name of\n",
    "the vehicle and its seating capacity.'''\n",
    "class child_car(vehicle):\n",
    "    def seating_capacity(self,capacity):\n",
    "        print(f\"The name of the vehicle is {self.name_of_vehicle}, and its capacity is {capacity}\")"
   ]
  },
  {
   "cell_type": "code",
   "execution_count": 164,
   "id": "2ed80e92",
   "metadata": {},
   "outputs": [],
   "source": [
    "b=child_car(\"Audi\",300,200)"
   ]
  },
  {
   "cell_type": "code",
   "execution_count": 165,
   "id": "1e408fc7",
   "metadata": {},
   "outputs": [
    {
     "data": {
      "text/plain": [
       "200"
      ]
     },
     "execution_count": 165,
     "metadata": {},
     "output_type": "execute_result"
    }
   ],
   "source": [
    "b.average_of_vehicle"
   ]
  },
  {
   "cell_type": "code",
   "execution_count": 160,
   "id": "7e7e3966",
   "metadata": {},
   "outputs": [
    {
     "data": {
      "text/plain": [
       "'Audi'"
      ]
     },
     "execution_count": 160,
     "metadata": {},
     "output_type": "execute_result"
    }
   ],
   "source": [
    "b.name_of_vehicle"
   ]
  },
  {
   "cell_type": "code",
   "execution_count": 166,
   "id": "da435aa4",
   "metadata": {},
   "outputs": [
    {
     "name": "stdout",
     "output_type": "stream",
     "text": [
      "The name of the vehicle is Audi, and its capacity is 5\n"
     ]
    }
   ],
   "source": [
    "b.seating_capacity(5)"
   ]
  },
  {
   "cell_type": "markdown",
   "id": "c6d00318",
   "metadata": {},
   "source": [
    "### Q3. What is multiple inheritance? Write a python code to demonstrate multiple inheritance.\n",
    "###### Multiple inheritance is a feature of object-oriented programming languages, including Python, that allows a class to inherit from more than one parent class. In other words, a class can inherit the attributes and methods of multiple parent classes. Here's an example code in Python that demonstrates multiple inheritance:"
   ]
  },
  {
   "cell_type": "code",
   "execution_count": 203,
   "id": "d3d1cc04",
   "metadata": {},
   "outputs": [],
   "source": [
    "class fourwheelers:\n",
    "    def __init__(self,name_of_vehicle,speed_of_vehicle,price_of_vehicle):\n",
    "        self.name_of_vehicle=name_of_vehicle\n",
    "        self.speed_of_vehicle=speed_of_vehicle\n",
    "        self.price_of_vehicle=price_of_vehicle\n",
    "    def fourwheelers_details(self):\n",
    "        return(self.name_of_vehicle,self.speed_of_vehicle,self.price_of_vehicle)\n",
    "class twowheelers:\n",
    "    def __init__(self,name_of_vehicle,speed_of_vehicle,price_of_vehicle):\n",
    "        self.name_of_vehicle=name_of_vehicle\n",
    "        self.speed_of_vehicle=speed_of_vehicle\n",
    "        self.price_of_vehicle=price_of_vehicle\n",
    "    def twowheelers_details(self):\n",
    "        return(self.name_of_vehicle,self.speed_of_vehicle,self.price_of_vehicle)\n",
    "class vehicles(fourwheelers,twowheelers):\n",
    "    def Total_assets(self,assets):\n",
    "        print(f\"The total assets is {assets}\")"
   ]
  },
  {
   "cell_type": "code",
   "execution_count": 204,
   "id": "62d1352a",
   "metadata": {},
   "outputs": [],
   "source": [
    "a=vehicles(\"Audi\",300,25000000)"
   ]
  },
  {
   "cell_type": "code",
   "execution_count": 205,
   "id": "88602e39",
   "metadata": {},
   "outputs": [
    {
     "name": "stdout",
     "output_type": "stream",
     "text": [
      "The total assets is 40000000\n"
     ]
    }
   ],
   "source": [
    "a.Total_assets(40000000)"
   ]
  },
  {
   "cell_type": "code",
   "execution_count": 256,
   "id": "01ad09ba",
   "metadata": {},
   "outputs": [],
   "source": [
    "###Q4. What are getter and setter in python? Create a class and create a getter and a setter method in this class.\n",
    "###In Python, a getter is a method that retrieves the value of a class attribute or property. It's a way to encapsulate the access to the attribute and provide a controlled way to access the attribute's value.\n",
    "class ITcompany:\n",
    "    def __init__(self, company_name,number_of_employees, year_of_establishment, total_revenue):\n",
    "        self.company_name=company_name\n",
    "        self.number_of_employees=number_of_employees\n",
    "        self.__year_of_establishment=year_of_establishment\n",
    "        self.__total_revenue=total_revenue\n",
    "    def ITcompany_details(self):\n",
    "        return(self.company_name,self.number_of_employees)\n",
    "    @property\n",
    "    def company_total_revenue_details(self):\n",
    "        return(self.__total_revenue)\n",
    "    @company_total_revenue_details.setter\n",
    "    def update_total_revenue(self,new_revenue):\n",
    "        self.__total_revenue=new_revenue\n",
    "    @company_total_revenue_details.getter\n",
    "    def company_year_of_establishment(self):\n",
    "        return(self.__year_of_establishment)"
   ]
  },
  {
   "cell_type": "code",
   "execution_count": 259,
   "id": "c1bfe583",
   "metadata": {},
   "outputs": [],
   "source": [
    "a=ITcompany(\"Infosys\",50000,1960,500000000000)"
   ]
  },
  {
   "cell_type": "code",
   "execution_count": 260,
   "id": "457a3ed2",
   "metadata": {},
   "outputs": [
    {
     "data": {
      "text/plain": [
       "1960"
      ]
     },
     "execution_count": 260,
     "metadata": {},
     "output_type": "execute_result"
    }
   ],
   "source": [
    "a.company_year_of_establishment"
   ]
  },
  {
   "cell_type": "code",
   "execution_count": 261,
   "id": "3726b164",
   "metadata": {},
   "outputs": [
    {
     "data": {
      "text/plain": [
       "('Infosys', 50000)"
      ]
     },
     "execution_count": 261,
     "metadata": {},
     "output_type": "execute_result"
    }
   ],
   "source": [
    "a.ITcompany_details()"
   ]
  },
  {
   "cell_type": "code",
   "execution_count": 320,
   "id": "ef5af32a",
   "metadata": {},
   "outputs": [],
   "source": [
    "### Q5.What is method overriding in python? Write a python code to demonstrate method overriding.\n",
    "'''Method overriding is a concept in object-oriented programming where a subclass provides a different implementation for a method \n",
    "that is already defined in its superclass. The subclass method overrides the implementation of the superclass method, \n",
    "so that when the method is called on an object of the subclass, the subclass implementation is executed instead of \n",
    "the superclass implementation.'''\n",
    "class city:\n",
    "    number_of_schools=300\n",
    "    def __init__(self,Name_of_Top_Performing_school,Total_students_in_school):\n",
    "        self.Name_of_Top_Performing_school=Name_of_Top_Performing_school\n",
    "        self.Total_students_in_school=Total_students_in_school\n",
    "    @classmethod\n",
    "    def Updated_number_of_schools(cls, change_in_school):\n",
    "        cls.number_of_schools=cls.number_of_schools+change_in_school\n",
    "    @staticmethod\n",
    "    def City_name(x):\n",
    "        print(x)"
   ]
  },
  {
   "cell_type": "code",
   "execution_count": 321,
   "id": "b9bf0e8d",
   "metadata": {},
   "outputs": [],
   "source": [
    "a=city(\"Mohit\",6000)"
   ]
  },
  {
   "cell_type": "code",
   "execution_count": 322,
   "id": "c043e88c",
   "metadata": {},
   "outputs": [
    {
     "data": {
      "text/plain": [
       "6000"
      ]
     },
     "execution_count": 322,
     "metadata": {},
     "output_type": "execute_result"
    }
   ],
   "source": [
    "a.Total_students_in_school"
   ]
  },
  {
   "cell_type": "code",
   "execution_count": 323,
   "id": "53151e43",
   "metadata": {},
   "outputs": [
    {
     "data": {
      "text/plain": [
       "300"
      ]
     },
     "execution_count": 323,
     "metadata": {},
     "output_type": "execute_result"
    }
   ],
   "source": [
    "a.number_of_schools"
   ]
  },
  {
   "cell_type": "code",
   "execution_count": 324,
   "id": "119cc59a",
   "metadata": {},
   "outputs": [],
   "source": [
    "a.Updated_number_of_schools(30)"
   ]
  },
  {
   "cell_type": "code",
   "execution_count": 325,
   "id": "3ce6e32f",
   "metadata": {},
   "outputs": [
    {
     "data": {
      "text/plain": [
       "330"
      ]
     },
     "execution_count": 325,
     "metadata": {},
     "output_type": "execute_result"
    }
   ],
   "source": [
    "a.number_of_schools"
   ]
  },
  {
   "cell_type": "code",
   "execution_count": 326,
   "id": "224eb0e6",
   "metadata": {},
   "outputs": [
    {
     "name": "stdout",
     "output_type": "stream",
     "text": [
      "Your city name is Nimbahera\n"
     ]
    }
   ],
   "source": [
    "a.City_name(\"Your city name is Nimbahera\")"
   ]
  }
 ],
 "metadata": {
  "kernelspec": {
   "display_name": "Python 3 (ipykernel)",
   "language": "python",
   "name": "python3"
  },
  "language_info": {
   "codemirror_mode": {
    "name": "ipython",
    "version": 3
   },
   "file_extension": ".py",
   "mimetype": "text/x-python",
   "name": "python",
   "nbconvert_exporter": "python",
   "pygments_lexer": "ipython3",
   "version": "3.10.9"
  }
 },
 "nbformat": 4,
 "nbformat_minor": 5
}
