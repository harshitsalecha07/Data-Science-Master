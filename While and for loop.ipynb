{
 "cells": [
  {
   "cell_type": "code",
   "execution_count": 8,
   "id": "c509b6c8-4ac7-4063-8d7d-d322c27a1f2c",
   "metadata": {},
   "outputs": [
    {
     "name": "stdin",
     "output_type": "stream",
     "text": [
      "Please entre your joining age :  20\n"
     ]
    },
    {
     "name": "stdout",
     "output_type": "stream",
     "text": [
      "Your are retired\n"
     ]
    }
   ],
   "source": [
    "Joining_age=int(input(\"Please entre your joining age : \"))\n",
    "while Joining_age>=25 and Joining_age<60:\n",
    "    print(f\"Your remainging working years is {60-Joining_age}\")\n",
    "    Joining_age=Joining_age+1\n",
    "else:\n",
    "    print(\"Your are retired\")"
   ]
  },
  {
   "cell_type": "code",
   "execution_count": 11,
   "id": "61b2ccf9-6cb0-40bf-85bf-21ed9697b5f4",
   "metadata": {},
   "outputs": [
    {
     "name": "stdin",
     "output_type": "stream",
     "text": [
      "Please Entre Your Pockit Money 50\n"
     ]
    },
    {
     "name": "stdout",
     "output_type": "stream",
     "text": [
      "Your amount is : Rs.  50\n",
      "Your amount is : Rs.  30\n"
     ]
    },
    {
     "name": "stdin",
     "output_type": "stream",
     "text": [
      "Please Entre Your Pockit Money 75\n"
     ]
    },
    {
     "name": "stdout",
     "output_type": "stream",
     "text": [
      "Your amount is : Rs.  75\n",
      "Your amount is : Rs.  50\n",
      "Your amount is : Rs.  25\n",
      "Your remaining amount is : Rs. 0\n",
      "This remaining amount is insufficient to purchase anything so kindly refill your pocket money\n"
     ]
    }
   ],
   "source": [
    "amount=int(input(\"Please Entre Your Pockit Money\"))\n",
    "while amount>10:\n",
    "    print(\"Your amount is : Rs. \",amount)\n",
    "    amount=amount-20\n",
    "amount=int(input(\"Please Entre Your Pockit Money\"))\n",
    "while amount>20 and amount<100:\n",
    "    print(\"Your amount is : Rs. \",amount)\n",
    "    amount=amount-25\n",
    "else: \n",
    "    print(\"Your remaining amount is : Rs.\",amount)\n",
    "    print(\"This remaining amount is insufficient to purchase anything so kindly refill your pocket money\")"
   ]
  },
  {
   "cell_type": "code",
   "execution_count": 14,
   "id": "fc0fa7c3-2934-4bf6-b49f-dcac1741fc48",
   "metadata": {},
   "outputs": [
    {
     "name": "stdin",
     "output_type": "stream",
     "text": [
      "Please Entre Your Pockit Money 50\n"
     ]
    },
    {
     "name": "stdout",
     "output_type": "stream",
     "text": [
      "Your amount is : Rs.  50\n"
     ]
    },
    {
     "name": "stdin",
     "output_type": "stream",
     "text": [
      "Please Entre the price of product 10\n"
     ]
    },
    {
     "name": "stdout",
     "output_type": "stream",
     "text": [
      "Your amount is : Rs.  40\n"
     ]
    },
    {
     "name": "stdin",
     "output_type": "stream",
     "text": [
      "Please Entre the price of product 40\n",
      "Please Entre Your Pockit Money 20\n"
     ]
    },
    {
     "name": "stdout",
     "output_type": "stream",
     "text": [
      "Your remaining amount is : Rs. 20\n",
      "This remaining amount is insufficient to purchase anything so kindly refill your pocket money\n"
     ]
    }
   ],
   "source": [
    "amount=int(input(\"Please Entre Your Pockit Money\"))\n",
    "while amount>10:\n",
    "    print(\"Your amount is : Rs. \",amount)\n",
    "    amount=amount-int(input(\"Please Entre the price of product\"))\n",
    "amount=int(input(\"Please Entre Your Pockit Money\"))\n",
    "while amount>20 and amount<100:\n",
    "    print(\"Your amount is : Rs. \",amount)\n",
    "    amount=amount-25\n",
    "else: \n",
    "    print(\"Your remaining amount is : Rs.\",amount)\n",
    "    print(\"This remaining amount is insufficient to purchase anything so kindly refill your pocket money\")"
   ]
  },
  {
   "cell_type": "code",
   "execution_count": 21,
   "id": "c059fbc8-988e-4db1-b143-b789ae8837a1",
   "metadata": {},
   "outputs": [
    {
     "name": "stdout",
     "output_type": "stream",
     "text": [
      "Arpit \n",
      " Harshit\n"
     ]
    }
   ],
   "source": [
    "Family=[\"Harshit\",27,\"Arpit\",33,\"Sagar\",60,\"Working in Edtech\",\"Banker\",\"Agent\"]\n",
    "print(Family[2],\"\\n\",Family[0])"
   ]
  },
  {
   "cell_type": "code",
   "execution_count": 23,
   "id": "8071da2b-914b-4b03-8758-72c7a735ee4f",
   "metadata": {},
   "outputs": [
    {
     "name": "stdout",
     "output_type": "stream",
     "text": [
      "['Sadhana', 27, 'Arpit', 33, 'Sagar', 60, 'Working in Edtech', 'Banker', 'Agent']\n"
     ]
    }
   ],
   "source": [
    "Family[0]=\"Sadhana\"\n",
    "print(Family)"
   ]
  },
  {
   "cell_type": "code",
   "execution_count": 28,
   "id": "6ad4882d-504c-4752-bb7d-de662c655a72",
   "metadata": {},
   "outputs": [
    {
     "name": "stdout",
     "output_type": "stream",
     "text": [
      "Sadhana27Arpit33Sagar60Working in EdtechBankerAgent"
     ]
    }
   ],
   "source": [
    "for a in Family:\n",
    "    print(a,end='')"
   ]
  },
  {
   "cell_type": "code",
   "execution_count": 33,
   "id": "aa743075-ef88-4576-b36c-60061c00a76c",
   "metadata": {},
   "outputs": [
    {
     "name": "stdout",
     "output_type": "stream",
     "text": [
      "Pen\n",
      "20\n",
      "Pencil\n",
      "5\n",
      "Books\n",
      "Price of the books 2000\n"
     ]
    }
   ],
   "source": [
    "Stationary_item=[\"Pen\",20,\"Pencil\",5,\"Books\",2000,\"Eraser\",10,\"Scale\",15]\n",
    "for a in Stationary_item:\n",
    "    print (a)\n",
    "    if a==\"Books\":\n",
    "        print(\"Price of the books\",Stationary_item[5])\n",
    "        break"
   ]
  },
  {
   "cell_type": "code",
   "execution_count": null,
   "id": "4925aa58-8ab8-407f-a12d-14b0fec1387f",
   "metadata": {},
   "outputs": [],
   "source": []
  }
 ],
 "metadata": {
  "kernelspec": {
   "display_name": "Python 3 (ipykernel)",
   "language": "python",
   "name": "python3"
  },
  "language_info": {
   "codemirror_mode": {
    "name": "ipython",
    "version": 3
   },
   "file_extension": ".py",
   "mimetype": "text/x-python",
   "name": "python",
   "nbconvert_exporter": "python",
   "pygments_lexer": "ipython3",
   "version": "3.10.8"
  }
 },
 "nbformat": 4,
 "nbformat_minor": 5
}
