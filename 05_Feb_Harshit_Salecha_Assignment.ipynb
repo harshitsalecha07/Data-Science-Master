{
 "cells": [
  {
   "cell_type": "markdown",
   "id": "e01d9739",
   "metadata": {},
   "source": [
    "### Q1.) Explain Class and Object with respect to Object-Oriented Programming. Give a suitable example.\n",
    "\n",
    "###### In object-oriented programming (OOP), a class is a blueprint or a template for creating objects. It describes the attributes (data) and behaviors (methods) of the objects that will be created from it. An object, on the other hand, is an instance of a class that contains the data and methods defined in the class."
   ]
  },
  {
   "cell_type": "code",
   "execution_count": 25,
   "id": "45b8bb73",
   "metadata": {},
   "outputs": [],
   "source": [
    "### Example:\n",
    "class mobile:\n",
    "    def __init__(self, company, model, price, year_of_launch):\n",
    "        self.company=company\n",
    "        self.model=model\n",
    "        self.price=price\n",
    "        self.__year_of_launch=year_of_launch\n",
    "    def company_details(self):\n",
    "        return(self.company, self.model, self.price, self.year_of_launch)"
   ]
  },
  {
   "cell_type": "code",
   "execution_count": 26,
   "id": "3ea4d081",
   "metadata": {},
   "outputs": [],
   "source": [
    "xyz=mobile(\"Apple\",\"iPhone-11\",32000,2020)"
   ]
  },
  {
   "cell_type": "code",
   "execution_count": 27,
   "id": "d07f0778",
   "metadata": {},
   "outputs": [
    {
     "data": {
      "text/plain": [
       "32000"
      ]
     },
     "execution_count": 27,
     "metadata": {},
     "output_type": "execute_result"
    }
   ],
   "source": [
    "xyz."
   ]
  },
  {
   "cell_type": "markdown",
   "id": "11d288ae",
   "metadata": {},
   "source": [
    "### Q2.) Name the four pillars of OOPs.\n",
    "###### The four pillars of Object-Oriented Programming (OOP) are:\n",
    "\n",
    "###### Encapsulation: It refers to the concept of bundling data and methods that operate on that data, into a single unit called a class. Encapsulation enables data hiding, which means that the internal state of an object is hidden from the outside world and can be accessed only through publicly exposed methods.\n",
    "\n",
    "###### Inheritance: It allows a class to inherit properties and methods from another class. The class that is being inherited from is called the superclass or parent class, and the class that inherits from it is called the subclass or child class. Inheritance promotes code reuse and makes it easier to create and maintain a large codebase.\n",
    "\n",
    "###### Polymorphism: It refers to the ability of objects to take on different forms or behaviors. Polymorphism can be achieved through method overloading, which allows a class to have multiple methods with the same name but different parameters, and method overriding, which allows a subclass to provide its own implementation of a method that is already defined in the superclass.\n",
    "\n",
    "###### Abstraction: It involves the process of identifying the essential features of an object and ignoring the rest. Abstraction enables the creation of abstract classes and interfaces, which provide a blueprint for implementing concrete classes. Abstraction also helps in reducing code complexity and improving code maintainability.\n"
   ]
  },
  {
   "cell_type": "markdown",
   "id": "a1b2f320",
   "metadata": {},
   "source": [
    "### Q3. Explain why the __init__() function is used. Give a suitable example."
   ]
  },
  {
   "cell_type": "markdown",
   "id": "73719a51",
   "metadata": {},
   "source": [
    "###### In Python, the __init__() function is a special method that is called when an object is created from a class. It is also known as a constructor method because it initializes the attributes of the object when it is first created.\n",
    "\n",
    "###### The __init__() function is used to:\n",
    "\n",
    "###### Set the initial values of attributes for an object\n",
    "###### Perform any other necessary setup that needs to be done when an object is created"
   ]
  },
  {
   "cell_type": "code",
   "execution_count": 32,
   "id": "f2d2f108",
   "metadata": {},
   "outputs": [],
   "source": [
    "### Here's an example:\n",
    "class Ed_tech:\n",
    "    def __init__(self, name, status, selection):\n",
    "        self.name=name\n",
    "        self.status=status\n",
    "        self.selection=selection\n",
    "    def Ed_tech_details(self):\n",
    "        return(self.name, self.status, self.selection)"
   ]
  },
  {
   "cell_type": "code",
   "execution_count": 33,
   "id": "2e53c910",
   "metadata": {},
   "outputs": [],
   "source": [
    "Company=Ed_tech(\"Testbook\", \"Stable\",200000)"
   ]
  },
  {
   "cell_type": "code",
   "execution_count": 38,
   "id": "c7db2b62",
   "metadata": {},
   "outputs": [
    {
     "data": {
      "text/plain": [
       "'Stable'"
      ]
     },
     "execution_count": 38,
     "metadata": {},
     "output_type": "execute_result"
    }
   ],
   "source": [
    "Company.status"
   ]
  },
  {
   "cell_type": "markdown",
   "id": "97a1bab8",
   "metadata": {},
   "source": [
    "### Q4.) Why self is used in OOPs?"
   ]
  },
  {
   "cell_type": "markdown",
   "id": "7e1fb97e",
   "metadata": {},
   "source": [
    "###### In Object-Oriented Programming (OOP), the self keyword refers to the instance of a class that is being operated on. It is a reference to the object itself, and it allows you to access the attributes and methods of that object.\n",
    "\n",
    "###### In Python, when a method is called on an object, the object itself is automatically passed as the first parameter to the method, and it is typically named self. The self parameter is used to access the attributes and methods of the object within the method."
   ]
  },
  {
   "cell_type": "markdown",
   "id": "a07ae899",
   "metadata": {},
   "source": [
    "### Q5.) What is inheritance? Give an example for each type of inheritance."
   ]
  },
  {
   "cell_type": "markdown",
   "id": "7690c16c",
   "metadata": {},
   "source": [
    "###### Inheritance: It allows a class to inherit properties and methods from another class. The class that is being inherited from is called the superclass or parent class, and the class that inherits from it is called the subclass or child class. Inheritance promotes code reuse and makes it easier to create and maintain a large codebase.\n",
    "###### For example:"
   ]
  },
  {
   "cell_type": "code",
   "execution_count": 85,
   "id": "f780d9a2",
   "metadata": {},
   "outputs": [],
   "source": [
    "class family:\n",
    "    def f1(self):\n",
    "        return(\"x\",\"y\")"
   ]
  },
  {
   "cell_type": "code",
   "execution_count": 86,
   "id": "21c3aece",
   "metadata": {},
   "outputs": [],
   "source": [
    "class family2(family):\n",
    "    def f2(self):\n",
    "        return(\"a\",\"b\")"
   ]
  },
  {
   "cell_type": "code",
   "execution_count": 87,
   "id": "3dbc58ac",
   "metadata": {},
   "outputs": [],
   "source": [
    "xyz=family2"
   ]
  },
  {
   "cell_type": "code",
   "execution_count": 97,
   "id": "186ed1ff",
   "metadata": {},
   "outputs": [
    {
     "name": "stdout",
     "output_type": "stream",
     "text": [
      "('x', 'y')\n"
     ]
    }
   ],
   "source": [
    "p=xyz.f1(\"\")\n",
    "print(p)"
   ]
  }
 ],
 "metadata": {
  "kernelspec": {
   "display_name": "Python 3 (ipykernel)",
   "language": "python",
   "name": "python3"
  },
  "language_info": {
   "codemirror_mode": {
    "name": "ipython",
    "version": 3
   },
   "file_extension": ".py",
   "mimetype": "text/x-python",
   "name": "python",
   "nbconvert_exporter": "python",
   "pygments_lexer": "ipython3",
   "version": "3.10.9"
  }
 },
 "nbformat": 4,
 "nbformat_minor": 5
}
