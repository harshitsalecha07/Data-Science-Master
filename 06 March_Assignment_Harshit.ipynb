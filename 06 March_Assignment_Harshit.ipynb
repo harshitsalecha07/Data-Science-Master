{
 "cells": [
  {
   "cell_type": "markdown",
   "id": "70aa2c83-cb08-4af5-80c2-ce03e49171c6",
   "metadata": {},
   "source": [
    "### Q1. What is Statistics?"
   ]
  },
  {
   "cell_type": "markdown",
   "id": "a35dede7-c428-4f24-8e20-3c8d17a697f3",
   "metadata": {},
   "source": [
    "Statistic is the science of collecting, organising and analysing the data.         "
   ]
  },
  {
   "cell_type": "markdown",
   "id": "b2a8deec-3751-4cc7-af1b-4450f42274e4",
   "metadata": {},
   "source": [
    "### Q2. Define the different types of statistics and give an example of when each type might be used."
   ]
  },
  {
   "cell_type": "markdown",
   "id": "ff77c65d-a806-4828-83b0-668201c7f332",
   "metadata": {},
   "source": [
    "### Types of Statistic\n",
    "\n",
    "Statistic is divided into two parts\n",
    "\n",
    "1.) Discriptive Statistic\n",
    "\n",
    "2.) Infrential Statistic\n",
    "\n",
    "In discriptive statistics we can measure the central tendancy (mean, median, or mode) and Dispersion (variance or standard deviation). On the otherhand in infrential statistic with the help of sample data we have to make a conclusion for our population data. "
   ]
  },
  {
   "cell_type": "markdown",
   "id": "3a5fc1a7-a3ba-4941-a9ee-4af96d96378c",
   "metadata": {},
   "source": [
    "### Q3. What are the different types of data and how do they differ from each other? Provide an example of each type of data."
   ]
  },
  {
   "cell_type": "markdown",
   "id": "b62249e5-06e0-483a-8ec4-a634c26f7299",
   "metadata": {},
   "source": [
    "Data: Data is piece of information\n",
    "\n",
    "#### Types of Data\n",
    "\n",
    "Data is divided into two parts\n",
    "\n",
    "1.) Quantitative Data (Numerical Data)\n",
    "\n",
    "2.) Qualitative Data (Categorical Data)\n",
    "\n",
    "### Quantitative Data\n",
    "\n",
    "Quantitative data is a Data in which all the information are in the numerical form. \n",
    "\n",
    "##### It is further divided into two parts\n",
    "\n",
    "a.) Discrete Data: The data is in the form of whole number. For e.g age=[1,2,3,4,5]\n",
    "\n",
    "b.) Continuous Data: The data is in the form of any number. For e.g marks=[10.4,11.2,13.2]\n",
    "\n",
    "### Qualitative Data\n",
    "\n",
    "Qualitative data is a Data in which all the information are not in the numerical form. \n",
    "\n",
    "##### It is also divided into two parts\n",
    "\n",
    "a.) Nominal Data: In nominal data the data is stored in Categories. For e.g Gender=['Male','Female']\n",
    "\n",
    "b.) Ordinal Data: If we can sort the data in by Ranking then the type of Data is known as Ordinal Data. For e.g Post=['Principal','Teacher','Students]"
   ]
  },
  {
   "cell_type": "markdown",
   "id": "0056c583-0ff6-438f-a97f-b69fd66c70b8",
   "metadata": {},
   "source": [
    "### Q4. Categorise the following datasets with respect to quantitative and qualitative data types:\n",
    "\n",
    "##### (i) Grading in exam: A+, A, B+, B, C+, C, D, E\n",
    "\n",
    "##### (ii) Colour of mangoes: yellow, green, orange, red\n",
    "\n",
    "##### (iii) Height data of a class: [178.9, 179, 179.5, 176, 177.2, 178.3, 175.8,...]\n",
    "\n",
    "##### (iv) Number of mangoes exported by a farm: [500, 600, 478, 672, ...]\n",
    "\n",
    "### Solution \n",
    "\n",
    "(i) Grading in exam: A+, A, B+, B, C+, C, D, E: Ordinal Qualitative Data\n",
    "\n",
    "(ii) Colour of mangoes: yellow, green, orange, red: Nominal Qualitative Data\n",
    "\n",
    "(iii) Height data of a class: [178.9, 179, 179.5, 176, 177.2, 178.3, 175.8,...]: Continuous Quantitative Data\n",
    "\n",
    "(iv) Number of mangoes exported by a farm: [500, 600, 478, 672, ...]: Discrete Quantitative Data"
   ]
  },
  {
   "cell_type": "markdown",
   "id": "0d85b8c4-f2b2-4e97-a65c-ff33a8bafdc6",
   "metadata": {},
   "source": [
    "### Q5. Explain the concept of levels of measurement and give an example of a variable for each level."
   ]
  },
  {
   "cell_type": "markdown",
   "id": "44245099-c4e8-4837-8ae1-7c801f805354",
   "metadata": {},
   "source": [
    "Levels of measurement, also known as scales of measurement, refer to the different ways in which variables can be classified based on the \n",
    "\n",
    "nature of the data they represent. There are four primary levels of measurement: nominal, ordinal, interval, and ratio. Each level provides \n",
    "\n",
    "specific information about the properties and characteristics of the data. Let's explore each level and provide an example variable for \n",
    "\n",
    "each:\n",
    "\n",
    "1. Nominal Level:\n",
    "\n",
    "At the nominal level, variables are categorical and can be organized into distinct categories or groups. However, there is no inherent order \n",
    "\n",
    "or numerical value associated with these categories. They are purely qualitative.\n",
    "\n",
    "Example Variable: Eye Color\n",
    "\n",
    "- Possible categories: Blue, Brown, Green, Gray, etc.\n",
    "\n",
    "2. Ordinal Level:\n",
    "\n",
    "In the ordinal level, variables possess the characteristics of nominal variables, but they also have a meaningful order or ranking between \n",
    "\n",
    "categories. However, the differences between the categories are not precisely quantifiable.\n",
    "\n",
    "Example Variable: Education Level\n",
    "\n",
    "- Possible categories: High School Diploma, Associate's Degree, Bachelor's Degree, Master's Degree, PhD.\n",
    "\n",
    "- There is a clear order, but we can't determine the exact difference in educational attainment between each category.\n",
    "\n",
    "3. Interval Level:\n",
    "\n",
    "At the interval level, variables have a meaningful order between categories, and the differences between the values are meaningful and \n",
    "\n",
    "measurable. However, there is no absolute zero point, meaning that a value of zero doesn't imply a complete absence of the attribute.\n",
    "\n",
    "Example Variable: Temperature in Celsius or Fahrenheit\n",
    "\n",
    "- Measurable differences: The difference between 20°C and 30°C is the same as between 30°C and 40°C.\n",
    "\n",
    "- No absolute zero: A temperature of 0°C doesn't mean there's an absence of heat; it's just a point on the temperature scale.\n",
    "\n",
    "4. Ratio Level:\n",
    "\n",
    "The ratio level is the highest level of measurement. It has all the characteristics of the interval level, with the addition of an absolute \n",
    "\n",
    "zero point, which indicates a complete absence of the attribute. Ratios between values are meaningful and can be interpreted.\n",
    "\n",
    "Example Variable: Weight\n",
    "\n",
    "- Measurable differences and an absolute zero: A weight of 50 kg is twice as heavy as 25 kg, and a weight of 0 kg means a complete absence of weight.\n",
    "\n",
    "Remember, the level of measurement determines the statistical methods that can be applied to the data and the meaningfulness of certain\n",
    "\n",
    "operations, such as calculating means, medians, or performing mathematical operations on the variables."
   ]
  },
  {
   "cell_type": "markdown",
   "id": "6eb9a8c4-ceaa-4356-ab2f-7a48495052a3",
   "metadata": {},
   "source": [
    "### Q6. Why is it important to understand the level of measurement when analyzing data? Provide an example to illustrate your answer."
   ]
  },
  {
   "cell_type": "markdown",
   "id": "54abf2c2-9d6c-4e2c-bb93-2cba1cdf38b6",
   "metadata": {},
   "source": [
    "Understanding the level of measurement is crucial when analyzing data because it dictates the appropriate statistical methods that can be used to analyze the data accurately. Different levels of measurement have different properties and limitations, and using the wrong statistical methods can lead to incorrect conclusions or interpretations. Here's an example to illustrate the importance of understanding the level of measurement:\n",
    "\n",
    "Example: Income Levels of Survey Respondents\n",
    "\n",
    "Suppose you are conducting a survey to gather data on the income levels of respondents in a particular region. You have collected the following data:\n",
    "\n",
    "Respondent | Income Level (in dollars)\n",
    "-------------------------------------\n",
    "1 -$30,000\n",
    "\n",
    "2 -$40,000\n",
    "\n",
    "3 -$20,000\n",
    "\n",
    "4 -$50,000\n",
    "\n",
    "5 -$40,000\n",
    "\n",
    "6 -High\n",
    "\n",
    "7 -Low\n",
    "\n",
    "8 -Medium\n",
    "\n",
    "In this example, the variable \"Income Level\" is categorical and falls under the nominal level of measurement because it represents distinct categories. However, some respondents have provided specific income values, while others have provided vague categories like \"High,\" \"Low,\" and \"Medium.\"\n",
    "\n",
    "If you fail to recognize the level of measurement and treat this variable as if it were at the interval level, you might calculate the mean income of the respondents to get an average. Since the variable is not at the interval level, calculating the mean would not be meaningful in this case. Adding the incomes and dividing by the number of respondents would lead to incorrect results because nominal data cannot be used in arithmetic operations like that.\n",
    "\n",
    "Instead, when you recognize that the data is at the nominal level, you would use appropriate statistical methods for categorical data, such as calculating frequencies and proportions, creating bar charts or pie charts, or using chi-square tests for independence.\n",
    "\n",
    "Understanding the level of measurement also helps when choosing the right visualizations and summarizing the data appropriately. For instance, for ordinal data, you could create a bar chart that shows the frequency of each education level category in the Education Level example from the previous answer. This visualization would illustrate the order and frequency distribution effectively.\n",
    "\n",
    "In summary, understanding the level of measurement is vital in data analysis to ensure the proper selection of statistical methods, to prevent misinterpretations, and to choose appropriate visualizations to convey meaningful insights from the data."
   ]
  },
  {
   "cell_type": "markdown",
   "id": "f5b02dc8-21af-4254-ac18-9d2a3907288d",
   "metadata": {},
   "source": [
    "### Q7. How nominal data type is different from ordinal data type.\n",
    "\n",
    "Nominal data only distinguishes between different categories without any order, while ordinal data establishes a meaningful order or ranking among categories.\n",
    "\n",
    "In nominal data, categories are considered qualitatively different and cannot be compared numerically. In contrast, ordinal data allows for comparisons in terms of rank but not precise differences.\n",
    "\n",
    "Nominal data falls under the lowest level of measurement, while ordinal data is a step above nominal data but below interval and ratio data.\n",
    "\n",
    "With nominal data, you can only use frequency counts, proportions, and mode for analysis. With ordinal data, you can use additional methods like median, quartiles, and non-parametric tests that consider the order of the categories.\n"
   ]
  },
  {
   "cell_type": "markdown",
   "id": "ca845790-0ac5-458c-b6c6-6ecaa47b7cf7",
   "metadata": {},
   "source": [
    "### Q8. Which type of plot can be used to display data in terms of range?\n",
    "To display data in terms of range, you can use a \"box plot\" (also known as a \"box-and-whisker plot\"). Box plots are particularly useful for visualizing the spread and distribution of numerical data, emphasizing the data's central tendency, variability, and range. They provide a concise summary of the data's distribution, making it easy to compare multiple datasets.\n",
    "\n",
    "A box plot consists of the following components:\n",
    "\n",
    "1. Box: The box represents the interquartile range (IQR), which encompasses the middle 50% of the data. The bottom edge of the box represents the first quartile (Q1), and the top edge represents the third quartile (Q3).\n",
    "\n",
    "2. Median (Q2): A line inside the box indicates the median, which represents the data point that divides the dataset into two halves, with 50% of the data below and 50% above the median.\n",
    "\n",
    "3. Whiskers: Lines (sometimes including horizontal lines, \"whisker caps\") extend from the edges of the box to the minimum and maximum values within a certain range, excluding outliers.\n",
    "\n",
    "4. Outliers: Data points that fall beyond the whiskers are plotted individually as dots or small points and are considered outliers.\n",
    "\n",
    "Box plots allow you to quickly visualize the range and spread of data, identify skewness or symmetry, and detect potential outliers. They are especially helpful when comparing the distribution of multiple datasets side-by-side.\n",
    "\n",
    "Keep in mind that box plots are best suited for continuous or numerical data. If you have categorical data, you may want to consider other types of plots like bar charts or stacked bar charts.\n",
    "\n",
    "In summary, when you want to display data in terms of range and gain insights into the distribution, spread, and central tendency of numerical data, a box plot is an excellent choice."
   ]
  },
  {
   "cell_type": "markdown",
   "id": "b31b64d3-aa78-43bb-8200-6cf971c9b794",
   "metadata": {},
   "source": [
    "### Q9. Describe the difference between descriptive and inferential statistics. Give an example of each type of statistics and explain how they are used."
   ]
  }
 ],
 "metadata": {
  "kernelspec": {
   "display_name": "Python 3 (ipykernel)",
   "language": "python",
   "name": "python3"
  },
  "language_info": {
   "codemirror_mode": {
    "name": "ipython",
    "version": 3
   },
   "file_extension": ".py",
   "mimetype": "text/x-python",
   "name": "python",
   "nbconvert_exporter": "python",
   "pygments_lexer": "ipython3",
   "version": "3.10.8"
  }
 },
 "nbformat": 4,
 "nbformat_minor": 5
}
