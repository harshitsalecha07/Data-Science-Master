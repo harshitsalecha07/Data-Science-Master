{
 "cells": [
  {
   "cell_type": "code",
   "execution_count": 5,
   "id": "8c5a95d9-32a0-4d49-88b1-dd25867e7cad",
   "metadata": {},
   "outputs": [],
   "source": [
    "import pandas as pd\n",
    "course_name = ['Data Science', 'Machine Learning', 'Big Data', 'Data Engineer']\n",
    "duration = [2,3,6,4]\n",
    "df = pd.DataFrame(data = {'course_name' : course_name, 'duration' : duration})"
   ]
  },
  {
   "cell_type": "code",
   "execution_count": 6,
   "id": "d2fdcdc5-1543-437e-8050-afa0048f2489",
   "metadata": {},
   "outputs": [
    {
     "data": {
      "text/html": [
       "<div>\n",
       "<style scoped>\n",
       "    .dataframe tbody tr th:only-of-type {\n",
       "        vertical-align: middle;\n",
       "    }\n",
       "\n",
       "    .dataframe tbody tr th {\n",
       "        vertical-align: top;\n",
       "    }\n",
       "\n",
       "    .dataframe thead th {\n",
       "        text-align: right;\n",
       "    }\n",
       "</style>\n",
       "<table border=\"1\" class=\"dataframe\">\n",
       "  <thead>\n",
       "    <tr style=\"text-align: right;\">\n",
       "      <th></th>\n",
       "      <th>course_name</th>\n",
       "      <th>duration</th>\n",
       "    </tr>\n",
       "  </thead>\n",
       "  <tbody>\n",
       "    <tr>\n",
       "      <th>0</th>\n",
       "      <td>Data Science</td>\n",
       "      <td>2</td>\n",
       "    </tr>\n",
       "    <tr>\n",
       "      <th>1</th>\n",
       "      <td>Machine Learning</td>\n",
       "      <td>3</td>\n",
       "    </tr>\n",
       "    <tr>\n",
       "      <th>2</th>\n",
       "      <td>Big Data</td>\n",
       "      <td>6</td>\n",
       "    </tr>\n",
       "    <tr>\n",
       "      <th>3</th>\n",
       "      <td>Data Engineer</td>\n",
       "      <td>4</td>\n",
       "    </tr>\n",
       "  </tbody>\n",
       "</table>\n",
       "</div>"
      ],
      "text/plain": [
       "        course_name  duration\n",
       "0      Data Science         2\n",
       "1  Machine Learning         3\n",
       "2          Big Data         6\n",
       "3     Data Engineer         4"
      ]
     },
     "execution_count": 6,
     "metadata": {},
     "output_type": "execute_result"
    }
   ],
   "source": [
    "df"
   ]
  },
  {
   "cell_type": "markdown",
   "id": "e4dc5d9a-acc0-499d-88d7-37042d3ffc03",
   "metadata": {},
   "source": [
    "Q1. Write a code to print the data present in the second row of the dataframe, df."
   ]
  },
  {
   "cell_type": "code",
   "execution_count": 9,
   "id": "6a43670f-003b-4b65-ac23-33b4f8f17a84",
   "metadata": {},
   "outputs": [
    {
     "data": {
      "text/plain": [
       "course_name    Machine Learning\n",
       "duration                      3\n",
       "Name: 1, dtype: object"
      ]
     },
     "execution_count": 9,
     "metadata": {},
     "output_type": "execute_result"
    }
   ],
   "source": [
    "df.loc[1]"
   ]
  },
  {
   "cell_type": "markdown",
   "id": "373f5c3f-9e58-4aec-9a64-85ada2474468",
   "metadata": {},
   "source": [
    "Q2. What is the difference between the functions loc and iloc in pandas.DataFrame?"
   ]
  },
  {
   "cell_type": "markdown",
   "id": "d96252bc-26eb-4b67-97d9-f2d00af9be34",
   "metadata": {},
   "source": [
    "In Pandas, the functions loc and iloc are used to access and manipulate data in a DataFrame, but they differ in the way they handle indexing and selection.\n",
    "\n",
    "loc:\n",
    "\n",
    "loc is label-based indexing, which means it uses explicit labels to access data.\n",
    "It is primarily used when you want to select data based on row and column labels.\n",
    "The syntax for loc is df.loc[row_label, column_label].\n",
    "The labels can be single values, lists, slices, or boolean arrays.\n",
    "The indices passed to loc are inclusive, meaning both the start and end indices are included.\n",
    "Example: df.loc[3:7, 'ColumnA'] selects rows with labels 3, 4, 5, 6, 7 from 'ColumnA'.\n",
    "iloc:\n",
    "\n",
    "iloc is integer-based indexing, which means it uses integer positions to access data.\n",
    "It is primarily used when you want to select data based on integer positions of rows and columns.\n",
    "The syntax for iloc is df.iloc[row_index, column_index].\n",
    "The indices can be single integers, lists, slices, or boolean arrays.\n",
    "The indices passed to iloc are exclusive, meaning the end index is not included.\n",
    "Example: df.iloc[3:7, 0] selects rows with positions 3, 4, 5, 6 from the first column.\n",
    "Here's a summary of the differences:\n",
    "\n",
    "loc uses labels for indexing, while iloc uses integer positions.\n",
    "loc is inclusive with indices, while iloc is exclusive.\n",
    "loc is used for label-based selection, and iloc is used for integer-based selection.\n",
    "It's worth noting that both loc and iloc can be used for both row and column selection, but the main difference lies in the way they handle the indices."
   ]
  },
  {
   "cell_type": "markdown",
   "id": "6b257768-2572-429b-a010-1054b4bd3cb6",
   "metadata": {},
   "source": [
    "Q3. Reindex the given dataframe using a variable, reindex = [3,0,1,2] and store it in the variable, new_df\n",
    "then find the output for both new_df.loc[2] and new_df.iloc[2].\n",
    "\n",
    "Did you observe any difference in both the outputs? If so then explain it."
   ]
  },
  {
   "cell_type": "code",
   "execution_count": 12,
   "id": "7588a196-6ca3-45ca-a1b3-e7bd1d75884f",
   "metadata": {},
   "outputs": [],
   "source": [
    "new_df=df.reindex([3,0,1,2])"
   ]
  },
  {
   "cell_type": "code",
   "execution_count": 13,
   "id": "f8788768-997d-4f29-9e18-4838b96bb622",
   "metadata": {},
   "outputs": [
    {
     "data": {
      "text/plain": [
       "course_name    Big Data\n",
       "duration              6\n",
       "Name: 2, dtype: object"
      ]
     },
     "execution_count": 13,
     "metadata": {},
     "output_type": "execute_result"
    }
   ],
   "source": [
    "new_df.loc[2]"
   ]
  },
  {
   "cell_type": "code",
   "execution_count": 14,
   "id": "ae24bbd6-98b9-46f7-a201-2cfd483c062e",
   "metadata": {},
   "outputs": [
    {
     "data": {
      "text/plain": [
       "course_name    Machine Learning\n",
       "duration                      3\n",
       "Name: 1, dtype: object"
      ]
     },
     "execution_count": 14,
     "metadata": {},
     "output_type": "execute_result"
    }
   ],
   "source": [
    "new_df.iloc[2]"
   ]
  },
  {
   "cell_type": "markdown",
   "id": "fb1b49b4-dcf0-42ee-bd89-c3873237ca20",
   "metadata": {},
   "source": [
    "new_df.loc[2] gives BigData as a course_name and 6 as a duration and they are available at the 2nd row in the Dataframe where as new_df.iloc[2] gives Machine Learning as a course_name and 3 as a duration and they are available at 1st row in new_df.iloc[2]. So we can say that df.log uses for label-based indexing but df.ilog uses for integer-based indexing"
   ]
  },
  {
   "cell_type": "code",
   "execution_count": 50,
   "id": "41922434-b85a-4455-83d5-74d6b7723e76",
   "metadata": {},
   "outputs": [],
   "source": [
    "import pandas as pd\n",
    "import numpy as np\n",
    "columns = ['column_1', 'column_2', 'column_3', 'column_4', 'column_5', 'column_6']\n",
    "indices = [1,2,3,4,5,6]\n",
    "#Creating a dataframe:\n",
    "df1 = pd.DataFrame(np.random.rand(6,6), columns = columns, index = indices)"
   ]
  },
  {
   "cell_type": "code",
   "execution_count": 51,
   "id": "e3e8726a-a7af-466f-86c3-eb02d505828e",
   "metadata": {},
   "outputs": [
    {
     "data": {
      "text/html": [
       "<div>\n",
       "<style scoped>\n",
       "    .dataframe tbody tr th:only-of-type {\n",
       "        vertical-align: middle;\n",
       "    }\n",
       "\n",
       "    .dataframe tbody tr th {\n",
       "        vertical-align: top;\n",
       "    }\n",
       "\n",
       "    .dataframe thead th {\n",
       "        text-align: right;\n",
       "    }\n",
       "</style>\n",
       "<table border=\"1\" class=\"dataframe\">\n",
       "  <thead>\n",
       "    <tr style=\"text-align: right;\">\n",
       "      <th></th>\n",
       "      <th>column_1</th>\n",
       "      <th>column_2</th>\n",
       "      <th>column_3</th>\n",
       "      <th>column_4</th>\n",
       "      <th>column_5</th>\n",
       "      <th>column_6</th>\n",
       "    </tr>\n",
       "  </thead>\n",
       "  <tbody>\n",
       "    <tr>\n",
       "      <th>1</th>\n",
       "      <td>0.028306</td>\n",
       "      <td>0.745852</td>\n",
       "      <td>0.018950</td>\n",
       "      <td>0.392757</td>\n",
       "      <td>0.378138</td>\n",
       "      <td>0.312225</td>\n",
       "    </tr>\n",
       "    <tr>\n",
       "      <th>2</th>\n",
       "      <td>0.258488</td>\n",
       "      <td>0.368343</td>\n",
       "      <td>0.300266</td>\n",
       "      <td>0.483644</td>\n",
       "      <td>0.973673</td>\n",
       "      <td>0.297231</td>\n",
       "    </tr>\n",
       "    <tr>\n",
       "      <th>3</th>\n",
       "      <td>0.618429</td>\n",
       "      <td>0.621847</td>\n",
       "      <td>0.653969</td>\n",
       "      <td>0.585080</td>\n",
       "      <td>0.924444</td>\n",
       "      <td>0.626345</td>\n",
       "    </tr>\n",
       "    <tr>\n",
       "      <th>4</th>\n",
       "      <td>0.929667</td>\n",
       "      <td>0.575592</td>\n",
       "      <td>0.218510</td>\n",
       "      <td>0.614143</td>\n",
       "      <td>0.835890</td>\n",
       "      <td>0.778139</td>\n",
       "    </tr>\n",
       "    <tr>\n",
       "      <th>5</th>\n",
       "      <td>0.613329</td>\n",
       "      <td>0.427025</td>\n",
       "      <td>0.932427</td>\n",
       "      <td>0.741094</td>\n",
       "      <td>0.053926</td>\n",
       "      <td>0.785800</td>\n",
       "    </tr>\n",
       "    <tr>\n",
       "      <th>6</th>\n",
       "      <td>0.972324</td>\n",
       "      <td>0.751042</td>\n",
       "      <td>0.226682</td>\n",
       "      <td>0.613042</td>\n",
       "      <td>0.596807</td>\n",
       "      <td>0.233374</td>\n",
       "    </tr>\n",
       "  </tbody>\n",
       "</table>\n",
       "</div>"
      ],
      "text/plain": [
       "   column_1  column_2  column_3  column_4  column_5  column_6\n",
       "1  0.028306  0.745852  0.018950  0.392757  0.378138  0.312225\n",
       "2  0.258488  0.368343  0.300266  0.483644  0.973673  0.297231\n",
       "3  0.618429  0.621847  0.653969  0.585080  0.924444  0.626345\n",
       "4  0.929667  0.575592  0.218510  0.614143  0.835890  0.778139\n",
       "5  0.613329  0.427025  0.932427  0.741094  0.053926  0.785800\n",
       "6  0.972324  0.751042  0.226682  0.613042  0.596807  0.233374"
      ]
     },
     "execution_count": 51,
     "metadata": {},
     "output_type": "execute_result"
    }
   ],
   "source": [
    "df1"
   ]
  },
  {
   "cell_type": "markdown",
   "id": "4d2e8f7f-07fb-4173-92bf-5e3b5ea909b5",
   "metadata": {},
   "source": [
    "Q4. Write a code to find the following statistical measurements for the above dataframe df1:\n",
    "\n",
    "(i) mean of each and every column present in the dataframe.\n",
    "\n",
    "(ii) standard deviation of column, ‘column_2’"
   ]
  },
  {
   "cell_type": "code",
   "execution_count": 57,
   "id": "943f8a49-e010-4bf1-bf37-00408bccc64a",
   "metadata": {},
   "outputs": [
    {
     "data": {
      "text/plain": [
       "column_1    1.219505\n",
       "column_2    1.204742\n",
       "column_3    1.091139\n",
       "column_4    1.193443\n",
       "column_5    1.258121\n",
       "column_6    1.161129\n",
       "dtype: float64"
      ]
     },
     "execution_count": 57,
     "metadata": {},
     "output_type": "execute_result"
    }
   ],
   "source": [
    "df1.describe().mean()"
   ]
  },
  {
   "cell_type": "code",
   "execution_count": 58,
   "id": "79ec85d4-e4fc-4054-b08a-69ff13d3f4ce",
   "metadata": {},
   "outputs": [
    {
     "data": {
      "text/plain": [
       "0.15919633740606376"
      ]
     },
     "execution_count": 58,
     "metadata": {},
     "output_type": "execute_result"
    }
   ],
   "source": [
    "df1['column_2'].std()"
   ]
  },
  {
   "cell_type": "markdown",
   "id": "08f103c7-90c5-4b0d-9c9b-afbb67d7805d",
   "metadata": {},
   "source": [
    "Q5. Replace the data present in the second row of column, ‘column_2’ by a string variable then find the\n",
    "\n",
    "mean of column, column_2.\n",
    "\n",
    "If you are getting errors in executing it then explain why.\n",
    "\n",
    "[Hint: To replace the data use df1.loc[] and equate this to string data of your choice.]"
   ]
  },
  {
   "cell_type": "code",
   "execution_count": 71,
   "id": "c3fc2a7b-0f03-4048-9a3b-11a03940522e",
   "metadata": {},
   "outputs": [],
   "source": [
    "df1.replace(df1.loc[2]['column_2'],'Harshit',inplace=True)"
   ]
  },
  {
   "cell_type": "code",
   "execution_count": 75,
   "id": "a0779b1b-25e9-49a5-856a-fe15985d0ac1",
   "metadata": {},
   "outputs": [
    {
     "name": "stdout",
     "output_type": "stream",
     "text": [
      "Sorry! you are running the wrong code\n",
      "Program is completed\n"
     ]
    }
   ],
   "source": [
    "try: \n",
    "    df1['column_2'].mean()\n",
    "except Exception as e:\n",
    "    print(\"Sorry! you are running the wrong code\")\n",
    "finally:\n",
    "    print(\"Program is completed\")"
   ]
  },
  {
   "cell_type": "markdown",
   "id": "c756253d-c127-4b46-9592-f1fe82dab8e2",
   "metadata": {},
   "source": [
    "When we are going to find the mean of column_2 is provide us an error of unsupported operand type(s) for +: 'float' and 'str' because row 2 and column_2 has a string element and rest element of the column_2 is float so when pandas is not able to find the mean of float and str variables "
   ]
  },
  {
   "cell_type": "markdown",
   "id": "54f349d5-f09b-47a2-87bc-cc6586bfe45f",
   "metadata": {},
   "source": [
    "Q6. What do you understand about the windows function in pandas and list the types of windows functions?"
   ]
  },
  {
   "cell_type": "markdown",
   "id": "7c6d65ff-5b40-49ab-a876-f53157ca416c",
   "metadata": {},
   "source": [
    "In Pandas, the \"window functions\" refer to a set of operations that are applied over a sliding or rolling window of data in a DataFrame or Series. These functions allow you to perform calculations and computations on a specific subset of data within the window.\n",
    "\n",
    "The types of window functions available in Pandas are as follows:\n",
    "\n",
    "1. Rolling Window Functions:\n",
    "   - Rolling functions operate over a fixed-size moving window defined by the number of observations.\n",
    "   - Examples of rolling window functions include `rolling.mean()`, `rolling.sum()`, `rolling.std()`, etc.\n",
    "   - Rolling window functions provide rolling statistics such as rolling mean, rolling sum, rolling standard deviation, etc.\n",
    "\n",
    "2. Expanding Window Functions:\n",
    "   - Expanding functions accumulate the results from the beginning of the data up to the current point.\n",
    "   - Examples of expanding window functions include `expanding.mean()`, `expanding.sum()`, `expanding.min()`, etc.\n",
    "   - Expanding window functions provide cumulative statistics such as cumulative mean, cumulative sum, cumulative minimum, etc.\n",
    "\n",
    "3. Exponentially Weighted Window Functions:\n",
    "   - Exponentially weighted functions assign weights to data points in the window based on their distance from the current point.\n",
    "   - Examples of exponentially weighted window functions include `ewm.mean()`, `ewm.var()`, `ewm.std()`, etc.\n",
    "   - Exponentially weighted window functions are useful for calculating exponentially weighted statistics like exponentially weighted moving average, exponentially weighted moving variance, exponentially weighted moving standard deviation, etc.\n",
    "\n",
    "These window functions are applied using the respective methods available on DataFrame and Series objects. They allow you to perform various computations and analysis on the data within the specified window, providing insights into trends, patterns, and statistical measures over time."
   ]
  },
  {
   "cell_type": "markdown",
   "id": "65259147-012d-4474-bfaa-5666165e82d8",
   "metadata": {},
   "source": [
    "Q7. Write a code to print only the current month and year at the time of answering this question.\n",
    "[Hint: Use pandas.datetime function]"
   ]
  },
  {
   "cell_type": "code",
   "execution_count": 101,
   "id": "46d24731-d63b-4458-aca7-481d520e53d6",
   "metadata": {},
   "outputs": [],
   "source": [
    "date=pd.Timestamp.now()"
   ]
  },
  {
   "cell_type": "code",
   "execution_count": 102,
   "id": "8cfc0e90-8cb5-4768-885b-e18ac9767789",
   "metadata": {},
   "outputs": [
    {
     "data": {
      "text/plain": [
       "'June'"
      ]
     },
     "execution_count": 102,
     "metadata": {},
     "output_type": "execute_result"
    }
   ],
   "source": [
    "date.month_name()"
   ]
  },
  {
   "cell_type": "code",
   "execution_count": 104,
   "id": "7815543d-673c-468e-b4e9-26deb0f15d0a",
   "metadata": {},
   "outputs": [
    {
     "data": {
      "text/plain": [
       "2023"
      ]
     },
     "execution_count": 104,
     "metadata": {},
     "output_type": "execute_result"
    }
   ],
   "source": [
    "date.year"
   ]
  },
  {
   "cell_type": "markdown",
   "id": "0b1d0bc3-a839-4386-ba44-638537c2bf20",
   "metadata": {},
   "source": [
    "Q8. Write a Python program that takes in two dates as input (in the format YYYY-MM-DD) and\n",
    "calculates the difference between them in days, hours, and minutes using Pandas time delta. The\n",
    "program should prompt the user to enter the dates and display the result."
   ]
  },
  {
   "cell_type": "code",
   "execution_count": 140,
   "id": "7bfa8766-2690-4e57-8651-5cd4e9b63e01",
   "metadata": {},
   "outputs": [
    {
     "name": "stdin",
     "output_type": "stream",
     "text": [
      "Entre the first date (in the format YYYY-MM-DD):  2023-06-06\n",
      "Entre the last date (in the format YYYY-MM-DD) :  24\n"
     ]
    },
    {
     "name": "stdout",
     "output_type": "stream",
     "text": [
      "Please! Entre the valid date\n"
     ]
    }
   ],
   "source": [
    "firstdate=input('Entre the first date (in the format YYYY-MM-DD): ')\n",
    "if len(firstdate)==10:\n",
    "    lastdate=input('Entre the last date (in the format YYYY-MM-DD) : ')\n",
    "    if len(lastdate)==10:\n",
    "        print(\"The difference between both the date is : \",pd.Timedelta(pd.to_datetime(lastdate)-pd.to_datetime(firstdate)))\n",
    "    else: \n",
    "        print('Please! Entre the valid date')\n",
    "else:\n",
    "    print('Please! Entre the valid date')"
   ]
  },
  {
   "cell_type": "markdown",
   "id": "03e0fff7-906f-4cb1-bcef-0e336b6be342",
   "metadata": {},
   "source": [
    "Q10. Write a Python program that reads a CSV file containing sales data for different products and\n",
    "visualizes the data using a stacked bar chart to show the sales of each product category over time. The\n",
    "program should prompt the user to enter the file path and display the chart."
   ]
  },
  {
   "cell_type": "code",
   "execution_count": 141,
   "id": "932fde4a-c07e-4b56-875b-b33bc58c3baa",
   "metadata": {},
   "outputs": [],
   "source": [
    "df1=pd.read_csv(\"Product - Sheet1.csv\")"
   ]
  },
  {
   "cell_type": "code",
   "execution_count": 149,
   "id": "da3e19c3-2112-4191-942c-57b81137c0ec",
   "metadata": {},
   "outputs": [],
   "source": [
    "df1.set_index('Products',inplace=True)"
   ]
  },
  {
   "cell_type": "code",
   "execution_count": 150,
   "id": "d5214c54-55f6-4cb2-b4a2-c2b38ceea20e",
   "metadata": {},
   "outputs": [
    {
     "data": {
      "text/html": [
       "<div>\n",
       "<style scoped>\n",
       "    .dataframe tbody tr th:only-of-type {\n",
       "        vertical-align: middle;\n",
       "    }\n",
       "\n",
       "    .dataframe tbody tr th {\n",
       "        vertical-align: top;\n",
       "    }\n",
       "\n",
       "    .dataframe thead th {\n",
       "        text-align: right;\n",
       "    }\n",
       "</style>\n",
       "<table border=\"1\" class=\"dataframe\">\n",
       "  <thead>\n",
       "    <tr style=\"text-align: right;\">\n",
       "      <th></th>\n",
       "      <th>Sales Data</th>\n",
       "    </tr>\n",
       "    <tr>\n",
       "      <th>Products</th>\n",
       "      <th></th>\n",
       "    </tr>\n",
       "  </thead>\n",
       "  <tbody>\n",
       "    <tr>\n",
       "      <th>A</th>\n",
       "      <td>4587</td>\n",
       "    </tr>\n",
       "    <tr>\n",
       "      <th>B</th>\n",
       "      <td>2280</td>\n",
       "    </tr>\n",
       "    <tr>\n",
       "      <th>C</th>\n",
       "      <td>1539</td>\n",
       "    </tr>\n",
       "    <tr>\n",
       "      <th>D</th>\n",
       "      <td>3139</td>\n",
       "    </tr>\n",
       "    <tr>\n",
       "      <th>E</th>\n",
       "      <td>1570</td>\n",
       "    </tr>\n",
       "    <tr>\n",
       "      <th>F</th>\n",
       "      <td>2184</td>\n",
       "    </tr>\n",
       "    <tr>\n",
       "      <th>G</th>\n",
       "      <td>3190</td>\n",
       "    </tr>\n",
       "    <tr>\n",
       "      <th>H</th>\n",
       "      <td>669</td>\n",
       "    </tr>\n",
       "    <tr>\n",
       "      <th>I</th>\n",
       "      <td>3989</td>\n",
       "    </tr>\n",
       "    <tr>\n",
       "      <th>J</th>\n",
       "      <td>3127</td>\n",
       "    </tr>\n",
       "    <tr>\n",
       "      <th>K</th>\n",
       "      <td>4239</td>\n",
       "    </tr>\n",
       "    <tr>\n",
       "      <th>L</th>\n",
       "      <td>4772</td>\n",
       "    </tr>\n",
       "    <tr>\n",
       "      <th>M</th>\n",
       "      <td>4264</td>\n",
       "    </tr>\n",
       "    <tr>\n",
       "      <th>N</th>\n",
       "      <td>1752</td>\n",
       "    </tr>\n",
       "  </tbody>\n",
       "</table>\n",
       "</div>"
      ],
      "text/plain": [
       "          Sales Data\n",
       "Products            \n",
       "A               4587\n",
       "B               2280\n",
       "C               1539\n",
       "D               3139\n",
       "E               1570\n",
       "F               2184\n",
       "G               3190\n",
       "H                669\n",
       "I               3989\n",
       "J               3127\n",
       "K               4239\n",
       "L               4772\n",
       "M               4264\n",
       "N               1752"
      ]
     },
     "execution_count": 150,
     "metadata": {},
     "output_type": "execute_result"
    }
   ],
   "source": [
    "df1"
   ]
  },
  {
   "cell_type": "code",
   "execution_count": 169,
   "id": "d237d990-0c2c-4cf4-8ac4-40b660aa55f3",
   "metadata": {},
   "outputs": [
    {
     "data": {
      "text/plain": [
       "<AxesSubplot: title={'center': 'Product and Sales Data'}, xlabel='Products', ylabel='Sales Data'>"
      ]
     },
     "execution_count": 169,
     "metadata": {},
     "output_type": "execute_result"
    },
    {
     "data": {
      "image/png": "[encoded data removed]",
      "text/plain": [
       "<Figure size 2000x800 with 1 Axes>"
      ]
     },
     "metadata": {},
     "output_type": "display_data"
    }
   ],
   "source": [
    "df1.plot(kind='bar',ylabel='Sales Data',figsize=(20,8),title=\"Product and Sales Data\",fontsize=20)"
   ]
  },
  {
   "cell_type": "markdown",
   "id": "8904fcd6-fa8a-4add-a540-04e272c8b1ee",
   "metadata": {},
   "source": [
    "Q11. You are given a CSV file containing student data that includes the student ID and their test score. Write\n",
    "\n",
    "a Python program that reads the CSV file, calculates the mean, median, and mode of the test scores, and\n",
    "\n",
    "displays the results in a table.\n",
    "\n",
    "The program should do the followingM\n",
    "\n",
    "I Prompt the user to enter the file path of the CSV file containing the student dataR\n",
    "\n",
    "I Read the CSV file into a Pandas DataFrameR\n",
    "\n",
    "I Calculate the mean, median, and mode of the test scores using Pandas toolsR\n",
    "\n",
    "I Display the mean, median, and mode in a table.\n",
    "\n",
    "Assume the CSV file contains the following columnsM\n",
    "\n",
    "I Student ID: The ID of the studentR\n",
    "\n",
    "I Test Score: The score of the student's test.\n",
    "\n",
    "Example usage of the program:\n",
    "\n",
    "Enter the file path of the CSV file containing the student data: student_data.csv\n",
    "\n",
    "+-----------+--------+\n",
    "\n",
    "| Statistic | Value |\n",
    "\n",
    "+-----------+--------+\n",
    "\n",
    "| Mean | 79.6 |\n",
    "\n",
    "| Median | 82 |\n",
    "\n",
    "| Mode | 85, 90 |\n",
    "\n",
    "+-----------+--------+\n",
    "\n",
    "Assume that the CSV file student_data.csv contains the following data:\n",
    "\n",
    "Student ID,Test Score\n",
    "\n",
    "1,85\n",
    "\n",
    "2,90\n",
    "\n",
    "3,80\n",
    "\n",
    "4,75\n",
    "\n",
    "5,85\n",
    "\n",
    "6,82\n",
    "\n",
    "7,78\n",
    "\n",
    "8,85\n",
    "\n",
    "9,90\n",
    "\n",
    "10,85\n",
    "\n",
    "The program should calculate the mean, median, and mode of the test scores and display the results\n",
    "\n",
    "in a table."
   ]
  },
  {
   "cell_type": "code",
   "execution_count": 193,
   "id": "6294d59b-082e-48a9-ad94-f08b8b7b6c18",
   "metadata": {},
   "outputs": [],
   "source": [
    "df1=pd.read_csv(\"student_data.csv\")"
   ]
  },
  {
   "cell_type": "code",
   "execution_count": 194,
   "id": "5587b4f0-ffc4-49cb-97b1-7e37f7979cda",
   "metadata": {},
   "outputs": [],
   "source": [
    "Mean=df1['Test Score'].mean()"
   ]
  },
  {
   "cell_type": "code",
   "execution_count": 195,
   "id": "7736f485-2593-472a-89f1-e5cb5bc8da15",
   "metadata": {},
   "outputs": [],
   "source": [
    "Median=df1['Test Score'].median()"
   ]
  },
  {
   "cell_type": "code",
   "execution_count": 196,
   "id": "02a8dd6d-a95e-459a-baf1-687fe3d7182f",
   "metadata": {},
   "outputs": [],
   "source": [
    "Mode=df1['Test Score'].mode()[0]"
   ]
  },
  {
   "cell_type": "code",
   "execution_count": 197,
   "id": "8aba87fb-cbdf-4d43-be3b-b8935f1992a7",
   "metadata": {},
   "outputs": [],
   "source": [
    "df2=pd.DataFrame({'Static Data':[Mean,Median,Mode]},index=('Mean','Median','Mode'))"
   ]
  },
  {
   "cell_type": "code",
   "execution_count": 198,
   "id": "d97d69cc-d083-4935-bb50-a39a801e5137",
   "metadata": {},
   "outputs": [
    {
     "data": {
      "text/html": [
       "<div>\n",
       "<style scoped>\n",
       "    .dataframe tbody tr th:only-of-type {\n",
       "        vertical-align: middle;\n",
       "    }\n",
       "\n",
       "    .dataframe tbody tr th {\n",
       "        vertical-align: top;\n",
       "    }\n",
       "\n",
       "    .dataframe thead th {\n",
       "        text-align: right;\n",
       "    }\n",
       "</style>\n",
       "<table border=\"1\" class=\"dataframe\">\n",
       "  <thead>\n",
       "    <tr style=\"text-align: right;\">\n",
       "      <th></th>\n",
       "      <th>Static Data</th>\n",
       "    </tr>\n",
       "  </thead>\n",
       "  <tbody>\n",
       "    <tr>\n",
       "      <th>Mean</th>\n",
       "      <td>83.5</td>\n",
       "    </tr>\n",
       "    <tr>\n",
       "      <th>Median</th>\n",
       "      <td>85.0</td>\n",
       "    </tr>\n",
       "    <tr>\n",
       "      <th>Mode</th>\n",
       "      <td>85.0</td>\n",
       "    </tr>\n",
       "  </tbody>\n",
       "</table>\n",
       "</div>"
      ],
      "text/plain": [
       "        Static Data\n",
       "Mean           83.5\n",
       "Median         85.0\n",
       "Mode           85.0"
      ]
     },
     "execution_count": 198,
     "metadata": {},
     "output_type": "execute_result"
    }
   ],
   "source": [
    "df2"
   ]
  },
  {
   "cell_type": "code",
   "execution_count": null,
   "id": "dc1b92cc-608c-4a42-88b0-cff4711f726e",
   "metadata": {},
   "outputs": [],
   "source": []
  }
 ],
 "metadata": {
  "kernelspec": {
   "display_name": "Python 3 (ipykernel)",
   "language": "python",
   "name": "python3"
  },
  "language_info": {
   "codemirror_mode": {
    "name": "ipython",
    "version": 3
   },
   "file_extension": ".py",
   "mimetype": "text/x-python",
   "name": "python",
   "nbconvert_exporter": "python",
   "pygments_lexer": "ipython3",
   "version": "3.10.8"
  }
 },
 "nbformat": 4,
 "nbformat_minor": 5
}
