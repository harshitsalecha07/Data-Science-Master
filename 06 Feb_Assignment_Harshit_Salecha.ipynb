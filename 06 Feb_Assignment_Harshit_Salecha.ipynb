{
 "cells": [
  {
   "cell_type": "code",
   "execution_count": 69,
   "id": "997e37fc",
   "metadata": {},
   "outputs": [],
   "source": [
    "'''Create a function which will take a list as an argument and return the product of all the numbers\n",
    "after creating a flat list.\n",
    "Use the below-given list as an argument for your function.\n",
    "list1 = [1,2,3,4, [44,55,66, True], False, (34,56,78,89,34), {1,2,3,3,2,1}, {1:34, \"key2\": [55, 67, 78, 89], 4: (45,\n",
    "22, 61, 34)}, [56, 'data science'], 'Machine Learning']\n",
    "Note: you must extract numeric keys and values of the dictionary also.'''\n",
    "def extracting(list1):\n",
    "    a=[]\n",
    "    for i in list1:\n",
    "        if type(i)==int:\n",
    "            a.append(i)\n",
    "        elif type(i)==list:\n",
    "            for j in i:\n",
    "                if type(j)==int:\n",
    "                    a.append(j)\n",
    "        elif type(i)==tuple:\n",
    "            for j in i:\n",
    "                if type(j)==int:\n",
    "                    a.append(j)\n",
    "        elif type(i)==set:\n",
    "            for j in i:\n",
    "                if type(j)==int:\n",
    "                    a.append(j)\n",
    "        elif type(i)==dict:\n",
    "            for j in i:\n",
    "                if type(j)==int:\n",
    "                    a.append(j)\n",
    "                    if type(i[j])==int:\n",
    "                        a.append(i[j])\n",
    "                    for n in [i[j]]:\n",
    "                        if type(n)==tuple:\n",
    "                            for o in n:\n",
    "                                if type(o)==int:\n",
    "                                    a.append(o)\n",
    "                elif type(j)==str:\n",
    "                    if type(i[j])==list:\n",
    "                        for k in i[j]:\n",
    "                                if type(k)==int:\n",
    "                                    a.append(k)\n",
    "    return(a)"
   ]
  },
  {
   "cell_type": "code",
   "execution_count": 70,
   "id": "0e8e2594",
   "metadata": {},
   "outputs": [
    {
     "data": {
      "text/plain": [
       "[1,\n",
       " 2,\n",
       " 3,\n",
       " 4,\n",
       " 44,\n",
       " 55,\n",
       " 66,\n",
       " 34,\n",
       " 56,\n",
       " 78,\n",
       " 89,\n",
       " 34,\n",
       " 1,\n",
       " 2,\n",
       " 3,\n",
       " 1,\n",
       " 34,\n",
       " 55,\n",
       " 67,\n",
       " 78,\n",
       " 89,\n",
       " 4,\n",
       " 45,\n",
       " 22,\n",
       " 61,\n",
       " 34,\n",
       " 56]"
      ]
     },
     "execution_count": 70,
     "metadata": {},
     "output_type": "execute_result"
    }
   ],
   "source": [
    "extracting(list1)"
   ]
  },
  {
   "cell_type": "code",
   "execution_count": 112,
   "id": "efdc1cc7",
   "metadata": {},
   "outputs": [
    {
     "name": "stdout",
     "output_type": "stream",
     "text": [
      "i$wznt$to$yexome$z$dztz$sxientist\n"
     ]
    }
   ],
   "source": [
    "'''Write a python program for encrypting a message sent to you by your friend. The logic of encryption\n",
    "should be such that, for a the output should be z. For b, the output should be y. For c, the output should\n",
    "be x respectively. Also, the whitespace should be replaced with a dollar sign. Keep the punctuation\n",
    "marks unchanged.\n",
    "Input Sentence: I want to become a Data Scientist.\n",
    "Encrypt the above input sentence using the program you just created.\n",
    "Note: Convert the given input sentence into lowercase before encrypting. The final output should be\n",
    "lowercase.'''\n",
    "a=\"I want to become a Data Scientist\"\n",
    "b=a.lower()\n",
    "c=b.replace(\" \",\"$\")\n",
    "d=c.replace(\"a\",\"z\")\n",
    "e=d.replace(\"b\",\"y\")\n",
    "f=e.replace(\"c\",\"x\")\n",
    "print(f)"
   ]
  }
 ],
 "metadata": {
  "kernelspec": {
   "display_name": "Python 3 (ipykernel)",
   "language": "python",
   "name": "python3"
  },
  "language_info": {
   "codemirror_mode": {
    "name": "ipython",
    "version": 3
   },
   "file_extension": ".py",
   "mimetype": "text/x-python",
   "name": "python",
   "nbconvert_exporter": "python",
   "pygments_lexer": "ipython3",
   "version": "3.10.9"
  }
 },
 "nbformat": 4,
 "nbformat_minor": 5
}
