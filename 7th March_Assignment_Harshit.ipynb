{
 "cells": [
  {
   "cell_type": "markdown",
   "id": "9252edfc-1c3d-4236-8495-ea96830b76b1",
   "metadata": {},
   "source": [
    "### Q1. What are the three measures of central tendency?"
   ]
  },
  {
   "cell_type": "markdown",
   "id": "30392548-2411-4e0d-b6aa-ed7ae055a4d7",
   "metadata": {},
   "source": [
    "The three measures of central tendency are:\n",
    "\n",
    "1. Mean: The mean, also known as the average, is the sum of all values in a dataset divided by the total number of values. It represents the typical or central value of the data.\n",
    "\n",
    "2. Median: The median is the middle value in a dataset when the data is arranged in ascending or descending order. If there is an even number of data points, the median is the average of the two middle values. It is the value that divides the data into two equal halves.\n",
    "\n",
    "3. Mode: The mode is the value that occurs most frequently in a dataset. In other words, it is the data point with the highest frequency. A dataset can have one mode (unimodal) or multiple modes (bimodal, trimodal, etc.) if more than one value has the highest frequency.\n",
    "\n",
    "These measures of central tendency provide different ways to represent the central value of a dataset, and each has its own strengths and weaknesses depending on the nature of the data and any potential outliers or skewed distributions."
   ]
  },
  {
   "cell_type": "markdown",
   "id": "528e5b06-039f-40bb-8aa4-7768d74991c7",
   "metadata": {},
   "source": [
    "### Q2. What is the difference between the mean, median, and mode? How are they used to measure the central tendency of a dataset?"
   ]
  },
  {
   "cell_type": "markdown",
   "id": "05aa54c3-7b14-4a01-a75e-a8d5adf462da",
   "metadata": {},
   "source": [
    "The mean, median, and mode are three different measures of central tendency used to describe the typical or central value of a dataset. Each measure has its own unique characteristics and applications. Let's explore the differences between them and how they are used to measure central tendency:\n",
    "\n",
    "1. Mean:\n",
    "- Definition: The mean is calculated by adding up all the values in a dataset and dividing the sum by the total number of values.\n",
    "- Use: The mean is commonly used when dealing with data that follows a roughly symmetric distribution, where outliers do not heavily influence the data. It represents the \"average\" value of the dataset.\n",
    "\n",
    "- Calculation: Mean = (Sum of all values) / (Number of values)\n",
    "\n",
    "2. Median:\n",
    "- Definition: The median is the middle value in a dataset when the data is arranged in ascending or descending order. If there is an even number of data points, the median is the average of the two middle values.\n",
    "- Use: The median is often preferred when dealing with skewed data or datasets containing outliers. It provides a robust measure of central tendency that is less sensitive to extreme values.\n",
    "\n",
    "- Calculation (odd number of data points): Median = Middle value\n",
    "- Calculation (even number of data points): Median = (Value at n/2) + (Value at n/2 + 1) / 2\n",
    "\n",
    "3. Mode:\n",
    "- Definition: The mode is the value that occurs most frequently in a dataset.\n",
    "- Use: The mode is suitable for datasets with categorical or discrete variables and is used to identify the most common value or category.\n",
    "\n",
    "- Calculation: Mode = Value with the highest frequency\n",
    "\n",
    "In summary, the mean represents the average value of the dataset and is suitable for symmetrical data, while the median represents the middle value and is preferred for skewed data or datasets with outliers. The mode identifies the most common value or category and is useful for categorical or discrete data. Each measure of central tendency provides different insights into the center of the dataset, and the choice of measure depends on the nature of the data and the desired characteristics of central tendency representation."
   ]
  },
  {
   "cell_type": "markdown",
   "id": "ae35d716-d171-4bed-bdf3-68d83f501e4d",
   "metadata": {},
   "source": [
    "### Q3. Measure the three measures of central tendency for the given height data:\n",
    "### [178,177,176,177,178.2,178,175,179,180,175,178.9,176.2,177,172.5,178,176.5]"
   ]
  },
  {
   "cell_type": "markdown",
   "id": "5d2b1732-9c63-40ba-9582-a6e18fc5d4e3",
   "metadata": {},
   "source": [
    "## Solution"
   ]
  },
  {
   "cell_type": "code",
   "execution_count": 12,
   "id": "93552c6c-8453-4277-a812-fffba06bd1fe",
   "metadata": {},
   "outputs": [
    {
     "name": "stdout",
     "output_type": "stream",
     "text": [
      "mean, meadian and mode of the height is : 177.01875, 177.0, and, 178.0\n"
     ]
    }
   ],
   "source": [
    "height=[178,177,176,177,178.2,178,175,179,180,175,178.9,176.2,177,172.5,178,176.5]\n",
    "import statistics\n",
    "import pandas as pd\n",
    "S1=pd.Series(height)\n",
    "mean=S1.mean()\n",
    "median=S1.median()\n",
    "mode=statistics.mode(S1)\n",
    "print(\"mean, meadian and mode of the height is : {}, {}, and, {}\".format(mean,median,mode))"
   ]
  },
  {
   "cell_type": "markdown",
   "id": "801fc27a-34e4-4bf7-a219-d0ff234a4676",
   "metadata": {},
   "source": [
    "### Q4. Find the standard deviation for the given data:\n",
    "### [178,177,176,177,178.2,178,175,179,180,175,178.9,176.2,177,172.5,178,176.5]"
   ]
  },
  {
   "cell_type": "markdown",
   "id": "c18d8770-30f0-47de-9a24-3ccd3a4a1d77",
   "metadata": {},
   "source": [
    "## Solution"
   ]
  },
  {
   "cell_type": "code",
   "execution_count": 13,
   "id": "37db5737-3603-4b7d-ba73-ac4ce5f94d76",
   "metadata": {},
   "outputs": [
    {
     "name": "stdout",
     "output_type": "stream",
     "text": [
      "The standard deviation of the height is : 1.847238930584419\n"
     ]
    }
   ],
   "source": [
    "height=[178,177,176,177,178.2,178,175,179,180,175,178.9,176.2,177,172.5,178,176.5]\n",
    "import pandas as pd\n",
    "S1=pd.Series(height)\n",
    "print(\"The standard deviation of the height is : {}\".format(S1.std()))"
   ]
  },
  {
   "cell_type": "markdown",
   "id": "e310c5b1-8922-4fc9-8437-f6ff759110c6",
   "metadata": {},
   "source": [
    "### Q5. How are measures of dispersion such as range, variance, and standard deviation used to describe the spread of a dataset? Provide an example."
   ]
  },
  {
   "cell_type": "markdown",
   "id": "2073e9b8-3cf3-4bbd-abeb-4d1b0f853798",
   "metadata": {},
   "source": [
    "Measures of dispersion, such as range, variance, and standard deviation, quantify the spread or variability of data points in a dataset. They complement measures of central tendency (like mean, median, and mode) by providing information about how the data points are distributed around the central value. Let's explore how each measure of dispersion is used to describe the spread of a dataset and provide an example:\n",
    "\n",
    "1. Range:\n",
    "- Definition: The range is the simplest measure of dispersion and represents the difference between the maximum and minimum values in the dataset.\n",
    "- Use: The range provides an intuitive understanding of the spread of the data by indicating the extent between the highest and lowest values.\n",
    "\n",
    "Example:\n",
    "Consider a dataset representing the test scores of ten students:\n",
    "Scores: 85, 92, 78, 98, 71, 88, 80, 94, 89, 83\n",
    "\n",
    "To calculate the range:\n",
    "Range = Maximum value - Minimum value\n",
    "Range = 98 - 71 = 27\n",
    "\n",
    "The range of the test scores is 27, indicating that the spread between the highest and lowest scores is 27 points.\n",
    "\n",
    "2. Variance:\n",
    "- Definition: Variance measures the average squared deviation of each data point from the mean. It quantifies the spread of the data points around the mean.\n",
    "- Use: Variance provides a more precise measure of dispersion, considering each data point's distance from the mean.\n",
    "\n",
    "Example:\n",
    "Using the same dataset of test scores, let's calculate the variance:\n",
    "\n",
    "Step 1: Calculate the mean:\n",
    "Mean = (Sum of all scores) / (Number of scores)\n",
    "Mean = (85 + 92 + 78 + 98 + 71 + 88 + 80 + 94 + 89 + 83) / 10\n",
    "Mean = 86.8\n",
    "\n",
    "Step 2: Calculate the squared deviation from the mean for each score:\n",
    "Squared Deviation = (Score - Mean)^2\n",
    "\n",
    "Step 3: Calculate the variance:\n",
    "Variance = Sum of Squared Deviations / Number of scores\n",
    "Variance = ((85-86.8)^2 + (92-86.8)^2 + ... + (83-86.8)^2) / 10\n",
    "\n",
    "After performing the calculations, the variance is found to be a certain value, which quantifies how spread out the scores are around the mean.\n",
    "\n",
    "3. Standard Deviation:\n",
    "- Definition: The standard deviation is the square root of the variance. It measures the average distance of each data point from the mean.\n",
    "- Use: The standard deviation is a widely used measure of dispersion that is in the same units as the original data, making it more interpretable.\n",
    "\n",
    "Example:\n",
    "Using the same dataset, we can calculate the standard deviation once we have the variance value. The standard deviation will indicate the average distance of each score from the mean, giving us a better understanding of how the scores are distributed around the mean.\n",
    "\n",
    "In summary, measures of dispersion like range, variance, and standard deviation provide valuable insights into how data points are spread or distributed around the central value (mean). They help us understand the variability and spread of the dataset, giving us a more comprehensive picture of the data's characteristics."
   ]
  },
  {
   "cell_type": "markdown",
   "id": "82f7e5c0-3649-470f-8bdd-b67ac9098433",
   "metadata": {},
   "source": [
    "### Q6. What is a Venn diagram?"
   ]
  },
  {
   "cell_type": "markdown",
   "id": "fc3c073d-fb3d-4945-b7f1-c95e50c38239",
   "metadata": {},
   "source": [
    "A Venn diagram is a graphical representation used to illustrate the relationships between different sets or groups of items. It consists of overlapping circles (or sometimes other shapes) that represent the sets, and the overlapping regions show the elements that are shared among those sets. The purpose of a Venn diagram is to visually depict the relationships of common and distinct elements among the sets being compared."
   ]
  },
  {
   "cell_type": "markdown",
   "id": "1da6ec04-0312-428c-b56f-8ccb24cc1069",
   "metadata": {},
   "source": [
    "### Q7. For the two given sets A = (2,3,4,5,6,7) & B = (0,2,6,8,10). Find:\n",
    "### (i) A ∩ B\n",
    "### (ii) A ⋃ B"
   ]
  },
  {
   "cell_type": "markdown",
   "id": "a2e4bd33-cfa8-4cb4-8888-c1c4ffb57d6c",
   "metadata": {},
   "source": [
    "## Solution"
   ]
  },
  {
   "cell_type": "code",
   "execution_count": 30,
   "id": "45982c56-4fad-408f-b126-84aa1c0b16a2",
   "metadata": {},
   "outputs": [
    {
     "name": "stdout",
     "output_type": "stream",
     "text": [
      "Intersection and union is :  {2, 6} , {0, 2, 3, 4, 5, 6, 7, 8, 10}\n"
     ]
    }
   ],
   "source": [
    "A = (2,3,4,5,6,7)\n",
    "B = (0,2,6,8,10)\n",
    "A=set(A)\n",
    "B=set(B)\n",
    "intersection=A.intersection(B)\n",
    "union=A.union(B)\n",
    "print(\"Intersection and union is : \",intersection, \",\",union)"
   ]
  },
  {
   "cell_type": "markdown",
   "id": "b7ad9fe3-21a3-451c-bf5b-e651ab1ee8b7",
   "metadata": {},
   "source": [
    "### Q8. What do you understand about skewness in data?\n",
    "Skewness in data refers to the asymmetry or lack of symmetry in the distribution of data points. It indicates the extent to which the data deviates from a symmetric, bell-shaped distribution, like the normal distribution. When a dataset is skewed, it means that the data is not evenly distributed around the central value, and there is a concentration of data points on one side of the distribution.\n",
    "\n",
    "There are three main types of skewness:\n",
    "\n",
    "1. Positive Skew (Right Skew):\n",
    "   - In a positively skewed distribution, the majority of data points are concentrated on the left side of the distribution, and the tail extends towards the right.\n",
    "   - The mean is typically greater than the median, and the median is greater than the mode in a positively skewed distribution.\n",
    "   - Positive skewness is often observed in datasets where there are a few unusually large values or outliers that pull the mean towards the right.\n",
    "\n",
    "2. Negative Skew (Left Skew):\n",
    "   - In a negatively skewed distribution, the majority of data points are concentrated on the right side of the distribution, and the tail extends towards the left.\n",
    "   - The mean is typically less than the median, and the median is less than the mode in a negatively skewed distribution.\n",
    "   - Negative skewness is often observed in datasets where there are a few unusually small values or outliers that pull the mean towards the left.\n",
    "\n",
    "3. Symmetrical Distribution (Zero Skew):\n",
    "   - In a symmetrical distribution, data points are evenly distributed on both sides of the central value, resulting in a bell-shaped curve.\n",
    "   - The mean, median, and mode are approximately equal in a symmetrical distribution.\n",
    "\n",
    "Skewness is an important concept in statistics as it provides insights into the shape and characteristics of the data distribution. It impacts the choice of appropriate statistical methods and models for data analysis. For example, when data is skewed, the median may be a better measure of central tendency than the mean, as the mean can be significantly influenced by outliers.\n",
    "\n",
    "Analyzing skewness helps in understanding the data's underlying patterns and can guide decisions on data transformations or the use of non-parametric statistical tests if the data violates the assumptions of normality. Skewness is commonly used in fields such as finance, economics, social sciences, and biology to assess the distribution of various variables and identify potential biases or irregularities in the data."
   ]
  },
  {
   "cell_type": "markdown",
   "id": "822432f8-d1f2-4c82-90f1-3f4f89b167ec",
   "metadata": {},
   "source": [
    "### Q9. If a data is right skewed then what will be the position of median with respect to mean?"
   ]
  },
  {
   "cell_type": "markdown",
   "id": "d56b2936-c7b0-4f42-bbe5-8f82b00e800f",
   "metadata": {},
   "source": [
    "In a right-skewed distribution, the median will be positioned to the left of the mean. \n",
    "\n",
    "Recall that in a right-skewed distribution, the majority of data points are concentrated on the left side of the distribution, and the tail extends towards the right. This means that there are relatively few extremely high values that pull the mean towards the right, resulting in a higher mean value compared to the median.\n",
    "\n",
    "Here's a summary of the positions of the mean and median in different types of distributions:\n",
    "\n",
    "1. In a symmetrical (normal) distribution, the mean, median, and mode are approximately equal, and they are positioned at the center of the distribution.\n",
    "\n",
    "2. In a left-skewed distribution, the median will be positioned to the right of the mean.\n",
    "\n",
    "3. In a right-skewed distribution, the median will be positioned to the left of the mean.\n",
    "\n",
    "To illustrate this, let's consider an example of a right-skewed distribution:\n",
    "\n",
    "Data: 5, 7, 8, 10, 12, 15, 20, 25, 30\n",
    "\n",
    "Mean = (5 + 7 + 8 + 10 + 12 + 15 + 20 + 25 + 30) / 9 ≈ 14.22\n",
    "\n",
    "Median = 12 (the middle value)\n",
    "\n",
    "In this example, the median (12) is positioned to the left of the mean (approximately 14.22) due to the influence of the higher values on the right side of the distribution."
   ]
  },
  {
   "cell_type": "markdown",
   "id": "2b644fa7-331b-4098-8912-772b0bda84bb",
   "metadata": {},
   "source": [
    "### Q10. Explain the difference between covariance and correlation. How are these measures used in statistical analysis?\n",
    "Covariance and correlation are both measures used to assess the relationship between two variables in a dataset. They provide insights into how the variables co-vary or move together. However, they differ in their interpretation and scale, and they are used for different purposes in statistical analysis.\n",
    "\n",
    "1. Covariance:\n",
    "- Definition: Covariance measures the degree to which two variables change together. It indicates the direction of the relationship (positive or negative) and the extent to which changes in one variable are associated with changes in the other.\n",
    "- Calculation: For two variables X and Y with n data points, the covariance is computed as the sum of the products of the differences between each data point and the mean of X and Y, divided by n-1.\n",
    "- Covariance Formula: Cov(X, Y) = Σ [(X_i - mean(X)) * (Y_i - mean(Y))] / (n - 1)\n",
    "\n",
    "- Interpretation:\n",
    "  - Covariance > 0: Positive covariance indicates that as one variable increases, the other tends to increase as well.\n",
    "  - Covariance < 0: Negative covariance indicates that as one variable increases, the other tends to decrease.\n",
    "  - Covariance = 0: Zero covariance means there is no linear relationship between the variables.\n",
    "\n",
    "2. Correlation:\n",
    "- Definition: Correlation is a standardized measure that quantifies the strength and direction of the linear relationship between two variables. It normalizes the covariance to a scale between -1 and 1, making it easier to compare across datasets.\n",
    "- Calculation: Correlation is calculated by dividing the covariance by the product of the standard deviations of X and Y.\n",
    "- Correlation Formula: Corr(X, Y) = Cov(X, Y) / (σ_X * σ_Y)\n",
    "\n",
    "- Interpretation:\n",
    "  - Correlation > 0: Positive correlation indicates a positive linear relationship between the variables, as one increases, the other tends to increase.\n",
    "  - Correlation < 0: Negative correlation indicates a negative linear relationship between the variables, as one increases, the other tends to decrease.\n",
    "  - Correlation = 0: Zero correlation means there is no linear relationship between the variables.\n",
    "\n",
    "How they are used in statistical analysis:\n",
    "- Covariance and correlation are used to identify the relationship between two variables, which can help in understanding the dependencies between them in various fields such as finance, economics, and social sciences.\n",
    "- Correlation is especially valuable as it provides a standardized measure that allows for comparison between different datasets and is not affected by the scale of the variables.\n",
    "- In regression analysis, both covariance and correlation play a vital role in assessing the strength of the relationship between the independent and dependent variables.\n",
    "- High correlation between two variables does not imply causation, but it indicates that changes in one variable are associated with changes in the other.\n",
    "\n",
    "In summary, covariance and correlation both measure the relationship between two variables. Covariance is a raw measure of this relationship, whereas correlation is a standardized measure that is easier to interpret and compare across different datasets. Both measures are essential tools in statistical analysis to explore and understand the associations between variables."
   ]
  },
  {
   "cell_type": "markdown",
   "id": "584356fd-0c81-47b2-af8d-bdac8d73017a",
   "metadata": {},
   "source": [
    "### Q11. What is the formula for calculating the sample mean? Provide an example calculation for a dataset.\n",
    "The formula for calculating the sample mean (also known as the sample average) is the sum of all data points divided by the total number of data points in the sample. Mathematically, it can be expressed as follows:\n",
    "\n",
    "Sample Mean (x̄) = (Sum of all data points) / (Number of data points)\n",
    "\n",
    "Let's go through an example calculation of the sample mean for a dataset:\n",
    "\n",
    "Example:\n",
    "Consider the following dataset representing the heights (in centimeters) of a sample of five individuals:\n",
    "\n",
    "{170, 175, 165, 180, 160}\n",
    "\n",
    "To calculate the sample mean:\n",
    "1. Add up all the data points:\n",
    "Sum = 170 + 175 + 165 + 180 + 160 = 850\n",
    "\n",
    "2. Determine the number of data points in the sample:\n",
    "Number of data points (n) = 5\n",
    "\n",
    "3. Calculate the sample mean:\n",
    "Sample Mean (x̄) = Sum / n = 850 / 5 = 170\n",
    "\n",
    "The sample mean of the dataset is 170 centimeters. This means that the average height of the five individuals in the sample is 170 centimeters. The sample mean is a common measure of central tendency and provides a representative value for the dataset, allowing us to make inferences about the entire population based on the sample data."
   ]
  },
  {
   "cell_type": "markdown",
   "id": "182caaf1-daf6-4f00-951a-319f123c2074",
   "metadata": {},
   "source": [
    "### Q12. For a normal distribution data what is the relationship between its measure of central tendency?\n",
    "In a normal distribution, the three measures of central tendency, namely the mean, median, and mode, are equal and located at the center of the distribution.\n",
    "\n",
    "For a perfect normal distribution, the data is symmetrically distributed around the mean, creating a bell-shaped curve. The mean, median, and mode coincide at the center of this curve. This equality holds true for any normal distribution, regardless of its specific mean or standard deviation.\n",
    "\n",
    "In summary:\n",
    "\n",
    "- Mean = Median = Mode\n",
    "\n",
    "In a normal distribution, these measures of central tendency are all the same value, positioned at the center of the distribution. This is a characteristic feature of the normal distribution and makes it a convenient and reliable distribution for various statistical analyses and modeling purposes."
   ]
  },
  {
   "cell_type": "markdown",
   "id": "247e6fd8-3cc4-48ed-a3d1-75de1e47ae44",
   "metadata": {},
   "source": [
    "### Q13. How is covariance different from correlation?\n",
    "Covariance and correlation are both measures used to assess the relationship between two variables in a dataset. However, they differ in terms of scale, interpretation, and the extent to which they standardize the relationship between variables.\n",
    "\n",
    "1. Covariance:\n",
    "- Definition: Covariance measures the degree to which two variables change together. It indicates the direction of the relationship (positive or negative) and the extent to which changes in one variable are associated with changes in the other.\n",
    "- Calculation: For two variables X and Y with n data points, the covariance is computed as the sum of the products of the differences between each data point and the mean of X and Y, divided by n-1.\n",
    "- Covariance Formula: Cov(X, Y) = Σ [(X_i - mean(X)) * (Y_i - mean(Y))] / (n - 1)\n",
    "\n",
    "- Scale: Covariance can take any value, positive or negative, and its magnitude depends on the scale of the data. As a result, it is not standardized, making it difficult to compare across different datasets.\n",
    "\n",
    "- Interpretation:\n",
    "  - Covariance > 0: Positive covariance indicates that as one variable increases, the other tends to increase as well.\n",
    "  - Covariance < 0: Negative covariance indicates that as one variable increases, the other tends to decrease.\n",
    "  - Covariance = 0: Zero covariance means there is no linear relationship between the variables.\n",
    "\n",
    "2. Correlation:\n",
    "- Definition: Correlation is a standardized measure that quantifies the strength and direction of the linear relationship between two variables. It normalizes the covariance to a scale between -1 and 1, making it easier to compare across datasets.\n",
    "- Calculation: Correlation is calculated by dividing the covariance by the product of the standard deviations of X and Y.\n",
    "- Correlation Formula: Corr(X, Y) = Cov(X, Y) / (σ_X * σ_Y)\n",
    "\n",
    "- Scale: Correlation ranges between -1 and 1. A correlation of +1 indicates a perfect positive linear relationship, 0 indicates no linear relationship, and -1 indicates a perfect negative linear relationship. The correlation is dimensionless and standardized, making it suitable for comparisons.\n",
    "\n",
    "- Interpretation:\n",
    "  - Correlation > 0: Positive correlation indicates a positive linear relationship between the variables, as one increases, the other tends to increase.\n",
    "  - Correlation < 0: Negative correlation indicates a negative linear relationship between the variables, as one increases, the other tends to decrease.\n",
    "  - Correlation = 0: Zero correlation means there is no linear relationship between the variables.\n",
    "\n",
    "In summary, the main differences between covariance and correlation are their scales and interpretability. Covariance is not standardized and can take any value, while correlation is standardized between -1 and 1, allowing for easier comparison and interpretation across different datasets. Correlation provides a more meaningful measure of the strength and direction of the linear relationship between two variables, making it a preferred measure in many statistical analyses and modeling scenarios."
   ]
  },
  {
   "cell_type": "code",
   "execution_count": 31,
   "id": "8320d88b-f478-470f-9e13-e86b2f5fab20",
   "metadata": {},
   "outputs": [],
   "source": [
    "### Q14. How do outliers affect measures of central tendency and dispersion? Provide an example.\n"
   ]
  },
  {
   "cell_type": "code",
   "execution_count": null,
   "id": "4a3fc1bc-c13e-4cb2-8127-cab8a3a0fe81",
   "metadata": {},
   "outputs": [],
   "source": []
  }
 ],
 "metadata": {
  "kernelspec": {
   "display_name": "Python 3 (ipykernel)",
   "language": "python",
   "name": "python3"
  },
  "language_info": {
   "codemirror_mode": {
    "name": "ipython",
    "version": 3
   },
   "file_extension": ".py",
   "mimetype": "text/x-python",
   "name": "python",
   "nbconvert_exporter": "python",
   "pygments_lexer": "ipython3",
   "version": "3.10.8"
  }
 },
 "nbformat": 4,
 "nbformat_minor": 5
}
