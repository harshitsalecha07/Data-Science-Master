{
 "cells": [
  {
   "cell_type": "code",
   "execution_count": 7,
   "id": "74fdf3d1",
   "metadata": {},
   "outputs": [],
   "source": [
    "### 1. Write a Python function to find the maximum of three numbers.\n",
    "def Maximum(a,b,c):\n",
    "    print(\"The maximum number out of three is : \",max(a,b,c))"
   ]
  },
  {
   "cell_type": "code",
   "execution_count": 9,
   "id": "b5d1feaa",
   "metadata": {},
   "outputs": [
    {
     "name": "stdout",
     "output_type": "stream",
     "text": [
      "The maximum number out of three is :  26\n"
     ]
    }
   ],
   "source": [
    "x=Maximum(13,26,24)"
   ]
  },
  {
   "cell_type": "code",
   "execution_count": 10,
   "id": "930ec337",
   "metadata": {},
   "outputs": [],
   "source": [
    "''' Q2.) Write a Python function to sum all the numbers in a list.\n",
    "Sample List : (8, 2, 3, 0, 7)\n",
    "Expected Output : 20'''\n",
    "def Addition(x):\n",
    "    a=0\n",
    "    for i in x:\n",
    "        a+=i\n",
    "    print(\"The addition of all the elements present in the list/tuple is : \",a)"
   ]
  },
  {
   "cell_type": "code",
   "execution_count": 11,
   "id": "c35a89fd",
   "metadata": {},
   "outputs": [
    {
     "name": "stdout",
     "output_type": "stream",
     "text": [
      "The addition of all the elements present in the tuple is :  51\n"
     ]
    }
   ],
   "source": [
    "y=Addition([1,3,6,8,3,10,20])"
   ]
  },
  {
   "cell_type": "code",
   "execution_count": 12,
   "id": "ee1dbb4e",
   "metadata": {},
   "outputs": [],
   "source": [
    "''' Q3.) Write a Python function to multiply all the numbers in a list.\n",
    "Sample List : (8, 2, 3, -1, 7)\n",
    "Expected Output : -336'''\n",
    "def multiplication(x):\n",
    "    a=1\n",
    "    for i in x:\n",
    "        a*=i\n",
    "    print(\"The multiplication of the elements of list/tuple is : \", a)"
   ]
  },
  {
   "cell_type": "code",
   "execution_count": 14,
   "id": "5ff7cb99",
   "metadata": {},
   "outputs": [
    {
     "name": "stdout",
     "output_type": "stream",
     "text": [
      "The multiplication of the elements of list/tuple is :  400\n"
     ]
    }
   ],
   "source": [
    "y=multiplication((1,4,2,5,10))"
   ]
  },
  {
   "cell_type": "code",
   "execution_count": 17,
   "id": "27e63778",
   "metadata": {},
   "outputs": [],
   "source": [
    "'''Q4.) Write a Python program to reverse a string. Go to the editor\n",
    "Sample String : \"1234abcd\"\n",
    "Expected Output : \"dcba4321\"'''\n",
    "def reversing(x):\n",
    "    print(\"The reverse string of your string is : \",x[::-1])"
   ]
  },
  {
   "cell_type": "code",
   "execution_count": 18,
   "id": "74ac275c",
   "metadata": {},
   "outputs": [
    {
     "name": "stdout",
     "output_type": "stream",
     "text": [
      "The reverse string of your string is :  695070tihsraH\n"
     ]
    }
   ],
   "source": [
    "z=reversing(\"Harshit070596\")"
   ]
  },
  {
   "cell_type": "code",
   "execution_count": 35,
   "id": "166486a1",
   "metadata": {},
   "outputs": [],
   "source": [
    "### Q5.) Write a Python function to calculate the factorial of a number (a non-negative integer). The function accepts the number as an argument.\n",
    "def decor(func):\n",
    "    def innerdecor():\n",
    "        print(\"***************************************************\")\n",
    "        func()\n",
    "        print(\"***************************************************\")\n",
    "    return(innerdecor())\n",
    "def factorial():\n",
    "    a=int(input(\"Entre your number for factorial : \"))\n",
    "    b=1\n",
    "    for i in range(a+1):\n",
    "        if i>0:\n",
    "            b*=i\n",
    "    print(\"The factorial value of your number is : \",b)"
   ]
  },
  {
   "cell_type": "code",
   "execution_count": 37,
   "id": "370d22cd",
   "metadata": {},
   "outputs": [
    {
     "name": "stdout",
     "output_type": "stream",
     "text": [
      "***************************************************\n",
      "Entre your number for factorial : 6\n",
      "The factorial value of your number is :  720\n",
      "***************************************************\n"
     ]
    }
   ],
   "source": [
    "y=decor(factorial)"
   ]
  },
  {
   "cell_type": "code",
   "execution_count": 68,
   "id": "b451d57d",
   "metadata": {},
   "outputs": [],
   "source": [
    "### Q6.) Write a Python function to check whether a number falls within a given range. \n",
    "def rangechecking():\n",
    "    a=int(input(\"Entre your number : \"))\n",
    "    b=int(input(\"Entre your lower range element : \"))\n",
    "    c=int(input(\"Entre your higher range element : \"))\n",
    "    m=0\n",
    "    n=0\n",
    "    if b<c:\n",
    "        for i in range(b,c):\n",
    "            if i==a:\n",
    "                m=\"Your number is existed in the range\"\n",
    "            else:\n",
    "                n=\"Sorry, Your number is not existed in the range. Kindly entred the valid number\"\n",
    "        if m!=0:\n",
    "            print(m)\n",
    "        else:\n",
    "            print(n)\n",
    "    else:\n",
    "        print(\"Sorry, Please entre the valid range\")"
   ]
  },
  {
   "cell_type": "code",
   "execution_count": 71,
   "id": "d2c110c3",
   "metadata": {},
   "outputs": [
    {
     "name": "stdout",
     "output_type": "stream",
     "text": [
      "Entre your number : 10\n",
      "Entre your lower range element : -10\n",
      "Entre your higher range element : -15\n",
      "Please entre the valid range\n"
     ]
    }
   ],
   "source": [
    "x=rangechecking()"
   ]
  },
  {
   "cell_type": "code",
   "execution_count": 92,
   "id": "91166c2d",
   "metadata": {},
   "outputs": [],
   "source": [
    "### Q7.) Write a Python function that accepts a string and counts the number of upper and lower case letters.\n",
    "def count_string():\n",
    "    x=input(\"Entre your string : \")\n",
    "    u=0\n",
    "    l=0\n",
    "    for i in range(len(x)):\n",
    "        if x[i].isupper():\n",
    "            u+=1\n",
    "        \n",
    "        elif x[i].islower():\n",
    "            l+=1\n",
    "    print(\"Upper case letters in the string is : \",u)\n",
    "    print(\"Lower case letters in the string is : \",l)"
   ]
  },
  {
   "cell_type": "code",
   "execution_count": 93,
   "id": "5fce1134",
   "metadata": {},
   "outputs": [
    {
     "name": "stdout",
     "output_type": "stream",
     "text": [
      "Entre your string : HarshitSalechaA\n",
      "Upper case letters in the string is :  3\n",
      "Lower case letters in the string is :  12\n"
     ]
    }
   ],
   "source": [
    "a=count_string()"
   ]
  },
  {
   "cell_type": "code",
   "execution_count": 94,
   "id": "add83701",
   "metadata": {},
   "outputs": [],
   "source": [
    "### Q8.) Write a Python function that takes a list and returns a new list with distinct elements from the first list.\n",
    "def distinct_elements(x):\n",
    "    l=[]\n",
    "    for i in x:\n",
    "        if i not in l:\n",
    "            l.append(i)\n",
    "    return(l)"
   ]
  },
  {
   "cell_type": "code",
   "execution_count": 96,
   "id": "6bf98bb3",
   "metadata": {},
   "outputs": [
    {
     "name": "stdout",
     "output_type": "stream",
     "text": [
      "[2, 6, 3, 8, 5, 'a', 'b', 'c']\n"
     ]
    }
   ],
   "source": [
    "x=distinct_elements([2,6,3,2,6,8,5,\"a\",\"b\",\"c\",\"a\"])\n",
    "print(x)"
   ]
  },
  {
   "cell_type": "code",
   "execution_count": 128,
   "id": "a86d7c32",
   "metadata": {},
   "outputs": [],
   "source": [
    "### Q9.) Write a Python function that takes a number as a parameter and checks whether the number is prime or not.\n",
    "def number_check():\n",
    "    x=int(input(\"Entre your number : \"))\n",
    "    if x==1:\n",
    "        print(\"Number is neither prime nor composite\")\n",
    "    elif x==2:\n",
    "        print(\"Number is prime\")\n",
    "    else:\n",
    "        for i in range(x):\n",
    "            if i>1: \n",
    "                if x%i==0:\n",
    "                    print(\"Number is not prime\")\n",
    "                    break\n",
    "                else:\n",
    "                    print(\"Number is prime\")\n",
    "                    break"
   ]
  },
  {
   "cell_type": "code",
   "execution_count": 129,
   "id": "3dd5aaa8",
   "metadata": {},
   "outputs": [
    {
     "name": "stdout",
     "output_type": "stream",
     "text": [
      "Entre your number : 997\n",
      "Number is prime\n"
     ]
    }
   ],
   "source": [
    "x=number_check()"
   ]
  },
  {
   "cell_type": "code",
   "execution_count": 137,
   "id": "c9e9271f",
   "metadata": {},
   "outputs": [],
   "source": [
    "### Q10.) Write a Python program to print the even numbers from a given list\n",
    "def even_list(x):\n",
    "    l=[]\n",
    "    for i in x:\n",
    "        if i>0:\n",
    "            if i%2==0:\n",
    "                l.append(i)\n",
    "    print(l)"
   ]
  },
  {
   "cell_type": "code",
   "execution_count": 138,
   "id": "57f653ce",
   "metadata": {},
   "outputs": [
    {
     "name": "stdout",
     "output_type": "stream",
     "text": [
      "[4, 4, 2, 2]\n"
     ]
    }
   ],
   "source": [
    "a=even_list([1,4,7,4,3,2,5,7,9,0,7,2])"
   ]
  },
  {
   "cell_type": "code",
   "execution_count": 3,
   "id": "2b0e4831",
   "metadata": {},
   "outputs": [],
   "source": [
    "'''Q11.) Write a Python function to check whether a number is \"Perfect\" or not.\n",
    "According to Wikipedia : In number theory, a perfect number is a positive integer that is equal to the sum of its proper positive divisors, that is, the sum of its positive divisors excluding the number itself (also known as its aliquot sum). Equivalently, a perfect number is a number that is half the sum of all of its positive divisors (including itself).\n",
    "Example : The first perfect number is 6, because 1, 2, and 3 are its proper positive divisors, and 1 + 2 + 3 = 6. Equivalently, the number 6 is equal to half the sum of all its positive divisors: ( 1 + 2 + 3 + 6 ) / 2 = 6. The next perfect number is 28 = 1 + 2 + 4 + 7 + 14. This is followed by the perfect numbers 496 and 8128.'''\n",
    "def perfect_number():\n",
    "    x=int(input(\"Entre your number : \"))\n",
    "    a=0\n",
    "    for i in range(x):\n",
    "        if i>0:\n",
    "            if x%i==0:\n",
    "                a+=i\n",
    "    if a==x:\n",
    "        print(\"Number is perfect number\")\n",
    "    else:\n",
    "        print(\"Number is not perfect\")"
   ]
  },
  {
   "cell_type": "code",
   "execution_count": 5,
   "id": "ae6c1d3d",
   "metadata": {},
   "outputs": [
    {
     "name": "stdout",
     "output_type": "stream",
     "text": [
      "Entre your number : 8128\n",
      "Number is perfect number\n"
     ]
    }
   ],
   "source": [
    "a=perfect_number()"
   ]
  },
  {
   "cell_type": "code",
   "execution_count": 12,
   "id": "af759d0b",
   "metadata": {},
   "outputs": [],
   "source": [
    "'''Q12.) Write a Python function that checks whether a passed string is a palindrome or not. Go to the editor\n",
    "Note: A palindrome is a word, phrase, or sequence that reads the same backward as forward, e.g., madam or nurses run.'''\n",
    "def palindrome():\n",
    "    x=input(\"Entre your word : \")\n",
    "    a=x.lower()\n",
    "    if a==a[::-1]:\n",
    "        print(\"Your word is palindrome\")\n",
    "    else:\n",
    "        print(\"Your word is not palindrome\")"
   ]
  },
  {
   "cell_type": "code",
   "execution_count": 13,
   "id": "ceca860e",
   "metadata": {},
   "outputs": [
    {
     "name": "stdout",
     "output_type": "stream",
     "text": [
      "Entre your word : KIK\n",
      "Your word is palindrome\n"
     ]
    }
   ],
   "source": [
    "x=palindrome()"
   ]
  },
  {
   "cell_type": "code",
   "execution_count": 40,
   "id": "4e9f316d",
   "metadata": {},
   "outputs": [],
   "source": [
    "'''Q14.) Write a Python function to check whether a string is a pangram or not. Go to the editor\n",
    "Note : Pangrams are words or sentences containing every letter of the alphabet at least once.'''\n",
    "def Pangrams(x):\n",
    "    y=x.replace(\" \",\"\")\n",
    "    z=y.lower()\n",
    "    p=list(z)\n",
    "    lst1=[\"a\",\"b\",\"c\",\"d\",\"e\",\"f\",\"g\",\"h\",\"i\",\"j\",\"k\",\"l\",\"m\",\"n\",\"o\",\"p\",\"q\",\"r\",\"s\",\"t\",\"u\",\"v\",\"w\",\"x\",\"y\",\"z\"]\n",
    "    a=0\n",
    "    for i in lst1:\n",
    "        if i in p:\n",
    "            a=\"The string is a pangram\"\n",
    "        else:\n",
    "            a=\"The string is not a pangram\"\n",
    "    print(a)"
   ]
  },
  {
   "cell_type": "code",
   "execution_count": 46,
   "id": "ed75df0d",
   "metadata": {},
   "outputs": [
    {
     "name": "stdout",
     "output_type": "stream",
     "text": [
      "The string is not a pangram\n"
     ]
    }
   ],
   "source": [
    "x=Pangrams(\"abcgfsbgnffhdfhdascghgcxdgbcxfh\")"
   ]
  },
  {
   "cell_type": "code",
   "execution_count": 47,
   "id": "600ba376",
   "metadata": {},
   "outputs": [
    {
     "name": "stdout",
     "output_type": "stream",
     "text": [
      "The string is a pangram\n"
     ]
    }
   ],
   "source": [
    "x=Pangrams(\"The quick brown fox jumps over the lazy dog\")"
   ]
  },
  {
   "cell_type": "code",
   "execution_count": 14,
   "id": "7dac031e",
   "metadata": {},
   "outputs": [
    {
     "name": "stdout",
     "output_type": "stream",
     "text": [
      "Entre your line : green-red-yellow-black-white\n",
      "black-green-red-white-yellow-"
     ]
    }
   ],
   "source": [
    "'''Q15.) Write a Python program that accepts a hyphen-separated sequence of words as input and prints the words in a hyphen-separated sequence after sorting them alphabetically.\n",
    "Sample Items : green-red-yellow-black-white\n",
    "Expected Result : black-green-red-white-yellow'''\n",
    "a=input(\"Entre your line : \")\n",
    "b=0\n",
    "c=0\n",
    "for i in a:\n",
    "    if i==\"-\":\n",
    "        b=a.split(\"-\")\n",
    "c=sorted(b)\n",
    "for i in c:\n",
    "    print(i,end=\"-\")"
   ]
  },
  {
   "cell_type": "code",
   "execution_count": 33,
   "id": "0bea9227",
   "metadata": {},
   "outputs": [],
   "source": [
    "### Q16.) Write a Python function to create and print a list where the values are the squares of numbers between 1 and 30 (both included).\n",
    "def square_number(x):\n",
    "    l=[]\n",
    "    a=0\n",
    "    for i in x:\n",
    "        a=int((i)**(1/2))\n",
    "        if i%a==0 and i!=2:    \n",
    "            if i>=0 and i<=30:\n",
    "                l.append(i)\n",
    "    print(l)      "
   ]
  },
  {
   "cell_type": "code",
   "execution_count": 35,
   "id": "93365584",
   "metadata": {},
   "outputs": [
    {
     "name": "stdout",
     "output_type": "stream",
     "text": [
      "[1, 4, 9, 25, 16]\n"
     ]
    }
   ],
   "source": [
    "a=square_number([1,4,9,25,36,2,5,7,45,49,324,35,484,729,226,16])"
   ]
  },
  {
   "cell_type": "markdown",
   "id": "3c155e90",
   "metadata": {},
   "source": [
    "### Lambda Function Revision"
   ]
  },
  {
   "cell_type": "code",
   "execution_count": 39,
   "id": "9993b793",
   "metadata": {},
   "outputs": [],
   "source": [
    "### 1. Write a Python program to create a lambda function that adds 15 to a given number passed in as an argument, also create a lambda function that multiplies argument x with argument y and prints the result.\n",
    "a=lambda x : x+15"
   ]
  },
  {
   "cell_type": "code",
   "execution_count": 40,
   "id": "739087f0",
   "metadata": {},
   "outputs": [
    {
     "name": "stdout",
     "output_type": "stream",
     "text": [
      "Entre your number10\n"
     ]
    },
    {
     "data": {
      "text/plain": [
       "25"
      ]
     },
     "execution_count": 40,
     "metadata": {},
     "output_type": "execute_result"
    }
   ],
   "source": [
    "a(int(input(\"Entre your number\")))"
   ]
  },
  {
   "cell_type": "code",
   "execution_count": 42,
   "id": "375d060d",
   "metadata": {},
   "outputs": [],
   "source": [
    "a=lambda x,y : x*y"
   ]
  },
  {
   "cell_type": "code",
   "execution_count": 44,
   "id": "0b4b1ef0",
   "metadata": {},
   "outputs": [
    {
     "data": {
      "text/plain": [
       "30"
      ]
     },
     "execution_count": 44,
     "metadata": {},
     "output_type": "execute_result"
    }
   ],
   "source": [
    "a(5,6)"
   ]
  },
  {
   "cell_type": "code",
   "execution_count": 56,
   "id": "93e8b7a5",
   "metadata": {},
   "outputs": [],
   "source": [
    "### Q2.) Write a Python program to create a function that takes one argument, and that argument will be multiplied with an unknown given number.\n",
    "a=lambda x,y: print (\"The product of both the numbers is :\",x*y)"
   ]
  },
  {
   "cell_type": "code",
   "execution_count": 57,
   "id": "0a9a74b5",
   "metadata": {},
   "outputs": [
    {
     "name": "stdout",
     "output_type": "stream",
     "text": [
      "Entre your argument : 2\n",
      "Entre your second argument : 3\n",
      "The product of both the numbers is : 6\n"
     ]
    }
   ],
   "source": [
    "a(int(input(\"Entre your argument : \")),int(input(\"Entre your second argument : \")))"
   ]
  },
  {
   "cell_type": "code",
   "execution_count": 62,
   "id": "2fecf4f1",
   "metadata": {},
   "outputs": [
    {
     "name": "stdout",
     "output_type": "stream",
     "text": [
      "[('Social sciences', 82), ('English', 88), ('Science', 90), ('Maths', 97)]\n"
     ]
    }
   ],
   "source": [
    "''' Q3.) Write a Python program to sort a list of tuples using Lambda.\n",
    "Original list of tuples:\n",
    "[('English', 88), ('Science', 90), ('Maths', 97), ('Social sciences', 82)]\n",
    "Sorting the List of Tuples:\n",
    "[('Social sciences', 82), ('English', 88), ('Science', 90), ('Maths', 97)]'''\n",
    "lst1=[('English', 88), ('Science', 90), ('Maths', 97), ('Social sciences', 82)]\n",
    "a=sorted(lst1, key=lambda x : x[1])\n",
    "print(a)"
   ]
  },
  {
   "cell_type": "code",
   "execution_count": 64,
   "id": "0a96adc6",
   "metadata": {
    "scrolled": true
   },
   "outputs": [
    {
     "name": "stdout",
     "output_type": "stream",
     "text": [
      "[{'make': 'Nokia', 'model': 216, 'color': 'Black'}, {'make': 'Samsung', 'model': 7, 'color': 'Blue'}, {'make': 'Mi Max', 'model': '2', 'color': 'Gold'}]\n"
     ]
    }
   ],
   "source": [
    "'''Q4.) Write a Python program to sort a list of dictionaries using Lambda. Go to the editor\n",
    "Original list of dictionaries :\n",
    "[{'make': 'Nokia', 'model': 216, 'color': 'Black'}, {'make': 'Mi Max', 'model': '2', 'color': 'Gold'}, {'make': 'Samsung', 'model': 7, 'color': 'Blue'}]\n",
    "Sorting the List of dictionaries :\n",
    "[{'make': 'Nokia', 'model': 216, 'color': 'Black'}, {'make': 'Samsung', 'model': 7, 'color': 'Blue'}, {'make': 'Mi Max', 'model': '2', 'color': 'Gold'}]\n",
    "'''\n",
    "dict1=[{'make': 'Nokia', 'model': 216, 'color': 'Black'}, {'make': 'Mi Max', 'model': '2', 'color': 'Gold'}, {'make': 'Samsung', 'model': 7, 'color': 'Blue'}]\n",
    "a=sorted(dict1, key=lambda x : x[\"color\"])\n",
    "print(a)"
   ]
  },
  {
   "cell_type": "code",
   "execution_count": 92,
   "id": "4ef5eb9c",
   "metadata": {
    "scrolled": true
   },
   "outputs": [],
   "source": [
    "'''Write a Python program to filter a list of integers using Lambda. Go to the editor\n",
    "Original list of integers:\n",
    "[1, 2, 3, 4, 5, 6, 7, 8, 9, 10]\n",
    "Even numbers from the said list:\n",
    "[2, 4, 6, 8, 10]\n",
    "Odd numbers from the said list:\n",
    "[1, 3, 5, 7, 9]'''\n",
    "lst1=[1, 2, 3, 4, 5, 6, 7, 8, 9, 10]\n",
    "a=list(filter(lambda x:x%2==0,lst1))\n",
    "b=list(filter(lambda x:x%2!=0,lst1))"
   ]
  },
  {
   "cell_type": "code",
   "execution_count": 93,
   "id": "9b5e937a",
   "metadata": {},
   "outputs": [
    {
     "data": {
      "text/plain": [
       "[1, 3, 5, 7, 9]"
      ]
     },
     "execution_count": 93,
     "metadata": {},
     "output_type": "execute_result"
    }
   ],
   "source": [
    "b"
   ]
  },
  {
   "cell_type": "code",
   "execution_count": 110,
   "id": "4d34c6b3",
   "metadata": {},
   "outputs": [],
   "source": [
    "'''Write a Python program to square and cube every number in a given list of integers using Lambda. Go to the editor\n",
    "Original list of integers:\n",
    "[1, 2, 3, 4, 5, 6, 7, 8, 9, 10]\n",
    "Square every number of the said list:\n",
    "[1, 4, 9, 16, 25, 36, 49, 64, 81, 100]\n",
    "Cube every number of the said list:\n",
    "[1, 8, 27, 64, 125, 216, 343, 512, 729, 1000]'''\n",
    "lst1=[1, 2, 3, 4, 5, 6, 7, 8, 9, 10]\n",
    "a=lambda x: [i**2 for i in x]\n",
    "b=lambda x:[i**3 for i in x]"
   ]
  },
  {
   "cell_type": "code",
   "execution_count": 112,
   "id": "6dcd94d6",
   "metadata": {},
   "outputs": [
    {
     "data": {
      "text/plain": [
       "[1, 4, 9, 16, 25, 36, 49, 64, 81, 100]"
      ]
     },
     "execution_count": 112,
     "metadata": {},
     "output_type": "execute_result"
    }
   ],
   "source": [
    "a([1, 2, 3, 4, 5, 6, 7, 8, 9, 10])"
   ]
  },
  {
   "cell_type": "code",
   "execution_count": 111,
   "id": "d5030fb5",
   "metadata": {},
   "outputs": [
    {
     "data": {
      "text/plain": [
       "[1, 8, 27, 64, 125, 216, 343, 512, 729, 1000]"
      ]
     },
     "execution_count": 111,
     "metadata": {},
     "output_type": "execute_result"
    }
   ],
   "source": [
    "b([1, 2, 3, 4, 5, 6, 7, 8, 9, 10])"
   ]
  },
  {
   "cell_type": "code",
   "execution_count": 113,
   "id": "2f27083e",
   "metadata": {},
   "outputs": [],
   "source": [
    "'''Write a Python program to find if a given string starts with a given character using Lambda.\n",
    "Sample Output:\n",
    "True\n",
    "False'''\n",
    "a=lambda x,y: True if x[0]==y else False"
   ]
  },
  {
   "cell_type": "code",
   "execution_count": 118,
   "id": "40be25ad",
   "metadata": {},
   "outputs": [
    {
     "name": "stdout",
     "output_type": "stream",
     "text": [
      "Entre your string : Arpit\n",
      "Entre your character : A\n"
     ]
    },
    {
     "data": {
      "text/plain": [
       "True"
      ]
     },
     "execution_count": 118,
     "metadata": {},
     "output_type": "execute_result"
    }
   ],
   "source": [
    "a(input(\"Entre your string : \"), input(\"Entre your character : \"))"
   ]
  },
  {
   "cell_type": "code",
   "execution_count": 11,
   "id": "5ebf9111",
   "metadata": {},
   "outputs": [
    {
     "name": "stdout",
     "output_type": "stream",
     "text": [
      "2023-04-27 17:20:32.190729\n",
      "2023\n",
      "4\n",
      "27\n",
      "17:20:32.190729\n"
     ]
    }
   ],
   "source": [
    "'''Write a Python program to extract year, month, date and time using Lambda.\n",
    "Sample Output:\n",
    "2020-01-15 09:03:32.744178\n",
    "2020\n",
    "1\n",
    "15\n",
    "09:03:32.744178'''\n",
    "import datetime \n",
    "now=datetime.datetime.now()\n",
    "print(now)\n",
    "year = lambda x: x.year\n",
    "month = lambda x: x.month\n",
    "day = lambda x: x.day\n",
    "t = lambda x: x.time()\n",
    "print(year(now))\n",
    "print(month(now))\n",
    "print(day(now))\n",
    "print(t(now))"
   ]
  },
  {
   "cell_type": "code",
   "execution_count": 46,
   "id": "59f7b862",
   "metadata": {},
   "outputs": [],
   "source": [
    "'''Write a Python program to check whether a given string is a number or not using Lambda.\n",
    "Sample Output:\n",
    "True\n",
    "True\n",
    "False\n",
    "True\n",
    "False\n",
    "True\n",
    "Print checking numbers:\n",
    "True\n",
    "True'''\n",
    "a=lambda x: [True if i.isnumeric() else False for i in x]"
   ]
  },
  {
   "cell_type": "code",
   "execution_count": 33,
   "id": "66128ae1",
   "metadata": {},
   "outputs": [
    {
     "name": "stdout",
     "output_type": "stream",
     "text": [
      "1.0\n"
     ]
    }
   ],
   "source": [
    "import math\n",
    "b=math.radians(90)\n",
    "a=math.sin(b)\n",
    "print(a)"
   ]
  },
  {
   "cell_type": "code",
   "execution_count": 47,
   "id": "b2c6921e",
   "metadata": {},
   "outputs": [
    {
     "name": "stdout",
     "output_type": "stream",
     "text": [
      "Entre your string : 123Hars\n"
     ]
    },
    {
     "data": {
      "text/plain": [
       "[True, True, True, False, False, False, False]"
      ]
     },
     "execution_count": 47,
     "metadata": {},
     "output_type": "execute_result"
    }
   ],
   "source": [
    "a(input(\"Entre your string : \"))"
   ]
  },
  {
   "cell_type": "code",
   "execution_count": 63,
   "id": "62260edb",
   "metadata": {},
   "outputs": [],
   "source": [
    "'''write a Python program to create Fibonacci series up to n using Lambda. Go to the editor\n",
    "Fibonacci series upto 2:\n",
    "[0, 1]\n",
    "Fibonacci series upto 5:\n",
    "[0, 1, 1, 2, 3]\n",
    "Fibonacci series upto 6:\n",
    "[0, 1, 1, 2, 3, 5]\n",
    "Fibonacci series upto 9:\n",
    "[0, 1, 1, 2, 3, 5, 8, 13, 21]'''\n",
    "def fibonacci(n):\n",
    "    \"\"\"Generates the Fibonacci sequence up to n terms.\"\"\"\n",
    "    # Initialize variables\n",
    "    first_term, second_term = 0, 1\n",
    "    \n",
    "    # Generate sequence\n",
    "    for i in range(n):\n",
    "        nth_term = first_term + second_term\n",
    "        first_term = second_term\n",
    "        second_term = nth_term\n",
    "        \n",
    "    return sequence"
   ]
  },
  {
   "cell_type": "code",
   "execution_count": 64,
   "id": "e521457f",
   "metadata": {},
   "outputs": [
    {
     "data": {
      "text/plain": [
       "[0, 1, 1, 2, 3]"
      ]
     },
     "execution_count": 64,
     "metadata": {},
     "output_type": "execute_result"
    }
   ],
   "source": [
    "fibonacci(5)"
   ]
  },
  {
   "cell_type": "code",
   "execution_count": 77,
   "id": "04443f6d",
   "metadata": {},
   "outputs": [],
   "source": [
    "'''Write a Python program to find the intersection of two given arrays using Lambda. Go to the editor\n",
    "Original arrays:\n",
    "[1, 2, 3, 5, 7, 8, 9, 10]\n",
    "[1, 2, 4, 8, 9]'''\n",
    "lst1=[1, 2, 3, 5, 7, 8, 9, 10]\n",
    "lst2=[1, 2, 4, 8, 9,2,5,7,4,2,2,10]\n",
    "lst3=[]\n",
    "a=lambda lst1,lst2: [i for i in lst1 if i in lst2] "
   ]
  },
  {
   "cell_type": "code",
   "execution_count": 78,
   "id": "be82c8ad",
   "metadata": {},
   "outputs": [
    {
     "data": {
      "text/plain": [
       "[1, 2, 5, 7, 8, 9, 10]"
      ]
     },
     "execution_count": 78,
     "metadata": {},
     "output_type": "execute_result"
    }
   ],
   "source": [
    "a([1, 2, 3, 5, 7, 8, 9, 10],[1, 2, 4, 8, 9,2,5,7,4,2,2,10])"
   ]
  }
 ],
 "metadata": {
  "kernelspec": {
   "display_name": "Python 3 (ipykernel)",
   "language": "python",
   "name": "python3"
  },
  "language_info": {
   "codemirror_mode": {
    "name": "ipython",
    "version": 3
   },
   "file_extension": ".py",
   "mimetype": "text/x-python",
   "name": "python",
   "nbconvert_exporter": "python",
   "pygments_lexer": "ipython3",
   "version": "3.10.9"
  }
 },
 "nbformat": 4,
 "nbformat_minor": 5
}
