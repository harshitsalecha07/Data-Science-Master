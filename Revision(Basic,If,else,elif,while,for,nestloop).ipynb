{
 "cells": [
  {
   "cell_type": "markdown",
   "id": "32b93936-ef76-4283-9b1e-9da508e401c2",
   "metadata": {},
   "source": [
    "# Hello world"
   ]
  },
  {
   "cell_type": "markdown",
   "id": "786f17b5-13a7-49ea-b311-45c4d28d7b89",
   "metadata": {},
   "source": [
    "## My name is Harshit Salecha"
   ]
  },
  {
   "cell_type": "markdown",
   "id": "cf640432-d089-47ce-8e6c-036add99cb92",
   "metadata": {},
   "source": [
    "###I am a leaner of Python"
   ]
  },
  {
   "cell_type": "markdown",
   "id": "312fe0f1-8cff-4ab4-baeb-8f3c934007db",
   "metadata": {},
   "source": [
    "#### I am a learner of Python"
   ]
  },
  {
   "cell_type": "code",
   "execution_count": 3,
   "id": "1d69875d-c58b-4eae-8e3d-835a68e4e939",
   "metadata": {},
   "outputs": [
    {
     "name": "stdout",
     "output_type": "stream",
     "text": [
      "22\n"
     ]
    }
   ],
   "source": [
    "'''Hello all, my name is harshit salecha \n",
    "I'm working in Embibe \n",
    "Currently I started learning about Python'''\n",
    "a=10\n",
    "b=12\n",
    "print(a+b)"
   ]
  },
  {
   "cell_type": "code",
   "execution_count": 4,
   "id": "4d9313e6-5e5e-4200-a3f6-53bdfc52529b",
   "metadata": {},
   "outputs": [
    {
     "data": {
      "text/plain": [
       "4"
      ]
     },
     "execution_count": 4,
     "metadata": {},
     "output_type": "execute_result"
    }
   ],
   "source": [
    "1+3"
   ]
  },
  {
   "cell_type": "code",
   "execution_count": 12,
   "id": "d67be56b-20e9-43fa-a5f1-426bbd1214ed",
   "metadata": {},
   "outputs": [
    {
     "name": "stdout",
     "output_type": "stream",
     "text": [
      "Your name is HarshitSalecha\n"
     ]
    }
   ],
   "source": [
    "first_name='Harshit'\n",
    "last_name='Salecha'\n",
    "print (f\"Your name is {first_name+last_name}\")"
   ]
  },
  {
   "cell_type": "code",
   "execution_count": 18,
   "id": "eca03745-933d-4d9b-bdb8-a2cda12093f0",
   "metadata": {},
   "outputs": [
    {
     "name": "stdout",
     "output_type": "stream",
     "text": [
      "Your name is Harshit Salecha\n"
     ]
    }
   ],
   "source": [
    "first_name='Harshit'\n",
    "last_name='Salecha'\n",
    "print (\"Your name is {} {}\".format(first_name, last_name))"
   ]
  },
  {
   "cell_type": "code",
   "execution_count": 19,
   "id": "58c7e3d1-cae4-4e30-bc3c-5580cdb61805",
   "metadata": {},
   "outputs": [
    {
     "data": {
      "text/plain": [
       "str"
      ]
     },
     "execution_count": 19,
     "metadata": {},
     "output_type": "execute_result"
    }
   ],
   "source": [
    "type(first_name)"
   ]
  },
  {
   "cell_type": "code",
   "execution_count": 25,
   "id": "cde04dec-fe2f-4f3f-ad76-365afbe60f1d",
   "metadata": {},
   "outputs": [
    {
     "name": "stdout",
     "output_type": "stream",
     "text": [
      "2.0\n"
     ]
    }
   ],
   "source": [
    "a=1+2j\n",
    "b=a.imag\n",
    "print(b)"
   ]
  },
  {
   "cell_type": "code",
   "execution_count": 26,
   "id": "29b21fc7-29ae-46a7-a16b-b6de7269d132",
   "metadata": {},
   "outputs": [
    {
     "data": {
      "text/plain": [
       "False"
      ]
     },
     "execution_count": 26,
     "metadata": {},
     "output_type": "execute_result"
    }
   ],
   "source": [
    "bool(0)"
   ]
  },
  {
   "cell_type": "code",
   "execution_count": 27,
   "id": "77829af4-bf67-4f7f-8449-67c276bc0d43",
   "metadata": {},
   "outputs": [
    {
     "data": {
      "text/plain": [
       "True"
      ]
     },
     "execution_count": 27,
     "metadata": {},
     "output_type": "execute_result"
    }
   ],
   "source": [
    "bool(1)"
   ]
  },
  {
   "cell_type": "code",
   "execution_count": 28,
   "id": "a2da442a-d07a-4109-a2dc-e2ec8f8155a9",
   "metadata": {},
   "outputs": [
    {
     "name": "stdout",
     "output_type": "stream",
     "text": [
      "3.10.8 | packaged by conda-forge | (main, Nov 22 2022, 08:26:04) [GCC 10.4.0]\n"
     ]
    }
   ],
   "source": [
    "import sys\n",
    "print(sys.version)"
   ]
  },
  {
   "cell_type": "code",
   "execution_count": 32,
   "id": "a4574330-f9d7-41ea-935e-043f84610de2",
   "metadata": {},
   "outputs": [
    {
     "name": "stdout",
     "output_type": "stream",
     "text": [
      "3.10.8\n"
     ]
    }
   ],
   "source": [
    "import platform\n",
    "print(platform.python_version())"
   ]
  },
  {
   "cell_type": "code",
   "execution_count": 33,
   "id": "b6343b8d-aa07-4654-92e2-10b164c7a6c6",
   "metadata": {},
   "outputs": [
    {
     "name": "stdout",
     "output_type": "stream",
     "text": [
      "sys.version_info(major=3, minor=10, micro=8, releaselevel='final', serial=0)\n"
     ]
    }
   ],
   "source": [
    "import sys\n",
    "print(sys.version_info)"
   ]
  },
  {
   "cell_type": "code",
   "execution_count": null,
   "id": "4e2e8c14-737d-40ef-acca-4822267c56de",
   "metadata": {},
   "outputs": [],
   "source": [
    "age=int(input(\"Entre your age\"))\n",
    "if age>=18 and age<=45:\n",
    "    print(\"You are a young blood\")\n",
    "elif age>45:\n",
    "    print(\"Sorry, your age is more than age limit\")\n",
    "else:\n",
    "    print(\"Sorry, you are not eligible\")"
   ]
  },
  {
   "cell_type": "code",
   "execution_count": null,
   "id": "1a1d9aec-2a81-40aa-bcbe-a8debff5aa55",
   "metadata": {},
   "outputs": [],
   "source": [
    "marked_price=int(input(\"Entre the product price : \"))\n",
    "if marked_price>20000:\n",
    "    print(\"Your purchasing price is Rs. {} \".format(marked_price*0.70))\n",
    "elif marked_price>10000 and marked_price<=20000:\n",
    "    if marked_price==12999:\n",
    "        print(\"Your purchasing price is Rs. {} and you got a earbud of worth of Rs. {}\".format(marked_price*0.80,marked_price*0.05))\n",
    "    print(\"Your purchasing price is Rs. {}\".format(marked_price*0.80))\n",
    "elif marked_price>5000 and marked_price<=10000:\n",
    "    if marked_price==8000:\n",
    "        print(\"Your purchasing price is Rs. {} and you got a laptop bag worth of Rs. {}\".format(marked_price*0.90,marked_price*0.05))\n",
    "    print(\"Your purchasing price is Rs. {}\".format(marked_price*0.90))\n",
    "else:\n",
    "    print(\"Oh sorry! You are not eligible for any discount so you have to pay full amount of Rs. \",marked_price)"
   ]
  },
  {
   "cell_type": "code",
   "execution_count": 1,
   "id": "9a4cb10c-db7c-42b4-894d-d887193afdd7",
   "metadata": {},
   "outputs": [
    {
     "name": "stdin",
     "output_type": "stream",
     "text": [
      "Entre the product price :  12999\n"
     ]
    },
    {
     "name": "stdout",
     "output_type": "stream",
     "text": [
      "Your purchasing price is Rs. 10399.2 and you got a earbud of worth of Rs. 649.95\n"
     ]
    }
   ],
   "source": [
    "marked_price=int(input(\"Entre the product price : \"))\n",
    "while marked_price>20000:\n",
    "    print(\"Your purchasing price is Rs. {} \".format(marked_price*0.70))\n",
    "    break\n",
    "while marked_price>10000 and marked_price<=20000:\n",
    "    if marked_price==12999:\n",
    "        print(\"Your purchasing price is Rs. {} and you got a earbud of worth of Rs. {}\".format(marked_price*0.80,marked_price*0.05))\n",
    "        break\n",
    "    print(\"Your purchasing price is Rs. {}\".format(marked_price*0.80))\n",
    "    break\n",
    "while marked_price>5000 and marked_price<=10000:\n",
    "    if marked_price==8000:\n",
    "        print(\"Your purchasing price is Rs. {} and you got a laptop bag worth of Rs. {}\".format(marked_price*0.90,marked_price*0.05))\n",
    "        break\n",
    "    print(\"Your purchasing price is Rs. {}\".format(marked_price*0.90))\n",
    "    break\n",
    "###else:\n",
    "    ###print(\"Oh sorry! You are not eligible for any discount so you have to pay full amount of Rs. \",marked_price)"
   ]
  },
  {
   "cell_type": "code",
   "execution_count": 6,
   "id": "56f39288-b585-479a-bbd4-bb9989d7c8e2",
   "metadata": {},
   "outputs": [
    {
     "name": "stdout",
     "output_type": "stream",
     "text": [
      "\n",
      "Your person is Masoom\n",
      "Age of Masoom is 25 years and he is married\n",
      "\n",
      "\n",
      "\n",
      "Your person is Himanshu\n",
      "Age of Himanshu is 28 years and he is married\n",
      "\n",
      "\n",
      "\n",
      "Your person is Yogesh\n",
      "Age of Yogesh is 28 years and he is married\n",
      "\n",
      "\n"
     ]
    }
   ],
   "source": [
    "friends=[\"Anshu\",\"Masoom\",\"Naveen\",\"Himanshu\",\"Ankit\",\"Yogesh\",\"Harshit\"]\n",
    "for a in friends:\n",
    "    if a==\"Masoom\":\n",
    "        print(\"Your person is Masoom\")\n",
    "        print(\"Age of Masoom is 25 years and he is married\")\n",
    "        print(\"\\n\")\n",
    "    elif a==\"Himanshu\":\n",
    "        print(\"Your person is Himanshu\")\n",
    "        print(\"Age of Himanshu is 28 years and he is married\")\n",
    "        print(\"\\n\")\n",
    "    elif a==\"Yogesh\":\n",
    "        print(\"Your person is Yogesh\")\n",
    "        print(\"Age of Yogesh is 28 years and he is married\")\n",
    "        print(\"\")\n",
    "    else:\n",
    "        print(\"\")"
   ]
  },
  {
   "cell_type": "code",
   "execution_count": 65,
   "id": "782953d1-0742-4257-ac1a-98c51f61c16b",
   "metadata": {},
   "outputs": [
    {
     "name": "stdout",
     "output_type": "stream",
     "text": [
      "10\n",
      "9\n",
      "8\n",
      "7\n",
      "6\n"
     ]
    }
   ],
   "source": [
    "a=50\n",
    "for a in range(10,5,-1):\n",
    "    print (a)"
   ]
  },
  {
   "cell_type": "code",
   "execution_count": 31,
   "id": "b4fbd7bd-0784-4a42-b30d-b41e58243ea8",
   "metadata": {},
   "outputs": [
    {
     "name": "stdout",
     "output_type": "stream",
     "text": [
      "2 \t4 \t6 \t8 \t10 \t12 \t14 \t16 \t18 \t20 \t22 \t24 \t26 \t28 \t30 \t32 \t34 \t36 \t38 \t40 \t42 \t44 \t46 \t48 \t50 \t52 \t54 \t56 \t58 \t60 \t62 \t64 \t66 \t68 \t70 \t72 \t74 \t76 \t78 \t80 \t82 \t84 \t86 \t88 \t90 \t92 \t94 \t96 \t98 \t100 \t"
     ]
    }
   ],
   "source": [
    "for a in range(2,101,2):\n",
    "    print(a,\"\\t\",end=\"\")"
   ]
  },
  {
   "cell_type": "code",
   "execution_count": 34,
   "id": "86af2806-b7ff-4729-af97-c063b40442e8",
   "metadata": {},
   "outputs": [
    {
     "name": "stdin",
     "output_type": "stream",
     "text": [
      "Entre the number :  12\n"
     ]
    },
    {
     "name": "stdout",
     "output_type": "stream",
     "text": [
      "12\n",
      "24\n",
      "36\n",
      "48\n",
      "60\n",
      "72\n",
      "84\n",
      "96\n",
      "108\n",
      "120\n"
     ]
    }
   ],
   "source": [
    "## Table for any Number\n",
    "a=int(input(\"Entre the number : \"))\n",
    "b=a*11\n",
    "n=a\n",
    "for a in range(a,b,n):\n",
    "    print(a)"
   ]
  },
  {
   "cell_type": "code",
   "execution_count": 52,
   "id": "93668e54-fedf-4272-a0a5-13877fbc580a",
   "metadata": {},
   "outputs": [
    {
     "name": "stdout",
     "output_type": "stream",
     "text": [
      "    *\n",
      "   ***\n",
      "  *****\n",
      " *******\n",
      "*********\n"
     ]
    }
   ],
   "source": [
    "##Christmas tree\n",
    "n=5\n",
    "for a in range (n):\n",
    "    for b in range (n-a-1):\n",
    "        print(\" \",end=\"\")\n",
    "    for b in range (2*a+1):\n",
    "        print(\"*\",end=\"\")\n",
    "    print (\"\\r\")"
   ]
  },
  {
   "cell_type": "code",
   "execution_count": 122,
   "id": "ef0cc20e-5d66-46c1-b7fa-d2f9be7a0cb7",
   "metadata": {},
   "outputs": [
    {
     "name": "stdout",
     "output_type": "stream",
     "text": [
      "***********\n",
      " *********\n",
      "  *******\n",
      "   *****\n",
      "    ***\n",
      "     *\n"
     ]
    }
   ],
   "source": [
    "##Water image of christmas tree\n",
    "n=5\n",
    "y=4\n",
    "for a in range (n,-1,-1):\n",
    "    for b in range (n-y-1):\n",
    "        print(\" \",end=\"\")\n",
    "    for b in range (2*a+1):\n",
    "        print(\"*\",end=\"\")\n",
    "    y=y-1\n",
    "    print(\"\\r\")"
   ]
  },
  {
   "cell_type": "code",
   "execution_count": 80,
   "id": "fbd6d82e-b15c-4364-94cc-17d997ffdf55",
   "metadata": {},
   "outputs": [
    {
     "name": "stdout",
     "output_type": "stream",
     "text": [
      "*      \n",
      "***    \n",
      "*****  \n",
      "*******\n",
      "*********\n",
      "***********\n"
     ]
    }
   ],
   "source": [
    "n=6\n",
    "for a in range (n):\n",
    "    for b in range (2*a+1):\n",
    "        print(\"*\",end=\"\")\n",
    "    for b in range (n-2*a):\n",
    "        print(\" \",end=\"\")\n",
    "    print(\"\\r\")"
   ]
  },
  {
   "cell_type": "code",
   "execution_count": 79,
   "id": "73131bd3-b84f-4626-8692-76b88db922b4",
   "metadata": {},
   "outputs": [
    {
     "name": "stdout",
     "output_type": "stream",
     "text": [
      "0\n",
      "1\n",
      "2\n",
      "3\n",
      "4\n",
      "5\n"
     ]
    }
   ],
   "source": [
    "n=6\n",
    "for a in range (n):\n",
    "    print(a)"
   ]
  },
  {
   "cell_type": "code",
   "execution_count": 82,
   "id": "8c17be31-ff19-469d-b7c1-a0a9850df9a1",
   "metadata": {},
   "outputs": [
    {
     "name": "stdout",
     "output_type": "stream",
     "text": [
      "********************************************************"
     ]
    }
   ],
   "source": [
    "n=8\n",
    "for a in range (n,4,-1):\n",
    "    for b in range (2*a+1):\n",
    "        print(\"*\",end=\"\")"
   ]
  },
  {
   "cell_type": "code",
   "execution_count": 107,
   "id": "e1cbabb0-b19c-4ea4-9078-99e50534fb8c",
   "metadata": {},
   "outputs": [],
   "source": [
    "for a in range(-5):\n",
    "    print(a)"
   ]
  },
  {
   "cell_type": "code",
   "execution_count": 118,
   "id": "85ea5de1-5447-47fe-a7e2-84122ac2eadc",
   "metadata": {},
   "outputs": [
    {
     "name": "stdout",
     "output_type": "stream",
     "text": [
      "    *\n",
      "   ***\n",
      "  *****\n",
      " *******\n",
      "*********\n"
     ]
    }
   ],
   "source": [
    "n=5\n",
    "for a in range(n):\n",
    "    for b in range (n-a-1):\n",
    "        print(\" \",end=\"\")\n",
    "    for b in range (2*a+1):\n",
    "        print(\"*\",end=\"\")\n",
    "    print(\"\\r\")"
   ]
  },
  {
   "cell_type": "code",
   "execution_count": null,
   "id": "3b456d47-8ed3-4fd2-8469-9df276cf7a8c",
   "metadata": {},
   "outputs": [],
   "source": []
  }
 ],
 "metadata": {
  "kernelspec": {
   "display_name": "Python 3 (ipykernel)",
   "language": "python",
   "name": "python3"
  },
  "language_info": {
   "codemirror_mode": {
    "name": "ipython",
    "version": 3
   },
   "file_extension": ".py",
   "mimetype": "text/x-python",
   "name": "python",
   "nbconvert_exporter": "python",
   "pygments_lexer": "ipython3",
   "version": "3.10.8"
  }
 },
 "nbformat": 4,
 "nbformat_minor": 5
}
