{
 "cells": [
  {
   "cell_type": "code",
   "execution_count": 43,
   "id": "aa680113",
   "metadata": {},
   "outputs": [],
   "source": [
    "'''You are writing code for a company. The requirement of the company is that you create a python\n",
    "function that will check whether the password entered by the user is correct or not. The function should\n",
    "take the password as input and return the string “Valid Password” if the entered password follows the\n",
    "below-given password guidelines else it should return “Invalid Password”.\n",
    "Note: 1. The Password should contain at least two uppercase letters and at least two lowercase letters.\n",
    "2. The Password should contain at least a number and three special characters.\n",
    "3. The length of the password should be 10 characters long.'''\n",
    "\n",
    "def password():\n",
    "    password=input(\"Entre your password : \")\n",
    "    number_count=0\n",
    "    number_special=0\n",
    "    number_upper=0\n",
    "    number_lower=0\n",
    "    if len(password)==10:\n",
    "        for i in password:\n",
    "            if i.isdigit():\n",
    "                number_count+=1\n",
    "            elif i.isupper():\n",
    "                number_upper+=1\n",
    "            elif i.islower():\n",
    "                number_lower+=1\n",
    "            else:\n",
    "                number_special+=1\n",
    "    if number_count>=1 and number_upper>=2 and number_lower>=2 and number_special==3:\n",
    "        print(\"Valid Password\")\n",
    "    else: \n",
    "        print(\"Invalid Password\")        "
   ]
  },
  {
   "cell_type": "code",
   "execution_count": 45,
   "id": "61424217",
   "metadata": {},
   "outputs": [
    {
     "name": "stdout",
     "output_type": "stream",
     "text": [
      "Entre your password : @rpIT!@341\n",
      "Valid Password\n"
     ]
    }
   ],
   "source": [
    "xyz=password()"
   ]
  },
  {
   "cell_type": "code",
   "execution_count": null,
   "id": "f6b5d896",
   "metadata": {},
   "outputs": [],
   "source": [
    "x=\"Harshit\""
   ]
  },
  {
   "cell_type": "code",
   "execution_count": 1,
   "id": "3620a5da",
   "metadata": {},
   "outputs": [],
   "source": [
    "x.startswith"
   ]
  },
  {
   "cell_type": "code",
   "execution_count": 53,
   "id": "751c4d8d",
   "metadata": {},
   "outputs": [],
   "source": [
    "'''Q2. Solve the below-given questions using at least one of the following:\n",
    "A. Lambda function\n",
    "B. Filter function\n",
    "C. Map function\n",
    "D. List Comprehension\n",
    "        1.) Check if the string starts with a particular letter\n",
    "        2.) Check if the string is numeric\n",
    "        3.) Sort a list of tuples having fruit names and their quantity. [(\"mango\",99),(\"orange\",80), (\"grapes\", 1000)-\n",
    "        4.) Find the squares of numbers from 1 to 10\n",
    "        5.) Find the cube root of numbers from 1 to 10\n",
    "        6.) Check if a given number is even\n",
    "        7.) Filter odd numbers from the given list.\n",
    "            [1,2,3,4,5,6,7,8,9,10]\n",
    "        8.) Sort a list of integers into positive and negative integers lists.\n",
    "            [1,2,3,4,5,6,-1,-2,-3,-4,-5,0]'''"
   ]
  },
  {
   "cell_type": "code",
   "execution_count": 136,
   "id": "43048a74",
   "metadata": {},
   "outputs": [
    {
     "name": "stdout",
     "output_type": "stream",
     "text": [
      "Entre your string : A1345R346\n"
     ]
    },
    {
     "data": {
      "text/plain": [
       "['A1345R346']"
      ]
     },
     "execution_count": 136,
     "metadata": {},
     "output_type": "execute_result"
    }
   ],
   "source": [
    "### 1.) Check if the string starts with a particular letter\n",
    "x=input(\"Entre your string : \")\n",
    "[x if x[0].isalpha() else \"Sorry string is not started with a particular letter\"]"
   ]
  },
  {
   "cell_type": "code",
   "execution_count": 110,
   "id": "a60598c2",
   "metadata": {},
   "outputs": [
    {
     "data": {
      "text/plain": [
       "['25353673']"
      ]
     },
     "execution_count": 110,
     "metadata": {},
     "output_type": "execute_result"
    }
   ],
   "source": [
    "### 2.) Check if the string is numeric\n",
    "x=\"25353673\"\n",
    "[x if x.isnumeric() else \"String is not numberic\"] "
   ]
  },
  {
   "cell_type": "code",
   "execution_count": 84,
   "id": "d939f07b",
   "metadata": {},
   "outputs": [
    {
     "data": {
      "text/plain": [
       "[('orange', 80), ('mango', 99), ('grapes', 1000)]"
      ]
     },
     "execution_count": 84,
     "metadata": {},
     "output_type": "execute_result"
    }
   ],
   "source": [
    "### 3.) Sort a list of tuples having fruit names and their quantity. [(\"mango\",99),(\"orange\",80),(\"grapes\", 1000)]\n",
    "l1=[(\"mango\",99),(\"orange\",80),(\"grapes\", 1000)]\n",
    "sorted(l1, key=lambda x: x[1])"
   ]
  },
  {
   "cell_type": "code",
   "execution_count": 57,
   "id": "3801571b",
   "metadata": {},
   "outputs": [],
   "source": [
    "### 4.) Find the squares of numbers from 1 to 10\n",
    "        \n",
    "a=lambda x : [i**2 for i in range(11) if i > 0]"
   ]
  },
  {
   "cell_type": "code",
   "execution_count": 54,
   "id": "62d2c5fc",
   "metadata": {},
   "outputs": [
    {
     "data": {
      "text/plain": [
       "[1, 4, 9, 16, 25, 36, 49, 64, 81, 100]"
      ]
     },
     "execution_count": 54,
     "metadata": {},
     "output_type": "execute_result"
    }
   ],
   "source": [
    "a([1,2,3,4,5,6,7,8,9,10])"
   ]
  },
  {
   "cell_type": "code",
   "execution_count": 141,
   "id": "6b6e4247",
   "metadata": {},
   "outputs": [],
   "source": [
    "### Find the cube root of numbers from 1 to 10\n",
    "x=[1,2,3,4,5,6,7,8,9,10]\n",
    "a=lambda x: [i**(1/3) for i in x]"
   ]
  },
  {
   "cell_type": "code",
   "execution_count": 144,
   "id": "cefb54c4",
   "metadata": {},
   "outputs": [
    {
     "data": {
      "text/plain": [
       "[1.0,\n",
       " 1.2599210498948732,\n",
       " 1.4422495703074083,\n",
       " 1.5874010519681994,\n",
       " 1.7099759466766968,\n",
       " 1.8171205928321397,\n",
       " 1.912931182772389,\n",
       " 2.0,\n",
       " 2.080083823051904,\n",
       " 2.154434690031884]"
      ]
     },
     "execution_count": 144,
     "metadata": {},
     "output_type": "execute_result"
    }
   ],
   "source": [
    "a(x)"
   ]
  },
  {
   "cell_type": "code",
   "execution_count": 67,
   "id": "4d06ab1e",
   "metadata": {},
   "outputs": [],
   "source": [
    "### 6.) Check if a given number is even\n",
    "a=lambda x : x if x%2==0 else \"Number is odd\""
   ]
  },
  {
   "cell_type": "code",
   "execution_count": 68,
   "id": "e1d2598e",
   "metadata": {},
   "outputs": [
    {
     "data": {
      "text/plain": [
       "'Number is odd'"
      ]
     },
     "execution_count": 68,
     "metadata": {},
     "output_type": "execute_result"
    }
   ],
   "source": [
    "a(3)"
   ]
  },
  {
   "cell_type": "code",
   "execution_count": 71,
   "id": "73b9180b",
   "metadata": {},
   "outputs": [],
   "source": [
    "''' 7.) Filter odd numbers from the given list.\n",
    "            [1,2,3,4,5,6,7,8,9,10]'''\n",
    "lst1=[1,2,3,4,5,6,7,8,9,10]\n",
    "a=list(filter((lambda x : x%2!=0),lst1))"
   ]
  },
  {
   "cell_type": "code",
   "execution_count": 72,
   "id": "a3c9f008",
   "metadata": {},
   "outputs": [
    {
     "name": "stdout",
     "output_type": "stream",
     "text": [
      "[1, 3, 5, 7, 9]\n"
     ]
    }
   ],
   "source": [
    "print(a)"
   ]
  },
  {
   "cell_type": "code",
   "execution_count": 79,
   "id": "4f3ed7b1",
   "metadata": {},
   "outputs": [
    {
     "name": "stdout",
     "output_type": "stream",
     "text": [
      "[-5, -4, -3, -2, -1, 0, 1, 2, 3, 4, 5, 6]\n"
     ]
    }
   ],
   "source": [
    "''' 8.) Sort a list of integers into positive and negative integers lists.\n",
    "            [1,2,3,4,5,6,-1,-2,-3,-4,-5,0]'''\n",
    "lst1=[1,2,3,4,5,6,-1,-2,-3,-4,-5,0]\n",
    "a=sorted(lst1)\n",
    "print(a)"
   ]
  },
  {
   "cell_type": "code",
   "execution_count": 132,
   "id": "79a7517d",
   "metadata": {},
   "outputs": [],
   "source": [
    "x=\"1arshit\""
   ]
  },
  {
   "cell_type": "code",
   "execution_count": 133,
   "id": "d3b4a068",
   "metadata": {},
   "outputs": [
    {
     "name": "stdout",
     "output_type": "stream",
     "text": [
      "Sorry\n"
     ]
    }
   ],
   "source": [
    "if x[0].isalpha():\n",
    "    print(x)\n",
    "else:\n",
    "    print (\"Sorry\")"
   ]
  }
 ],
 "metadata": {
  "kernelspec": {
   "display_name": "Python 3 (ipykernel)",
   "language": "python",
   "name": "python3"
  },
  "language_info": {
   "codemirror_mode": {
    "name": "ipython",
    "version": 3
   },
   "file_extension": ".py",
   "mimetype": "text/x-python",
   "name": "python",
   "nbconvert_exporter": "python",
   "pygments_lexer": "ipython3",
   "version": "3.10.9"
  }
 },
 "nbformat": 4,
 "nbformat_minor": 5
}
