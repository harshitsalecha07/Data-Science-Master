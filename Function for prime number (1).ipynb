{
 "cells": [
  {
   "cell_type": "code",
   "execution_count": 46,
   "id": "ccf8570c",
   "metadata": {},
   "outputs": [],
   "source": [
    "def prime(n):\n",
    "    if n<0:\n",
    "        return(\"Negative integers cannot be prime. Prime numbers are those numbers that are divisible by themselves and 1.\")\n",
    "    if n>=0:\n",
    "        import math\n",
    "        a=int(math.sqrt(n))\n",
    "        b=a+1\n",
    "        x=1\n",
    "        if n==0:\n",
    "            return (\"0 is neither prime nor composite\")\n",
    "        if n==1:\n",
    "            return (\"1 is not a prime number\")\n",
    "        elif n==2:\n",
    "            return (\"2 is a prime number\")\n",
    "        elif n>2:\n",
    "            for i in range(b):\n",
    "                if i>=2:\n",
    "                    if n%i==0:\n",
    "                        x=0\n",
    "                        break\n",
    "            if x==0:\n",
    "                return(\"Your number is not prime\")\n",
    "            else:\n",
    "                return(\"Your number is prime\")"
   ]
  },
  {
   "cell_type": "code",
   "execution_count": 49,
   "id": "4d0cb345",
   "metadata": {},
   "outputs": [
    {
     "name": "stdout",
     "output_type": "stream",
     "text": [
      "Entre Your number : 321\n",
      "Your number is not prime\n"
     ]
    }
   ],
   "source": [
    "n=int(input(\"Entre Your number : \"))\n",
    "print(prime(n))"
   ]
  },
  {
   "cell_type": "code",
   "execution_count": null,
   "id": "1c3ecdc2",
   "metadata": {},
   "outputs": [],
   "source": []
  }
 ],
 "metadata": {
  "kernelspec": {
   "display_name": "Python 3 (ipykernel)",
   "language": "python",
   "name": "python3"
  },
  "language_info": {
   "codemirror_mode": {
    "name": "ipython",
    "version": 3
   },
   "file_extension": ".py",
   "mimetype": "text/x-python",
   "name": "python",
   "nbconvert_exporter": "python",
   "pygments_lexer": "ipython3",
   "version": "3.10.9"
  }
 },
 "nbformat": 4,
 "nbformat_minor": 5
}
