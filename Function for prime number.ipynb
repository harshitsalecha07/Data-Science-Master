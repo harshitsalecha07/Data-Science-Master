{
 "cells": [
  {
   "cell_type": "code",
   "execution_count": 1,
   "id": "fc315af8",
   "metadata": {},
   "outputs": [],
   "source": [
    "def prime(n):\n",
    "    import math\n",
    "    a=int(math.sqrt(n))\n",
    "    b=a+1\n",
    "    x=1\n",
    "    for i in range(b):\n",
    "        if i>=2:\n",
    "            if n%i==0:\n",
    "                x=0\n",
    "                break\n",
    "    if x==0:\n",
    "        return(\"Your number is not prime\")\n",
    "    else:\n",
    "        return(\"Your number is prime\")"
   ]
  },
  {
   "cell_type": "code",
   "execution_count": 2,
   "id": "2b38f1b9",
   "metadata": {},
   "outputs": [
    {
     "name": "stdout",
     "output_type": "stream",
     "text": [
      "Entre Your number : 13\n",
      "Your number is prime\n"
     ]
    }
   ],
   "source": [
    "n=int(input(\"Entre Your number : \"))\n",
    "print(prime(n))"
   ]
  }
 ],
 "metadata": {
  "kernelspec": {
   "display_name": "Python 3 (ipykernel)",
   "language": "python",
   "name": "python3"
  },
  "language_info": {
   "codemirror_mode": {
    "name": "ipython",
    "version": 3
   },
   "file_extension": ".py",
   "mimetype": "text/x-python",
   "name": "python",
   "nbconvert_exporter": "python",
   "pygments_lexer": "ipython3",
   "version": "3.10.9"
  }
 },
 "nbformat": 4,
 "nbformat_minor": 5
}
