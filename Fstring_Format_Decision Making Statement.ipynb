{
 "cells": [
  {
   "cell_type": "code",
   "execution_count": 1,
   "id": "4b206703-665c-4999-9c21-78567354a5ef",
   "metadata": {},
   "outputs": [
    {
     "name": "stdout",
     "output_type": "stream",
     "text": [
      "Hello world\n"
     ]
    }
   ],
   "source": [
    "print (\"Hello world\")"
   ]
  },
  {
   "cell_type": "code",
   "execution_count": 9,
   "id": "daecde41-2be7-4d24-92dd-52224250d8a4",
   "metadata": {},
   "outputs": [],
   "source": [
    "Name='Harshit Salecha'\n",
    "FName=\"Sagar Salecha\"\n",
    "MName=\"Sadhana Salecha\"\n",
    "BName=\"Arpit Salecha\"\n",
    "SName=\"Abhilasha Salecha\"\n",
    "Exp=20\n",
    "Com=\"Embibe\"\n",
    "Graduation=\"B.SC\"\n",
    "College=\"Subodh\"\n",
    "Salary=7.8 "
   ]
  },
  {
   "cell_type": "code",
   "execution_count": 4,
   "id": "51f4a447-0690-4812-a9c2-084f8e636190",
   "metadata": {},
   "outputs": [
    {
     "name": "stdout",
     "output_type": "stream",
     "text": [
      "My experience is : 20 years\n"
     ]
    }
   ],
   "source": [
    "print(f\"My experience is : {Exp} years\")"
   ]
  },
  {
   "cell_type": "code",
   "execution_count": 10,
   "id": "288499aa-f24e-41ee-894a-b1842050d1a0",
   "metadata": {},
   "outputs": [
    {
     "name": "stdout",
     "output_type": "stream",
     "text": [
      "My name is Harshit Salecha, My father's name is Sagar Salecha, My mother's name is Sadhana Salecha, My brother's name Arpit Salecha,My sister's in law's name is Abhilasha Salecha.Currently I'm working in Embibe,I have 20 years of experience and my current package is 7.8 LPA\n"
     ]
    }
   ],
   "source": [
    "print(\"My name is {}, My father's name is {}, My mother's name is {}, My brother's name {},My sister's in law's name is {}.Currently I'm working in {},I have {} years of experience and my current package is {} LPA\".format(Name,FName,MName,BName,SName,Com,Exp,Salary))"
   ]
  },
  {
   "cell_type": "code",
   "execution_count": 13,
   "id": "140e276e-6f12-4f08-a85c-10193600ce3e",
   "metadata": {},
   "outputs": [
    {
     "name": "stdout",
     "output_type": "stream",
     "text": [
      "My name is Harshit Salecha, I have 20 years and My father's name is Sagar Salecha\n"
     ]
    }
   ],
   "source": [
    "print(\"My name is {selfname}, I have {Experience} years and My father's name is {Fathername}\".format(Experience=Exp, selfname=Name, Fathername=FName))"
   ]
  },
  {
   "cell_type": "code",
   "execution_count": 14,
   "id": "eaa7cc0f-de5c-41a6-b7b2-6b209840a45e",
   "metadata": {},
   "outputs": [
    {
     "name": "stdout",
     "output_type": "stream",
     "text": [
      "My name is Harshit Salecha, My father's name is Sagar Salecha, My mother's name is Sadhana Salecha, My brother's name Arpit Salecha,My sister's in law's name is Abhilasha Salecha.Currently I'm working in Embibe,I have 20 years of experience and my current package is 7.8 LPA\n"
     ]
    }
   ],
   "source": [
    "print(f\"My name is {Name}, My father's name is {FName}, My mother's name is {MName}, My brother's name {BName},My sister's in law's name is {SName}.Currently I'm working in {Com},I have {Exp} years of experience and my current package is {Salary} LPA\")"
   ]
  },
  {
   "cell_type": "code",
   "execution_count": 25,
   "id": "e642bb5d-cf09-40e6-98fe-6cbe7cd3e542",
   "metadata": {},
   "outputs": [
    {
     "name": "stdin",
     "output_type": "stream",
     "text": [
      "Enter your age :  12\n"
     ]
    },
    {
     "name": "stdout",
     "output_type": "stream",
     "text": [
      "Thank you, your application is rejected\n"
     ]
    }
   ],
   "source": [
    "age=int(input(\"Enter your age : \"))\n",
    "if age>=18 and age<=45:\n",
    "    print(\"You are young blood\")\n",
    "else:\n",
    "    print(\"Thank you, your application is rejected\")"
   ]
  },
  {
   "cell_type": "code",
   "execution_count": 27,
   "id": "a8f244eb-111c-47f9-9d73-47632e9648c0",
   "metadata": {},
   "outputs": [
    {
     "name": "stdin",
     "output_type": "stream",
     "text": [
      "Enter the product price (Rs.) :  1200\n"
     ]
    },
    {
     "name": "stdout",
     "output_type": "stream",
     "text": [
      "Now, your product price after the 20% discount is : Rs.  960.0\n"
     ]
    }
   ],
   "source": [
    "PPrice=int(input(\"Enter the product price (Rs.) : \"))\n",
    "if PPrice>1000:\n",
    "    SP=PPrice*((100-20)/100)\n",
    "    print(\"Now, your product price after the 20% discount is : Rs. \",SP)\n",
    "else:\n",
    "    SP=PPrice*((100-30)/100)\n",
    "    print(\"Now, your product price after the 30% discount is : Rs. \",SP)"
   ]
  },
  {
   "cell_type": "code",
   "execution_count": 40,
   "id": "42e302c3-2008-4979-b334-9a5d88a79221",
   "metadata": {},
   "outputs": [
    {
     "name": "stdin",
     "output_type": "stream",
     "text": [
      "Enter the product price (Rs.) :  4000\n"
     ]
    },
    {
     "name": "stdout",
     "output_type": "stream",
     "text": [
      "Congratulation, You will get a trip to Goa\n",
      "Now, your product price after the 20% discount is : Rs. 3200.0\n",
      "Your discounted amount is : Rs. 800.0\n"
     ]
    }
   ],
   "source": [
    "PPrice=int(input(\"Enter the product price (Rs.) : \"))\n",
    "if PPrice>3000:\n",
    "    if PPrice==4000:\n",
    "        print(\"Congratulation, You will get a trip to Goa\")\n",
    "    print(\"Now, your product price after the 20% discount is : Rs. {}\".format(PPrice-PPrice*0.2))\n",
    "    print(\"Your discounted amount is : Rs. {}\".format(PPrice*0.2))\n",
    "elif PPrice>=2000 and PPrice<=3000:\n",
    "    if PPrice==2999:\n",
    "        print(\"Congratulation, You will get an addition Gifts\")\n",
    "    print(\"Now, your product price after the 30% discount is : Rs. {}\".format(PPrice-PPrice*0.3))\n",
    "    print(\"Your discounted amount is : Rs. {}\".format(PPrice*0.3)) \n",
    "else:\n",
    "    print(\"Now, your product price after the 40% discount is : Rs.{}\".format(PPrice-PPrice*0.4))\n",
    "    print(\"Your discounted amount is : Rs. {}\".format(PPrice*0.4))"
   ]
  },
  {
   "cell_type": "code",
   "execution_count": null,
   "id": "daf23268-3420-4dac-8ed7-9d23c6faa712",
   "metadata": {},
   "outputs": [],
   "source": []
  },
  {
   "cell_type": "code",
   "execution_count": null,
   "id": "12806ab0-24f1-406c-bec7-aa61c8a92456",
   "metadata": {},
   "outputs": [],
   "source": []
  }
 ],
 "metadata": {
  "kernelspec": {
   "display_name": "Python 3 (ipykernel)",
   "language": "python",
   "name": "python3"
  },
  "language_info": {
   "codemirror_mode": {
    "name": "ipython",
    "version": 3
   },
   "file_extension": ".py",
   "mimetype": "text/x-python",
   "name": "python",
   "nbconvert_exporter": "python",
   "pygments_lexer": "ipython3",
   "version": "3.10.8"
  }
 },
 "nbformat": 4,
 "nbformat_minor": 5
}
