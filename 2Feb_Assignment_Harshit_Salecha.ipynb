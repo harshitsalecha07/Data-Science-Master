{
 "cells": [
  {
   "cell_type": "markdown",
   "id": "c1ce40cd",
   "metadata": {},
   "source": [
    "#### Q1. What are the characteristics of the tuples? Is tuple immutable?"
   ]
  },
  {
   "cell_type": "markdown",
   "id": "118ffeb3",
   "metadata": {},
   "source": [
    "### Solution:\n",
    "###### In Python, a tuple is an ordered collection of elements, which can be of any data type. Tuples are defined using parentheses () and separated by commas.\n",
    "###### The key characteristics of tuples are:\n",
    "###### 1.) Tuples are immutable: Once a tuple is created, its elements cannot be modified. However, you can create a new tuple by concatenating two or more tuples together.\n",
    "###### 2.) Tuples can contain elements of different data types: You can have a tuple that contains elements of different data types, such as strings, numbers, and booleans.\n",
    "###### 3.) Tuples are ordered: The order of elements in a tuple is preserved and each element can be accessed by its index.\n",
    "###### 4.) Tuples can be nested: You can create tuples that contain other tuples as elements, making them a useful data structure for representing hierarchical data.\n",
    "###### 5.) Tuples are hashable: Tuples are hashable, which means they can be used as keys in dictionaries and elements in sets.\n",
    "###### So, we can say that, yes, tuples are immutable in Python. Once a tuple is created, its elements cannot be modified.\n"
   ]
  },
  {
   "cell_type": "markdown",
   "id": "3c2ebb62",
   "metadata": {},
   "source": [
    "### Q2. What are the two tuple methods in python? Give an example of each method. Give a reason why tuples have only two in-built methods as compared to Lists.\n",
    "### Solution:\n",
    "###### In Python, there are two built-in methods for tuples:\n",
    "###### Count() Method \t2.) Index() Method\n",
    "###### 1.) count() method: This method returns the number of times a specified element appears in a tuple.\n",
    "###### Example: T1=(1,2,3,5,4,3,5,3,5,7,8,4,6)\n",
    "###### T1.count(3)\n",
    "###### Output: 3\n",
    "\n",
    "###### 2.) index() method: This method returns the index of the first occurrence of a specified element in a tuple.\n",
    "###### Example: T2=(“Apple”,”Banana”,”Mango”,”Grapes”)\n",
    "###### T1.count(“Grapes”)\n",
    "###### Output: 3\n",
    "###### The reason tuples have only two built-in methods compared to lists is because tuples are designed to be immutable, meaning they cannot be changed once created. As a result, there is no need for methods that modify the contents of a tuple, such as append() or remove(), which are available in lists. The two methods provided for tuples are useful for working with immutable data structures, such as finding the index of an element or counting the occurrences of an element, without changing the tuple itself.\n"
   ]
  },
  {
   "cell_type": "markdown",
   "id": "3930b20e",
   "metadata": {},
   "source": [
    "### Q3. Which collection datatypes in python do not allow duplicate items? Write a code using a set to remove duplicates from the given list.\n",
    "### List = [1, 1, 1, 2, 1, 3, 1, 4, 2, 1, 2, 2, 2, 3, 2, 4, 3, 1, 3, 2, 3, 3, 3, 4, 4, 1, 4, 2, 4, 3, 4, 4]\n",
    "### Solution:\n",
    "###### In Python, the set collection data type does not allow duplicates. A set is an unordered collection of unique elements. When you create a set, any duplicate elements are automatically removed. This means that each element in a set must be unique.\n",
    "\n",
    "###### List1=[1,1,1,2,1,3,1,4,2,1,2,2,2,3,2,4,3,1,3,2,3,3,3,4,4,1,4,2,4,3,4,4]\n",
    "###### set(List1)\n",
    "\n",
    "###### Output: {1,2,3,4}\n"
   ]
  },
  {
   "cell_type": "markdown",
   "id": "4ecbd179",
   "metadata": {},
   "source": [
    "### Q4. Explain the difference between the union() and update() methods for a set. Give an example of each method.\n",
    "### Solution:\n",
    "###### In Python, union() and update() are both methods of the set collection that are used to combine two or more sets. The key difference between the two methods is that union() creates a new set that contains all the elements from the original sets, whereas update() modifies an existing set by adding all the elements from the other sets to it.\n",
    "###### Here are examples of each method:\n",
    "###### union() method:\n",
    "###### set1 = {1, 2, 3}\n",
    "###### set2 = {3, 4, 5}\n",
    "###### set3 = set1.union(set2)\n",
    "###### print(set3) \n",
    "###### Output: {1,2,3,4,5}\n",
    "###### update() method:\n",
    "###### set1 = {1, 2, 3}\n",
    "###### set2 = {3, 4, 5}\n",
    "###### set1.update(set2)\n",
    "###### print(set1) \n",
    "###### Output: {1,2,3,4,5}\n",
    "\n",
    "### Q5. What is a dictionary? Give an example. Also, state whether a dictionary is ordered or unordered.\n",
    "### Solution:\n",
    "###### In Python, a dictionary is a collection of key-value pairs, where each key is unique and associated with a value. Dictionaries are denoted by curly braces {} and each key-value pair is separated by a colon :. The keys in a dictionary must be immutable data types, such as strings or numbers, while the values can be any type of object.\n",
    "\n",
    "###### Here is an example of a dictionary:\n",
    "###### dict1 = {'apple': 2, 'banana': 4, 'orange': 3}\n",
    "\n",
    "###### Dictionaries in Python are unordered, meaning that the items in a dictionary do not have a specific order. The order in which the items are inserted into the dictionary is not guaranteed to be the same as the order in which they are retrieved.\n",
    "\n",
    "### Q6. Can we create a nested dictionary? If so, please give an example by creating a simple one-level nested dictionary.\n",
    "### Solution:\n",
    "###### Yes, in Python, we can create nested dictionaries where a dictionary can have another dictionary as its value. A nested dictionary is useful when we need to store data in a hierarchical format. \n",
    "###### Here is an example of a simple one-level nested dictionary:\n",
    "###### dic1={\"Name\":{\"Employee_Name1\":\"Harshit\", \"Employee_Name2\": \"Rohit\",\"Employee_Name3\": \"Ritesh\"},\"Experience\":{\"Harshit\": 3, \"Rohit\": 6, \"Ritesh\": 4}}\n",
    "\n",
    "### Q7.) Using setdefault() method, create key named topics in the given dictionary and also add the value of the key as this list ['Python', 'Machine Learning’, 'Deep Learning']\n",
    "### dict1 = {'language' : 'Python', 'course': 'Data Science Masters'}\n",
    "\n",
    "### Solution:\n",
    "###### dict1 = {'language': 'Python', 'course': 'Data Science Masters'}\n",
    "topics_list = ['Python', 'Machine Learning', 'Deep Learning']\n",
    "\n",
    "###### #add a new key 'topics' with value 'topics_list' using setdefault()\n",
    "###### dict1.setdefault('topics', topics_list)\n",
    "\n",
    "###### print(dict1)  \n",
    "###### #Output: {'language': 'Python', 'course': 'Data Science Masters', 'topics': ['Python', 'Machine Learning', 'Deep Learning']}\n",
    "\n",
    "\n",
    "### Q8. What are the three view objects in dictionaries? Use the three in-built methods in python to display these three view objects for the given dictionary.\n",
    "### dict1 = {'Sport': 'Cricket' , 'Teams': ['India', 'Australia', 'England', 'South Africa', 'Sri Lanka', 'New Zealand']}\n",
    "\n",
    "### Solution:\n",
    "###### In Python, dictionaries have three view objects, which are essentially dynamic views on the dictionary's keys, values, and key-value pairs. These views reflect any changes made to the dictionary, as they are updated dynamically. The three view objects are:\n",
    "\n",
    "###### dict_keys: This view object contains the keys of the dictionary.\n",
    "###### dict_values: This view object contains the values of the dictionary.\n",
    "###### dict_items: This view object contains the key-value pairs of the dictionary.\n",
    "###### Here is an example of how to display these view objects for the given dictionary:\n",
    "\n",
    "###### dict1 = {'Sport': 'Cricket', 'Teams': ['India', 'Australia', 'England', 'South Africa', 'Sri Lanka', 'New Zealand']}\n",
    "###### # get the view object for keys\n",
    "###### keys_view = dict1.keys()\n",
    "###### print(keys_view) # output: dict_keys(['Sport', 'Teams'])\n",
    "\n",
    "###### # get the view object for values\n",
    "###### values_view = dict1.values()\n",
    "###### print(values_view) # output: dict_values(['Cricket', ['India', 'Australia', 'England', 'South Africa', 'Sri Lanka', 'New Zealand']])\n",
    "\n",
    "###### # get the view object for key-value pairs\n",
    "###### items_view = dict1.items()\n",
    "###### print(items_view) \n",
    "###### # output: dict_items([('Sport', 'Cricket'), ('Teams', ['India', 'Australia', 'England', 'South Africa', 'Sri Lanka', 'New Zealand'])])"
   ]
  },
  {
   "cell_type": "code",
   "execution_count": null,
   "id": "1073cd21",
   "metadata": {},
   "outputs": [],
   "source": []
  }
 ],
 "metadata": {
  "kernelspec": {
   "display_name": "Python 3 (ipykernel)",
   "language": "python",
   "name": "python3"
  },
  "language_info": {
   "codemirror_mode": {
    "name": "ipython",
    "version": 3
   },
   "file_extension": ".py",
   "mimetype": "text/x-python",
   "name": "python",
   "nbconvert_exporter": "python",
   "pygments_lexer": "ipython3",
   "version": "3.10.9"
  }
 },
 "nbformat": 4,
 "nbformat_minor": 5
}
